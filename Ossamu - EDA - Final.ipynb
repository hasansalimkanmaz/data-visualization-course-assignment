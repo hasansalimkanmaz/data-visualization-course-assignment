{
 "cells": [
  {
   "cell_type": "code",
   "execution_count": 1,
   "metadata": {
    "ExecuteTime": {
     "end_time": "2021-05-26T01:19:34.066188Z",
     "start_time": "2021-05-26T01:19:31.454342Z"
    }
   },
   "outputs": [],
   "source": [
    "import numpy as np\n",
    "import pandas as pd\n",
    "import os\n",
    "import seaborn as sns\n",
    "import matplotlib.pyplot as plt\n",
    "from sklearn.preprocessing import MinMaxScaler\n",
    "\n",
    "pd.options.display.max_columns = None"
   ]
  },
  {
   "cell_type": "markdown",
   "metadata": {},
   "source": [
    "## Importings"
   ]
  },
  {
   "cell_type": "code",
   "execution_count": 2,
   "metadata": {
    "ExecuteTime": {
     "end_time": "2021-05-26T01:19:35.420185Z",
     "start_time": "2021-05-26T01:19:34.100189Z"
    }
   },
   "outputs": [],
   "source": [
    "DATASET_PATH = '../datasets/'\n",
    "\n",
    "df = pd.read_csv(DATASET_PATH + 'df_abt.csv')\n",
    "df_desc = pd.read_excel('Column descriptions.xlsx')\n",
    "df_efa = pd.read_csv('EFA_2.csv')\n",
    "df_wb = pd.read_csv('wellbeing_by_country_3.csv')\n",
    "\n",
    "# create dictionary of column name and its description\n",
    "dict_desc = dict(zip(df_desc['Column Name'], df_desc['Description']))"
   ]
  },
  {
   "cell_type": "markdown",
   "metadata": {},
   "source": [
    "## Vega plots\n",
    "\n",
    "- Datapreps for creating dataframe for vega / vega-lite"
   ]
  },
  {
   "cell_type": "markdown",
   "metadata": {},
   "source": [
    "### Trust aspects"
   ]
  },
  {
   "cell_type": "code",
   "execution_count": 7,
   "metadata": {
    "ExecuteTime": {
     "end_time": "2021-04-19T19:04:02.995977Z",
     "start_time": "2021-04-19T19:04:02.976983Z"
    },
    "scrolled": true
   },
   "outputs": [
    {
     "data": {
      "text/html": [
       "<div>\n",
       "<style scoped>\n",
       "    .dataframe tbody tr th:only-of-type {\n",
       "        vertical-align: middle;\n",
       "    }\n",
       "\n",
       "    .dataframe tbody tr th {\n",
       "        vertical-align: top;\n",
       "    }\n",
       "\n",
       "    .dataframe thead th {\n",
       "        text-align: right;\n",
       "    }\n",
       "</style>\n",
       "<table border=\"1\" class=\"dataframe\">\n",
       "  <thead>\n",
       "    <tr style=\"text-align: right;\">\n",
       "      <th></th>\n",
       "      <th>Column Name</th>\n",
       "      <th>Description</th>\n",
       "      <th>scale</th>\n",
       "      <th>scale description</th>\n",
       "    </tr>\n",
       "  </thead>\n",
       "  <tbody>\n",
       "    <tr>\n",
       "      <th>0</th>\n",
       "      <td>stflife</td>\n",
       "      <td>How satisfied with life as a whole</td>\n",
       "      <td>0-1-2-3-4-…10</td>\n",
       "      <td>10 extremely satisfied</td>\n",
       "    </tr>\n",
       "    <tr>\n",
       "      <th>1</th>\n",
       "      <td>happy</td>\n",
       "      <td>How happy are you</td>\n",
       "      <td>0-1-2-3-4-…10</td>\n",
       "      <td>10 extremely happy</td>\n",
       "    </tr>\n",
       "    <tr>\n",
       "      <th>2</th>\n",
       "      <td>fltsd</td>\n",
       "      <td>Felt sad, how often past week</td>\n",
       "      <td>1-2-3-4</td>\n",
       "      <td>4 most of the time</td>\n",
       "    </tr>\n",
       "    <tr>\n",
       "      <th>3</th>\n",
       "      <td>fltdpr</td>\n",
       "      <td>felt depressed, how often past week</td>\n",
       "      <td>1-2-3-4</td>\n",
       "      <td>4 most of the time</td>\n",
       "    </tr>\n",
       "    <tr>\n",
       "      <th>4</th>\n",
       "      <td>enjlf</td>\n",
       "      <td>Enjoyed life, how often past week</td>\n",
       "      <td>1-2-3-4</td>\n",
       "      <td>4 most of the time</td>\n",
       "    </tr>\n",
       "  </tbody>\n",
       "</table>\n",
       "</div>"
      ],
      "text/plain": [
       "  Column Name                          Description          scale  \\\n",
       "0     stflife   How satisfied with life as a whole  0-1-2-3-4-…10   \n",
       "1       happy                    How happy are you  0-1-2-3-4-…10   \n",
       "2       fltsd        Felt sad, how often past week        1-2-3-4   \n",
       "3      fltdpr  felt depressed, how often past week        1-2-3-4   \n",
       "4       enjlf    Enjoyed life, how often past week        1-2-3-4   \n",
       "\n",
       "        scale description  \n",
       "0  10 extremely satisfied  \n",
       "1      10 extremely happy  \n",
       "2      4 most of the time  \n",
       "3      4 most of the time  \n",
       "4      4 most of the time  "
      ]
     },
     "execution_count": 7,
     "metadata": {},
     "output_type": "execute_result"
    }
   ],
   "source": [
    "df_desc.head()"
   ]
  },
  {
   "cell_type": "code",
   "execution_count": 6,
   "metadata": {
    "ExecuteTime": {
     "end_time": "2021-04-20T12:29:15.566883Z",
     "start_time": "2021-04-20T12:29:15.553880Z"
    }
   },
   "outputs": [],
   "source": [
    "trust_cols = [i for i in df_desc['Description'] if 'trust in' in i.lower()]"
   ]
  },
  {
   "cell_type": "code",
   "execution_count": 7,
   "metadata": {
    "ExecuteTime": {
     "end_time": "2021-04-20T12:29:15.941042Z",
     "start_time": "2021-04-20T12:29:15.934041Z"
    }
   },
   "outputs": [],
   "source": [
    "trust_cols = df_desc[df_desc['Description'].isin(trust_cols)]['Column Name'].tolist()"
   ]
  },
  {
   "cell_type": "code",
   "execution_count": 8,
   "metadata": {
    "ExecuteTime": {
     "end_time": "2021-04-20T12:29:16.240282Z",
     "start_time": "2021-04-20T12:29:16.232281Z"
    }
   },
   "outputs": [],
   "source": [
    "trust_dict = df_desc.loc[df_desc['Column Name'].isin(trust_cols)].set_index('Column Name')['Description'].to_dict()"
   ]
  },
  {
   "cell_type": "code",
   "execution_count": 9,
   "metadata": {
    "ExecuteTime": {
     "end_time": "2021-04-20T12:29:16.491179Z",
     "start_time": "2021-04-20T12:29:16.481178Z"
    },
    "scrolled": true
   },
   "outputs": [],
   "source": [
    "df_trust = df[trust_cols].rename(columns=trust_dict)"
   ]
  },
  {
   "cell_type": "code",
   "execution_count": 10,
   "metadata": {
    "ExecuteTime": {
     "end_time": "2021-04-20T12:29:16.819147Z",
     "start_time": "2021-04-20T12:29:16.772171Z"
    }
   },
   "outputs": [],
   "source": [
    "df_trust = df_trust.stack().to_frame().reset_index().drop(columns=['level_0'])"
   ]
  },
  {
   "cell_type": "code",
   "execution_count": 11,
   "metadata": {
    "ExecuteTime": {
     "end_time": "2021-04-20T12:29:17.067356Z",
     "start_time": "2021-04-20T12:29:17.060357Z"
    }
   },
   "outputs": [],
   "source": [
    "df_trust.columns = ['Trust', 'Values']"
   ]
  },
  {
   "cell_type": "code",
   "execution_count": 12,
   "metadata": {
    "ExecuteTime": {
     "end_time": "2021-04-20T12:29:17.986889Z",
     "start_time": "2021-04-20T12:29:17.966890Z"
    }
   },
   "outputs": [
    {
     "data": {
      "text/html": [
       "<div>\n",
       "<style scoped>\n",
       "    .dataframe tbody tr th:only-of-type {\n",
       "        vertical-align: middle;\n",
       "    }\n",
       "\n",
       "    .dataframe tbody tr th {\n",
       "        vertical-align: top;\n",
       "    }\n",
       "\n",
       "    .dataframe thead th {\n",
       "        text-align: right;\n",
       "    }\n",
       "</style>\n",
       "<table border=\"1\" class=\"dataframe\">\n",
       "  <thead>\n",
       "    <tr style=\"text-align: right;\">\n",
       "      <th></th>\n",
       "      <th>Trust</th>\n",
       "      <th>Values</th>\n",
       "    </tr>\n",
       "  </thead>\n",
       "  <tbody>\n",
       "    <tr>\n",
       "      <th>0</th>\n",
       "      <td>Trust in the European Parliament</td>\n",
       "      <td>2</td>\n",
       "    </tr>\n",
       "    <tr>\n",
       "      <th>1</th>\n",
       "      <td>Trust in the legal system</td>\n",
       "      <td>0</td>\n",
       "    </tr>\n",
       "    <tr>\n",
       "      <th>2</th>\n",
       "      <td>Trust in the police</td>\n",
       "      <td>2</td>\n",
       "    </tr>\n",
       "    <tr>\n",
       "      <th>3</th>\n",
       "      <td>Trust in politicians</td>\n",
       "      <td>0</td>\n",
       "    </tr>\n",
       "    <tr>\n",
       "      <th>4</th>\n",
       "      <td>Trust in country's parliament</td>\n",
       "      <td>0</td>\n",
       "    </tr>\n",
       "  </tbody>\n",
       "</table>\n",
       "</div>"
      ],
      "text/plain": [
       "                              Trust  Values\n",
       "0  Trust in the European Parliament       2\n",
       "1         Trust in the legal system       0\n",
       "2               Trust in the police       2\n",
       "3              Trust in politicians       0\n",
       "4     Trust in country's parliament       0"
      ]
     },
     "execution_count": 12,
     "metadata": {},
     "output_type": "execute_result"
    }
   ],
   "source": [
    "df_trust.head()"
   ]
  },
  {
   "cell_type": "code",
   "execution_count": 13,
   "metadata": {
    "ExecuteTime": {
     "end_time": "2021-04-20T12:29:20.191714Z",
     "start_time": "2021-04-20T12:29:20.155715Z"
    }
   },
   "outputs": [],
   "source": [
    "df_trust = df_trust[~df_trust['Values'].isin(['77', '88', '99'])]"
   ]
  },
  {
   "cell_type": "code",
   "execution_count": 14,
   "metadata": {
    "ExecuteTime": {
     "end_time": "2021-04-20T12:29:22.382406Z",
     "start_time": "2021-04-20T12:29:22.368384Z"
    }
   },
   "outputs": [
    {
     "data": {
      "text/plain": [
       "array([ 2,  0, 10,  8,  5,  7,  1,  9,  6,  4,  3], dtype=int64)"
      ]
     },
     "execution_count": 14,
     "metadata": {},
     "output_type": "execute_result"
    }
   ],
   "source": [
    "df_trust['Values'].unique()"
   ]
  },
  {
   "cell_type": "code",
   "execution_count": 129,
   "metadata": {
    "ExecuteTime": {
     "end_time": "2021-04-19T20:43:31.436142Z",
     "start_time": "2021-04-19T20:43:30.612471Z"
    }
   },
   "outputs": [],
   "source": [
    "df_trust.to_csv('datasets/trust_aspects.csv')"
   ]
  },
  {
   "cell_type": "markdown",
   "metadata": {},
   "source": [
    "**Gist can be found at:** https://gist.github.com/ossamum/94a10bec61d48e0263b026957539ac17"
   ]
  },
  {
   "cell_type": "markdown",
   "metadata": {},
   "source": [
    "### Happiness by country"
   ]
  },
  {
   "cell_type": "code",
   "execution_count": 15,
   "metadata": {
    "ExecuteTime": {
     "end_time": "2021-04-20T12:29:24.497003Z",
     "start_time": "2021-04-20T12:29:24.485023Z"
    }
   },
   "outputs": [],
   "source": [
    "df_country = df[['cntry', 'happy']].copy()"
   ]
  },
  {
   "cell_type": "code",
   "execution_count": 16,
   "metadata": {
    "ExecuteTime": {
     "end_time": "2021-04-20T12:29:24.861389Z",
     "start_time": "2021-04-20T12:29:24.835372Z"
    }
   },
   "outputs": [],
   "source": [
    "df_country = df_country[df_country['happy'] <= 10]"
   ]
  },
  {
   "cell_type": "code",
   "execution_count": 17,
   "metadata": {
    "ExecuteTime": {
     "end_time": "2021-04-20T12:29:25.422918Z",
     "start_time": "2021-04-20T12:29:25.185003Z"
    }
   },
   "outputs": [],
   "source": [
    "from geopy.exc import GeocoderTimedOut\n",
    "from geopy.geocoders import Nominatim\n",
    "from tqdm import tqdm"
   ]
  },
  {
   "cell_type": "code",
   "execution_count": 166,
   "metadata": {
    "ExecuteTime": {
     "end_time": "2021-04-20T00:07:06.917667Z",
     "start_time": "2021-04-20T00:07:06.903658Z"
    }
   },
   "outputs": [],
   "source": [
    "longitude = []\n",
    "latitude = []\n",
    "   \n",
    "# function to find the coordinate of a given city \n",
    "def findGeocode(city):\n",
    "       \n",
    "    # try and catch is used to overcome\n",
    "    # the exception thrown by geolocator\n",
    "    # using geocodertimedout  \n",
    "    try:\n",
    "          \n",
    "        # Specify the user_agent as your\n",
    "        # app name it should not be none\n",
    "        geolocator = Nominatim(user_agent=\"your_app_name\")\n",
    "          \n",
    "        return geolocator.geocode(city)\n",
    "      \n",
    "    except GeocoderTimedOut:\n",
    "          \n",
    "        return findGeocode(city)    \n",
    "  "
   ]
  },
  {
   "cell_type": "code",
   "execution_count": 167,
   "metadata": {
    "ExecuteTime": {
     "end_time": "2021-04-20T00:07:08.292841Z",
     "start_time": "2021-04-20T00:07:08.274868Z"
    }
   },
   "outputs": [],
   "source": [
    "countries = df_country['cntry'].unique().tolist()"
   ]
  },
  {
   "cell_type": "code",
   "execution_count": 156,
   "metadata": {
    "ExecuteTime": {
     "end_time": "2021-04-19T22:52:15.582911Z",
     "start_time": "2021-04-19T22:51:29.081721Z"
    }
   },
   "outputs": [
    {
     "name": "stderr",
     "output_type": "stream",
     "text": [
      "100%|██████████████████████████████████████████████████████████████████████████████████| 29/29 [00:46<00:00,  1.60s/it]\n"
     ]
    }
   ],
   "source": [
    "for i in tqdm(countries):\n",
    "      \n",
    "    if findGeocode(i) != None:\n",
    "           \n",
    "        loc = findGeocode(i)\n",
    "          \n",
    "        # coordinates returned from \n",
    "        # function is stored into\n",
    "        # two separate list\n",
    "        latitude.append(loc.latitude)\n",
    "        longitude.append(loc.longitude)\n",
    "       \n",
    "    # if coordinate for a city not\n",
    "    # found, insert \"NaN\" indicating \n",
    "    # missing value \n",
    "    else:\n",
    "        latitude.append(np.nan)\n",
    "        longitude.append(np.nan)"
   ]
  },
  {
   "cell_type": "code",
   "execution_count": 159,
   "metadata": {
    "ExecuteTime": {
     "end_time": "2021-04-19T22:53:26.454629Z",
     "start_time": "2021-04-19T22:53:26.446626Z"
    }
   },
   "outputs": [],
   "source": [
    "df_country_latlon = pd.DataFrame({'cntry': countries,\n",
    "                                  'latitude': latitude,\n",
    "                                  'longitude': longitude})"
   ]
  },
  {
   "cell_type": "code",
   "execution_count": 198,
   "metadata": {
    "ExecuteTime": {
     "end_time": "2021-04-20T00:27:51.922013Z",
     "start_time": "2021-04-20T00:27:51.884986Z"
    }
   },
   "outputs": [
    {
     "data": {
      "text/html": [
       "<div>\n",
       "<style scoped>\n",
       "    .dataframe tbody tr th:only-of-type {\n",
       "        vertical-align: middle;\n",
       "    }\n",
       "\n",
       "    .dataframe tbody tr th {\n",
       "        vertical-align: top;\n",
       "    }\n",
       "\n",
       "    .dataframe thead th {\n",
       "        text-align: right;\n",
       "    }\n",
       "</style>\n",
       "<table border=\"1\" class=\"dataframe\">\n",
       "  <thead>\n",
       "    <tr style=\"text-align: right;\">\n",
       "      <th></th>\n",
       "      <th>cntry</th>\n",
       "      <th>happy</th>\n",
       "      <th>latitude</th>\n",
       "      <th>longitude</th>\n",
       "    </tr>\n",
       "  </thead>\n",
       "  <tbody>\n",
       "    <tr>\n",
       "      <th>0</th>\n",
       "      <td>Albania</td>\n",
       "      <td>8</td>\n",
       "      <td>41.000028</td>\n",
       "      <td>19.999962</td>\n",
       "    </tr>\n",
       "    <tr>\n",
       "      <th>1</th>\n",
       "      <td>Albania</td>\n",
       "      <td>0</td>\n",
       "      <td>41.000028</td>\n",
       "      <td>19.999962</td>\n",
       "    </tr>\n",
       "    <tr>\n",
       "      <th>2</th>\n",
       "      <td>Albania</td>\n",
       "      <td>5</td>\n",
       "      <td>41.000028</td>\n",
       "      <td>19.999962</td>\n",
       "    </tr>\n",
       "    <tr>\n",
       "      <th>3</th>\n",
       "      <td>Albania</td>\n",
       "      <td>4</td>\n",
       "      <td>41.000028</td>\n",
       "      <td>19.999962</td>\n",
       "    </tr>\n",
       "    <tr>\n",
       "      <th>4</th>\n",
       "      <td>Albania</td>\n",
       "      <td>7</td>\n",
       "      <td>41.000028</td>\n",
       "      <td>19.999962</td>\n",
       "    </tr>\n",
       "  </tbody>\n",
       "</table>\n",
       "</div>"
      ],
      "text/plain": [
       "     cntry  happy   latitude  longitude\n",
       "0  Albania      8  41.000028  19.999962\n",
       "1  Albania      0  41.000028  19.999962\n",
       "2  Albania      5  41.000028  19.999962\n",
       "3  Albania      4  41.000028  19.999962\n",
       "4  Albania      7  41.000028  19.999962"
      ]
     },
     "execution_count": 198,
     "metadata": {},
     "output_type": "execute_result"
    }
   ],
   "source": [
    "df_country = pd.merge(df_country, df_country_latlon)\n",
    "df_country.head()"
   ]
  },
  {
   "cell_type": "code",
   "execution_count": 202,
   "metadata": {
    "ExecuteTime": {
     "end_time": "2021-04-20T00:29:45.852836Z",
     "start_time": "2021-04-20T00:29:45.820822Z"
    },
    "scrolled": true
   },
   "outputs": [],
   "source": [
    "df_country.groupby(['cntry', 'latitude', 'longitude'],\n",
    "                   as_index=False)['happy'].mean().to_csv('datasets/country_happiness.csv', index=False)"
   ]
  }
 ],
 "metadata": {
  "hide_input": false,
  "kernelspec": {
   "display_name": "Python 3",
   "language": "python",
   "name": "python3"
  },
  "language_info": {
   "codemirror_mode": {
    "name": "ipython",
    "version": 3
   },
   "file_extension": ".py",
   "mimetype": "text/x-python",
   "name": "python",
   "nbconvert_exporter": "python",
   "pygments_lexer": "ipython3",
   "version": "3.8.3"
  },
  "toc": {
   "base_numbering": 1,
   "nav_menu": {},
   "number_sections": true,
   "sideBar": true,
   "skip_h1_title": false,
   "title_cell": "Table of Contents",
   "title_sidebar": "Contents",
   "toc_cell": false,
   "toc_position": {
    "height": "calc(100% - 180px)",
    "left": "10px",
    "top": "150px",
    "width": "181.966px"
   },
   "toc_section_display": true,
   "toc_window_display": true
  },
  "varInspector": {
   "cols": {
    "lenName": 16,
    "lenType": 16,
    "lenVar": 40
   },
   "kernels_config": {
    "python": {
     "delete_cmd_postfix": "",
     "delete_cmd_prefix": "del ",
     "library": "var_list.py",
     "varRefreshCmd": "print(var_dic_list())"
    },
    "r": {
     "delete_cmd_postfix": ") ",
     "delete_cmd_prefix": "rm(",
     "library": "var_list.r",
     "varRefreshCmd": "cat(var_dic_list()) "
    }
   },
   "types_to_exclude": [
    "module",
    "function",
    "builtin_function_or_method",
    "instance",
    "_Feature"
   ],
   "window_display": false
  }
 },
 "nbformat": 4,
 "nbformat_minor": 4
}
