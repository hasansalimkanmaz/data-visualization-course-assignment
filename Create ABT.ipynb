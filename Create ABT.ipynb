{
 "cells": [
  {
   "cell_type": "markdown",
   "metadata": {},
   "source": [
    "### Importings"
   ]
  },
  {
   "cell_type": "code",
   "execution_count": 52,
   "metadata": {
    "ExecuteTime": {
     "end_time": "2021-04-29T13:19:33.214920Z",
     "start_time": "2021-04-29T13:19:33.210529Z"
    }
   },
   "outputs": [],
   "source": [
    "import pandas as pd\n",
    "import warnings\n",
    "import numpy as np\n",
    "warnings.filterwarnings(\"ignore\")\n",
    "pd.options.display.max_columns = None\n",
    "\n",
    "# set your path\n",
    "DATASET_PATH = './datasets'"
   ]
  },
  {
   "cell_type": "code",
   "execution_count": 53,
   "metadata": {
    "ExecuteTime": {
     "end_time": "2021-04-29T13:19:38.682263Z",
     "start_time": "2021-04-29T13:19:33.710392Z"
    }
   },
   "outputs": [
    {
     "name": "stdout",
     "output_type": "stream",
     "text": [
      "Warning: column count mismatch (191 + 239 != 624)\n",
      "\n"
     ]
    }
   ],
   "source": [
    "df = pd.read_sas(DATASET_PATH + '/ess6e02_4.sas7bdat', encoding = 'latin-1')\n",
    "df_efa = pd.read_csv('EFA_2.csv')"
   ]
  },
  {
   "cell_type": "markdown",
   "metadata": {},
   "source": [
    "### Filter columns"
   ]
  },
  {
   "cell_type": "code",
   "execution_count": 54,
   "metadata": {
    "ExecuteTime": {
     "end_time": "2021-04-29T13:19:39.779557Z",
     "start_time": "2021-04-29T13:19:39.392444Z"
    }
   },
   "outputs": [],
   "source": [
    "cols = ['cntry', 'sclmeet', 'inprdsc', 'aesfdrk', 'health', 'hlthhmp', 'sclact', 'crmvct',\n",
    "        'fltsd', 'fltdpr', 'fltanx', 'flteeff', 'slprl', 'cldgng', 'fltlnl',\n",
    "        'tmimdng', 'tmabdng', 'tmendng', 'flapppl', 'lchshcp',\n",
    "        'stflife', 'happy', 'enjlf', 'wrhpp', 'fltpcfl', 'enrglot',\n",
    "        'dclvlf', 'accdng', 'dngval', 'optftr', 'lotsgot', 'pstvms', \n",
    "        'flclpla', 'pplahlp', 'rehlppl', 'trstprl', 'trstlgl', 'trstplc', 'trstplt', 'trstprt', 'trstep', 'trstun', \n",
    "        'ppltrst', 'pplfair', 'pplhlp','deaimpp', 'flrms', 'sedirlf', 'wrbknrm', 'uempla','uempli']\n",
    "\n",
    "df = df[cols]"
   ]
  },
  {
   "cell_type": "markdown",
   "metadata": {},
   "source": [
    "### Dataprep"
   ]
  },
  {
   "cell_type": "markdown",
   "metadata": {},
   "source": [
    "#### Summarizing similar well-beings based on EFA"
   ]
  },
  {
   "cell_type": "code",
   "execution_count": 55,
   "metadata": {
    "ExecuteTime": {
     "end_time": "2021-04-29T13:19:39.910274Z",
     "start_time": "2021-04-29T13:19:39.903619Z"
    }
   },
   "outputs": [
    {
     "data": {
      "text/plain": [
       "['Enjoyed life, how often past week',\n",
       " 'Were happy, how often past week',\n",
       " 'Felt calm and peaceful, how often past week',\n",
       " 'Had lot of energy, how often past week',\n",
       " 'Most people try to take advantage of you, or try to be fair',\n",
       " 'Feel close to the people in local area']"
      ]
     },
     "execution_count": 55,
     "metadata": {},
     "output_type": "execute_result"
    }
   ],
   "source": [
    "# dropping columns that have different measures\n",
    "df_efa.loc[df_efa['Item codes'].isin(['enjlf', 'wrhpp', 'fltpcfl', 'enrglot', 'pplfair', 'flclpla']), 'ESS Items'].tolist()"
   ]
  },
  {
   "cell_type": "code",
   "execution_count": 56,
   "metadata": {
    "ExecuteTime": {
     "end_time": "2021-04-29T13:19:39.925307Z",
     "start_time": "2021-04-29T13:19:39.920331Z"
    }
   },
   "outputs": [],
   "source": [
    "df_efa = df_efa[~df_efa['Item codes'].isin(['enjlf', 'wrhpp', 'fltpcfl', 'enrglot', 'pplfair', 'flclpla'])] # dropping columns "
   ]
  },
  {
   "cell_type": "code",
   "execution_count": 57,
   "metadata": {
    "ExecuteTime": {
     "end_time": "2021-04-29T13:19:40.196990Z",
     "start_time": "2021-04-29T13:19:40.187695Z"
    }
   },
   "outputs": [],
   "source": [
    "# creating dictionary to assign each factor to respective item code\n",
    "\n",
    "efa_item_codes = dict()\n",
    "for factor in df_efa.columns[2:]:\n",
    "    efa_item_codes.update({factor: df_efa.loc[~df_efa[factor].isna(), 'Item codes'].tolist()})"
   ]
  },
  {
   "cell_type": "code",
   "execution_count": 58,
   "metadata": {
    "ExecuteTime": {
     "end_time": "2021-04-29T13:19:40.209214Z",
     "start_time": "2021-04-29T13:19:40.199996Z"
    },
    "tags": []
   },
   "outputs": [],
   "source": [
    "def summarize_factors(df, factor, factor_name, greater_than, fill_values, efa_item_codes=efa_item_codes, df_efa=df_efa):\n",
    "    '''Summarize variables of certain factor\n",
    "    '''\n",
    "    print(f'{factor} was named {factor_name} and consists on: \\n')\n",
    "    print('\\n'.join(df_efa.loc[~df_efa[factor].isna(), 'ESS Items'].tolist()))\n",
    "    \n",
    "    df_factor = df[efa_item_codes[factor]] # filter only variables of the factor\n",
    "    df_factor[df_factor > greater_than] = np.NaN\n",
    "    df[factor_name] = df_factor.mean(axis=1).fillna(fill_values).astype(int) # summarize by the mean, desconsidering useless values\n",
    "    return df"
   ]
  },
  {
   "cell_type": "code",
   "execution_count": 59,
   "metadata": {
    "ExecuteTime": {
     "end_time": "2021-04-29T13:19:40.498701Z",
     "start_time": "2021-04-29T13:19:40.479582Z"
    }
   },
   "outputs": [
    {
     "name": "stdout",
     "output_type": "stream",
     "text": [
      "Factor 1 was named Sadness and consists on: \n",
      "\n",
      "Felt sad, how often past week\n",
      "Felt depressed, how often past week\n",
      "Felt anxious, how often past week\n",
      "Felt everything did as effort, how often past week\n",
      "Sleep was restless, how often past week\n",
      "Could not get going, how often past week\n",
      "Felt lonely, how often past week\n"
     ]
    }
   ],
   "source": [
    "df = summarize_factors(df, 'Factor 1', 'Sadness', 4, 9)"
   ]
  },
  {
   "cell_type": "code",
   "execution_count": 60,
   "metadata": {
    "ExecuteTime": {
     "end_time": "2021-04-29T13:19:40.518835Z",
     "start_time": "2021-04-29T13:19:40.503902Z"
    }
   },
   "outputs": [
    {
     "name": "stdout",
     "output_type": "stream",
     "text": [
      "Factor 2 was named Enthusiasm and consists on: \n",
      "\n",
      "Interested in what you are doing, how much of the time\n",
      "Absorbed in what you are doing, how much of the time\n",
      "Enthusiastic about what you are doing, how much of the time\n",
      "Feel appreciated by people you are close to\n"
     ]
    }
   ],
   "source": [
    "df = summarize_factors(df, 'Factor 2', 'Enthusiasm', 10, 99)"
   ]
  },
  {
   "cell_type": "code",
   "execution_count": 61,
   "metadata": {
    "ExecuteTime": {
     "end_time": "2021-04-29T13:19:40.815653Z",
     "start_time": "2021-04-29T13:19:40.797127Z"
    }
   },
   "outputs": [
    {
     "name": "stdout",
     "output_type": "stream",
     "text": [
      "Factor 3 was named Happiness and consists on: \n",
      "\n",
      "How satisfied with life as a whole\n",
      "How happy are you\n"
     ]
    }
   ],
   "source": [
    "df = summarize_factors(df, 'Factor 3', 'Happiness', 10, 99)"
   ]
  },
  {
   "cell_type": "code",
   "execution_count": 62,
   "metadata": {
    "ExecuteTime": {
     "end_time": "2021-04-29T13:19:40.971741Z",
     "start_time": "2021-04-29T13:19:40.952941Z"
    }
   },
   "outputs": [
    {
     "name": "stdout",
     "output_type": "stream",
     "text": [
      "Factor 4 was named Optimism and consists on: \n",
      "\n",
      "Free to decide how to live my life\n",
      "Feel accomplishment from what I do\n",
      "Feel what I do in life is valuable and worthwhile\n",
      "Always optimistic about my future\n",
      "There are lots of things I am good at\n",
      "In general feel very positive about myself\n"
     ]
    }
   ],
   "source": [
    "df = summarize_factors(df, 'Factor 4', 'Optimism', 5, 9)"
   ]
  },
  {
   "cell_type": "code",
   "execution_count": 63,
   "metadata": {
    "ExecuteTime": {
     "end_time": "2021-04-29T13:19:41.135214Z",
     "start_time": "2021-04-29T13:19:41.120838Z"
    }
   },
   "outputs": [
    {
     "name": "stdout",
     "output_type": "stream",
     "text": [
      "Factor 5 was named Trust and consists on: \n",
      "\n",
      "Most people can be trusted or you can't be too careful\n",
      "Most of the time people helpful or mostly looking out for themselves\n"
     ]
    }
   ],
   "source": [
    "df = summarize_factors(df, 'Factor 5', 'Trust', 10, 99)"
   ]
  },
  {
   "cell_type": "code",
   "execution_count": 64,
   "metadata": {
    "ExecuteTime": {
     "end_time": "2021-04-29T13:19:41.285530Z",
     "start_time": "2021-04-29T13:19:41.270201Z"
    }
   },
   "outputs": [
    {
     "name": "stdout",
     "output_type": "stream",
     "text": [
      "Factor 6 was named Helpful and consists on: \n",
      "\n",
      "Feel people in local area help one another\n",
      "Receive help and support from people you are close to\n"
     ]
    }
   ],
   "source": [
    "df = summarize_factors(df, 'Factor 6', 'Helpful', 6, 9)"
   ]
  },
  {
   "cell_type": "markdown",
   "metadata": {},
   "source": [
    "#### Assigning values"
   ]
  },
  {
   "cell_type": "code",
   "execution_count": 65,
   "metadata": {
    "ExecuteTime": {
     "end_time": "2021-04-29T13:19:41.437356Z",
     "start_time": "2021-04-29T13:19:41.422171Z"
    }
   },
   "outputs": [],
   "source": [
    "df['cntry'] = df['cntry'].map({'AL':'Albania','BE':'Belgium','BG':'Bulgaria','CH':'Switzerland','CY':'Cyprus','CZ':'Czechia','DE':'Germany','DK':'Denmark','EE':'Estonia','ES':'Spain','FI':'Finland','FR':'France','GB':'United Kingdom','HU':'Hungary','IE':'Ireland','IL':'Israel','IS':'Iceland','IT':'Italy','LT':'Lithuania','NL':'Netherlands','NO':'Norway','PL':'Poland','PT':'Portugal','RU':'Russian Federation','SE':'Sweden','SI':'Slovenia','SK':'Slovakia','UA':'Ukraine','XK':'Kosovo'})"
   ]
  },
  {
   "cell_type": "code",
   "execution_count": 66,
   "metadata": {
    "ExecuteTime": {
     "end_time": "2021-04-29T13:19:41.672562Z",
     "start_time": "2021-04-29T13:19:41.592571Z"
    }
   },
   "outputs": [],
   "source": [
    "df['sclmeet'] = df['sclmeet'].map({1:'Never',2:'Less than once a month',3:'Once a month',4:'Several times a month',5:'Once a week',6:'Several times a week',7:'Every day',77:'Refusal',88:'Dont know',99:'No answer'})\n",
    "df['inprdsc'] = df['inprdsc'].map({0:'None',1:'1',2:'2',3:'3',4:'4-6',5:'7-9',6:'10 or more',77:'Refusal',88:'Dont know',99:'No answer'})\n",
    "df['aesfdrk'] = df['aesfdrk'].map({1:'Very safe',2:'Safe',3:'Unsafe',4:'Very unsafe',7:'Refusal',8:'Dont know',9:'No answer'})\n",
    "df['health'] = df['health'].map({1:'Very good',2:'Good',3:'Fair',4:'Bad',5:'Very bad',7:'Refusal',8:'Dont know',9:'No answer'})\n",
    "df['hlthhmp'] = df['hlthhmp'].map({1:'Yes a lot',2:'Yes to some extent',3:'No',7:'Refusal',8:'Dont know',9:'No answer'})"
   ]
  },
  {
   "cell_type": "code",
   "execution_count": 67,
   "metadata": {
    "ExecuteTime": {
     "end_time": "2021-04-29T13:19:41.706837Z",
     "start_time": "2021-04-29T13:19:41.675282Z"
    }
   },
   "outputs": [],
   "source": [
    "for col in ['sclact', 'crmvct']:\n",
    "    df[col] = df[col].map({1:'Much less than most',2:'Less than most',3:'About the same',\n",
    "                           4:'More than most',5:'Much more than most',7:'Refusal',8:'Dont know',9:'No answer'})"
   ]
  },
  {
   "cell_type": "code",
   "execution_count": 68,
   "metadata": {
    "ExecuteTime": {
     "end_time": "2021-04-29T13:19:41.842132Z",
     "start_time": "2021-04-29T13:19:41.709423Z"
    }
   },
   "outputs": [],
   "source": [
    "for col in ['fltsd', 'fltdpr', 'fltanx', 'flteeff', 'slprl', 'cldgng', 'fltlnl',\n",
    "            'enjlf', 'wrhpp', 'fltpcfl', 'enrglot', 'Sadness']:\n",
    "    df[col] = df[col].map({1:'None or almost none of the time',2:'Some of the time',3:'Most of the time',\n",
    "                           4:'All or almost all of the time',7:'Refusal',8:'Dont know',9:'No answer'})"
   ]
  },
  {
   "cell_type": "code",
   "execution_count": 69,
   "metadata": {
    "ExecuteTime": {
     "end_time": "2021-04-29T13:19:42.314163Z",
     "start_time": "2021-04-29T13:19:42.187960Z"
    }
   },
   "outputs": [],
   "source": [
    "for col in ['dclvlf', 'accdng', 'dngval', 'optftr', 'lotsgot', 'pstvms', 'flclpla', 'lchshcp', 'flrms', 'wrbknrm', 'Optimism']:\n",
    "    df[col] = df[col].map({1:'Agree strongly',2:'Agree',3:'Neither agree nor disagree',4:'Disagree',\n",
    "                           5:'Disagree strongly',7:'Refusal',8:'Dont know',9:'No answer'})"
   ]
  },
  {
   "cell_type": "code",
   "execution_count": 70,
   "metadata": {
    "ExecuteTime": {
     "end_time": "2021-04-29T13:19:42.413746Z",
     "start_time": "2021-04-29T13:19:42.316611Z"
    }
   },
   "outputs": [],
   "source": [
    "for col in df.select_dtypes(include='float'):\n",
    "    df[col] = df[col].astype('int16')"
   ]
  },
  {
   "cell_type": "code",
   "execution_count": 71,
   "metadata": {
    "ExecuteTime": {
     "end_time": "2021-04-29T13:19:42.764050Z",
     "start_time": "2021-04-29T13:19:42.718655Z"
    }
   },
   "outputs": [
    {
     "data": {
      "text/html": [
       "<div>\n",
       "<style scoped>\n",
       "    .dataframe tbody tr th:only-of-type {\n",
       "        vertical-align: middle;\n",
       "    }\n",
       "\n",
       "    .dataframe tbody tr th {\n",
       "        vertical-align: top;\n",
       "    }\n",
       "\n",
       "    .dataframe thead th {\n",
       "        text-align: right;\n",
       "    }\n",
       "</style>\n",
       "<table border=\"1\" class=\"dataframe\">\n",
       "  <thead>\n",
       "    <tr style=\"text-align: right;\">\n",
       "      <th></th>\n",
       "      <th>cntry</th>\n",
       "      <th>sclmeet</th>\n",
       "      <th>inprdsc</th>\n",
       "      <th>aesfdrk</th>\n",
       "      <th>health</th>\n",
       "      <th>hlthhmp</th>\n",
       "      <th>sclact</th>\n",
       "      <th>crmvct</th>\n",
       "      <th>fltsd</th>\n",
       "      <th>fltdpr</th>\n",
       "      <th>fltanx</th>\n",
       "      <th>flteeff</th>\n",
       "      <th>slprl</th>\n",
       "      <th>cldgng</th>\n",
       "      <th>fltlnl</th>\n",
       "      <th>tmimdng</th>\n",
       "      <th>tmabdng</th>\n",
       "      <th>tmendng</th>\n",
       "      <th>flapppl</th>\n",
       "      <th>lchshcp</th>\n",
       "      <th>stflife</th>\n",
       "      <th>happy</th>\n",
       "      <th>enjlf</th>\n",
       "      <th>wrhpp</th>\n",
       "      <th>fltpcfl</th>\n",
       "      <th>enrglot</th>\n",
       "      <th>dclvlf</th>\n",
       "      <th>accdng</th>\n",
       "      <th>dngval</th>\n",
       "      <th>optftr</th>\n",
       "      <th>lotsgot</th>\n",
       "      <th>pstvms</th>\n",
       "      <th>flclpla</th>\n",
       "      <th>pplahlp</th>\n",
       "      <th>rehlppl</th>\n",
       "      <th>trstprl</th>\n",
       "      <th>trstlgl</th>\n",
       "      <th>trstplc</th>\n",
       "      <th>trstplt</th>\n",
       "      <th>trstprt</th>\n",
       "      <th>trstep</th>\n",
       "      <th>trstun</th>\n",
       "      <th>ppltrst</th>\n",
       "      <th>pplfair</th>\n",
       "      <th>pplhlp</th>\n",
       "      <th>deaimpp</th>\n",
       "      <th>flrms</th>\n",
       "      <th>sedirlf</th>\n",
       "      <th>wrbknrm</th>\n",
       "      <th>uempla</th>\n",
       "      <th>uempli</th>\n",
       "      <th>Sadness</th>\n",
       "      <th>Enthusiasm</th>\n",
       "      <th>Happiness</th>\n",
       "      <th>Optimism</th>\n",
       "      <th>Trust</th>\n",
       "      <th>Helpful</th>\n",
       "    </tr>\n",
       "  </thead>\n",
       "  <tbody>\n",
       "    <tr>\n",
       "      <th>0</th>\n",
       "      <td>Albania</td>\n",
       "      <td>Once a week</td>\n",
       "      <td>3</td>\n",
       "      <td>Very safe</td>\n",
       "      <td>Fair</td>\n",
       "      <td>No</td>\n",
       "      <td>About the same</td>\n",
       "      <td>Less than most</td>\n",
       "      <td>Some of the time</td>\n",
       "      <td>Most of the time</td>\n",
       "      <td>Some of the time</td>\n",
       "      <td>Some of the time</td>\n",
       "      <td>All or almost all of the time</td>\n",
       "      <td>NaN</td>\n",
       "      <td>None or almost none of the time</td>\n",
       "      <td>8</td>\n",
       "      <td>8</td>\n",
       "      <td>8</td>\n",
       "      <td>10</td>\n",
       "      <td>Agree</td>\n",
       "      <td>6</td>\n",
       "      <td>8</td>\n",
       "      <td>Some of the time</td>\n",
       "      <td>Most of the time</td>\n",
       "      <td>Most of the time</td>\n",
       "      <td>Most of the time</td>\n",
       "      <td>Agree strongly</td>\n",
       "      <td>Agree</td>\n",
       "      <td>Agree</td>\n",
       "      <td>Agree strongly</td>\n",
       "      <td>Disagree</td>\n",
       "      <td>Agree</td>\n",
       "      <td>Agree</td>\n",
       "      <td>1</td>\n",
       "      <td>6</td>\n",
       "      <td>0</td>\n",
       "      <td>0</td>\n",
       "      <td>2</td>\n",
       "      <td>0</td>\n",
       "      <td>0</td>\n",
       "      <td>2</td>\n",
       "      <td>2</td>\n",
       "      <td>5</td>\n",
       "      <td>3</td>\n",
       "      <td>0</td>\n",
       "      <td>5</td>\n",
       "      <td>Disagree</td>\n",
       "      <td>3</td>\n",
       "      <td>Disagree</td>\n",
       "      <td>0</td>\n",
       "      <td>0</td>\n",
       "      <td>Some of the time</td>\n",
       "      <td>8</td>\n",
       "      <td>7</td>\n",
       "      <td>Agree</td>\n",
       "      <td>2</td>\n",
       "      <td>3</td>\n",
       "    </tr>\n",
       "    <tr>\n",
       "      <th>1</th>\n",
       "      <td>Albania</td>\n",
       "      <td>Once a month</td>\n",
       "      <td>1</td>\n",
       "      <td>Unsafe</td>\n",
       "      <td>Good</td>\n",
       "      <td>No</td>\n",
       "      <td>Less than most</td>\n",
       "      <td>Less than most</td>\n",
       "      <td>All or almost all of the time</td>\n",
       "      <td>All or almost all of the time</td>\n",
       "      <td>All or almost all of the time</td>\n",
       "      <td>Some of the time</td>\n",
       "      <td>Most of the time</td>\n",
       "      <td>NaN</td>\n",
       "      <td>All or almost all of the time</td>\n",
       "      <td>10</td>\n",
       "      <td>5</td>\n",
       "      <td>0</td>\n",
       "      <td>10</td>\n",
       "      <td>Agree strongly</td>\n",
       "      <td>0</td>\n",
       "      <td>0</td>\n",
       "      <td>None or almost none of the time</td>\n",
       "      <td>None or almost none of the time</td>\n",
       "      <td>Some of the time</td>\n",
       "      <td>None or almost none of the time</td>\n",
       "      <td>Agree strongly</td>\n",
       "      <td>Agree</td>\n",
       "      <td>Agree strongly</td>\n",
       "      <td>Agree</td>\n",
       "      <td>Agree strongly</td>\n",
       "      <td>Neither agree nor disagree</td>\n",
       "      <td>Neither agree nor disagree</td>\n",
       "      <td>0</td>\n",
       "      <td>6</td>\n",
       "      <td>0</td>\n",
       "      <td>0</td>\n",
       "      <td>10</td>\n",
       "      <td>8</td>\n",
       "      <td>10</td>\n",
       "      <td>10</td>\n",
       "      <td>10</td>\n",
       "      <td>0</td>\n",
       "      <td>88</td>\n",
       "      <td>0</td>\n",
       "      <td>0</td>\n",
       "      <td>Agree</td>\n",
       "      <td>10</td>\n",
       "      <td>Agree</td>\n",
       "      <td>1</td>\n",
       "      <td>0</td>\n",
       "      <td>Most of the time</td>\n",
       "      <td>6</td>\n",
       "      <td>0</td>\n",
       "      <td>Agree strongly</td>\n",
       "      <td>0</td>\n",
       "      <td>3</td>\n",
       "    </tr>\n",
       "    <tr>\n",
       "      <th>2</th>\n",
       "      <td>Albania</td>\n",
       "      <td>Every day</td>\n",
       "      <td>10 or more</td>\n",
       "      <td>Unsafe</td>\n",
       "      <td>Very good</td>\n",
       "      <td>No</td>\n",
       "      <td>About the same</td>\n",
       "      <td>Much less than most</td>\n",
       "      <td>Some of the time</td>\n",
       "      <td>Some of the time</td>\n",
       "      <td>None or almost none of the time</td>\n",
       "      <td>Most of the time</td>\n",
       "      <td>Some of the time</td>\n",
       "      <td>NaN</td>\n",
       "      <td>Some of the time</td>\n",
       "      <td>10</td>\n",
       "      <td>10</td>\n",
       "      <td>10</td>\n",
       "      <td>3</td>\n",
       "      <td>Agree</td>\n",
       "      <td>5</td>\n",
       "      <td>5</td>\n",
       "      <td>Most of the time</td>\n",
       "      <td>Some of the time</td>\n",
       "      <td>Some of the time</td>\n",
       "      <td>Most of the time</td>\n",
       "      <td>Agree strongly</td>\n",
       "      <td>Agree</td>\n",
       "      <td>Agree strongly</td>\n",
       "      <td>Agree strongly</td>\n",
       "      <td>Agree strongly</td>\n",
       "      <td>Agree</td>\n",
       "      <td>Disagree</td>\n",
       "      <td>0</td>\n",
       "      <td>6</td>\n",
       "      <td>88</td>\n",
       "      <td>2</td>\n",
       "      <td>0</td>\n",
       "      <td>0</td>\n",
       "      <td>0</td>\n",
       "      <td>8</td>\n",
       "      <td>5</td>\n",
       "      <td>5</td>\n",
       "      <td>5</td>\n",
       "      <td>4</td>\n",
       "      <td>5</td>\n",
       "      <td>Disagree strongly</td>\n",
       "      <td>10</td>\n",
       "      <td>Disagree strongly</td>\n",
       "      <td>0</td>\n",
       "      <td>0</td>\n",
       "      <td>Some of the time</td>\n",
       "      <td>8</td>\n",
       "      <td>5</td>\n",
       "      <td>Agree strongly</td>\n",
       "      <td>4</td>\n",
       "      <td>3</td>\n",
       "    </tr>\n",
       "    <tr>\n",
       "      <th>3</th>\n",
       "      <td>Albania</td>\n",
       "      <td>Several times a week</td>\n",
       "      <td>2</td>\n",
       "      <td>Very safe</td>\n",
       "      <td>Fair</td>\n",
       "      <td>No</td>\n",
       "      <td>About the same</td>\n",
       "      <td>Less than most</td>\n",
       "      <td>Most of the time</td>\n",
       "      <td>Some of the time</td>\n",
       "      <td>Some of the time</td>\n",
       "      <td>Most of the time</td>\n",
       "      <td>Most of the time</td>\n",
       "      <td>NaN</td>\n",
       "      <td>Most of the time</td>\n",
       "      <td>88</td>\n",
       "      <td>88</td>\n",
       "      <td>88</td>\n",
       "      <td>88</td>\n",
       "      <td>Agree strongly</td>\n",
       "      <td>1</td>\n",
       "      <td>4</td>\n",
       "      <td>Some of the time</td>\n",
       "      <td>Some of the time</td>\n",
       "      <td>Most of the time</td>\n",
       "      <td>Some of the time</td>\n",
       "      <td>Agree</td>\n",
       "      <td>Agree</td>\n",
       "      <td>Dont know</td>\n",
       "      <td>Agree</td>\n",
       "      <td>Dont know</td>\n",
       "      <td>Agree</td>\n",
       "      <td>Dont know</td>\n",
       "      <td>8</td>\n",
       "      <td>8</td>\n",
       "      <td>1</td>\n",
       "      <td>7</td>\n",
       "      <td>0</td>\n",
       "      <td>1</td>\n",
       "      <td>1</td>\n",
       "      <td>10</td>\n",
       "      <td>8</td>\n",
       "      <td>10</td>\n",
       "      <td>5</td>\n",
       "      <td>2</td>\n",
       "      <td>88</td>\n",
       "      <td>Agree strongly</td>\n",
       "      <td>88</td>\n",
       "      <td>Agree strongly</td>\n",
       "      <td>0</td>\n",
       "      <td>0</td>\n",
       "      <td>Some of the time</td>\n",
       "      <td>99</td>\n",
       "      <td>2</td>\n",
       "      <td>Agree</td>\n",
       "      <td>6</td>\n",
       "      <td>9</td>\n",
       "    </tr>\n",
       "    <tr>\n",
       "      <th>4</th>\n",
       "      <td>Albania</td>\n",
       "      <td>Several times a month</td>\n",
       "      <td>None</td>\n",
       "      <td>Safe</td>\n",
       "      <td>Fair</td>\n",
       "      <td>No</td>\n",
       "      <td>Less than most</td>\n",
       "      <td>Less than most</td>\n",
       "      <td>Most of the time</td>\n",
       "      <td>Some of the time</td>\n",
       "      <td>Some of the time</td>\n",
       "      <td>Most of the time</td>\n",
       "      <td>All or almost all of the time</td>\n",
       "      <td>NaN</td>\n",
       "      <td>Some of the time</td>\n",
       "      <td>10</td>\n",
       "      <td>88</td>\n",
       "      <td>88</td>\n",
       "      <td>8</td>\n",
       "      <td>Neither agree nor disagree</td>\n",
       "      <td>6</td>\n",
       "      <td>7</td>\n",
       "      <td>Dont know</td>\n",
       "      <td>Some of the time</td>\n",
       "      <td>None or almost none of the time</td>\n",
       "      <td>None or almost none of the time</td>\n",
       "      <td>Agree</td>\n",
       "      <td>Neither agree nor disagree</td>\n",
       "      <td>Agree</td>\n",
       "      <td>Disagree</td>\n",
       "      <td>Agree strongly</td>\n",
       "      <td>Neither agree nor disagree</td>\n",
       "      <td>Agree</td>\n",
       "      <td>4</td>\n",
       "      <td>6</td>\n",
       "      <td>8</td>\n",
       "      <td>6</td>\n",
       "      <td>7</td>\n",
       "      <td>8</td>\n",
       "      <td>7</td>\n",
       "      <td>9</td>\n",
       "      <td>10</td>\n",
       "      <td>5</td>\n",
       "      <td>6</td>\n",
       "      <td>7</td>\n",
       "      <td>88</td>\n",
       "      <td>Neither agree nor disagree</td>\n",
       "      <td>10</td>\n",
       "      <td>Agree</td>\n",
       "      <td>0</td>\n",
       "      <td>0</td>\n",
       "      <td>Some of the time</td>\n",
       "      <td>9</td>\n",
       "      <td>6</td>\n",
       "      <td>Agree</td>\n",
       "      <td>6</td>\n",
       "      <td>5</td>\n",
       "    </tr>\n",
       "  </tbody>\n",
       "</table>\n",
       "</div>"
      ],
      "text/plain": [
       "     cntry                sclmeet     inprdsc    aesfdrk     health hlthhmp  \\\n",
       "0  Albania            Once a week           3  Very safe       Fair      No   \n",
       "1  Albania           Once a month           1     Unsafe       Good      No   \n",
       "2  Albania              Every day  10 or more     Unsafe  Very good      No   \n",
       "3  Albania   Several times a week           2  Very safe       Fair      No   \n",
       "4  Albania  Several times a month        None       Safe       Fair      No   \n",
       "\n",
       "           sclact               crmvct                          fltsd  \\\n",
       "0  About the same       Less than most               Some of the time   \n",
       "1  Less than most       Less than most  All or almost all of the time   \n",
       "2  About the same  Much less than most               Some of the time   \n",
       "3  About the same       Less than most               Most of the time   \n",
       "4  Less than most       Less than most               Most of the time   \n",
       "\n",
       "                          fltdpr                           fltanx  \\\n",
       "0               Most of the time                 Some of the time   \n",
       "1  All or almost all of the time    All or almost all of the time   \n",
       "2               Some of the time  None or almost none of the time   \n",
       "3               Some of the time                 Some of the time   \n",
       "4               Some of the time                 Some of the time   \n",
       "\n",
       "            flteeff                          slprl cldgng  \\\n",
       "0  Some of the time  All or almost all of the time    NaN   \n",
       "1  Some of the time               Most of the time    NaN   \n",
       "2  Most of the time               Some of the time    NaN   \n",
       "3  Most of the time               Most of the time    NaN   \n",
       "4  Most of the time  All or almost all of the time    NaN   \n",
       "\n",
       "                            fltlnl  tmimdng  tmabdng  tmendng  flapppl  \\\n",
       "0  None or almost none of the time        8        8        8       10   \n",
       "1    All or almost all of the time       10        5        0       10   \n",
       "2                 Some of the time       10       10       10        3   \n",
       "3                 Most of the time       88       88       88       88   \n",
       "4                 Some of the time       10       88       88        8   \n",
       "\n",
       "                      lchshcp  stflife  happy  \\\n",
       "0                       Agree        6      8   \n",
       "1              Agree strongly        0      0   \n",
       "2                       Agree        5      5   \n",
       "3              Agree strongly        1      4   \n",
       "4  Neither agree nor disagree        6      7   \n",
       "\n",
       "                             enjlf                            wrhpp  \\\n",
       "0                 Some of the time                 Most of the time   \n",
       "1  None or almost none of the time  None or almost none of the time   \n",
       "2                 Most of the time                 Some of the time   \n",
       "3                 Some of the time                 Some of the time   \n",
       "4                        Dont know                 Some of the time   \n",
       "\n",
       "                           fltpcfl                          enrglot  \\\n",
       "0                 Most of the time                 Most of the time   \n",
       "1                 Some of the time  None or almost none of the time   \n",
       "2                 Some of the time                 Most of the time   \n",
       "3                 Most of the time                 Some of the time   \n",
       "4  None or almost none of the time  None or almost none of the time   \n",
       "\n",
       "           dclvlf                      accdng          dngval          optftr  \\\n",
       "0  Agree strongly                       Agree           Agree  Agree strongly   \n",
       "1  Agree strongly                       Agree  Agree strongly           Agree   \n",
       "2  Agree strongly                       Agree  Agree strongly  Agree strongly   \n",
       "3           Agree                       Agree       Dont know           Agree   \n",
       "4           Agree  Neither agree nor disagree           Agree        Disagree   \n",
       "\n",
       "          lotsgot                      pstvms                     flclpla  \\\n",
       "0        Disagree                       Agree                       Agree   \n",
       "1  Agree strongly  Neither agree nor disagree  Neither agree nor disagree   \n",
       "2  Agree strongly                       Agree                    Disagree   \n",
       "3       Dont know                       Agree                   Dont know   \n",
       "4  Agree strongly  Neither agree nor disagree                       Agree   \n",
       "\n",
       "   pplahlp  rehlppl  trstprl  trstlgl  trstplc  trstplt  trstprt  trstep  \\\n",
       "0        1        6        0        0        2        0        0       2   \n",
       "1        0        6        0        0       10        8       10      10   \n",
       "2        0        6       88        2        0        0        0       8   \n",
       "3        8        8        1        7        0        1        1      10   \n",
       "4        4        6        8        6        7        8        7       9   \n",
       "\n",
       "   trstun  ppltrst  pplfair  pplhlp  deaimpp                       flrms  \\\n",
       "0       2        5        3       0        5                    Disagree   \n",
       "1      10        0       88       0        0                       Agree   \n",
       "2       5        5        5       4        5           Disagree strongly   \n",
       "3       8       10        5       2       88              Agree strongly   \n",
       "4      10        5        6       7       88  Neither agree nor disagree   \n",
       "\n",
       "   sedirlf            wrbknrm  uempla  uempli           Sadness  Enthusiasm  \\\n",
       "0        3           Disagree       0       0  Some of the time           8   \n",
       "1       10              Agree       1       0  Most of the time           6   \n",
       "2       10  Disagree strongly       0       0  Some of the time           8   \n",
       "3       88     Agree strongly       0       0  Some of the time          99   \n",
       "4       10              Agree       0       0  Some of the time           9   \n",
       "\n",
       "   Happiness        Optimism  Trust  Helpful  \n",
       "0          7           Agree      2        3  \n",
       "1          0  Agree strongly      0        3  \n",
       "2          5  Agree strongly      4        3  \n",
       "3          2           Agree      6        9  \n",
       "4          6           Agree      6        5  "
      ]
     },
     "execution_count": 71,
     "metadata": {},
     "output_type": "execute_result"
    }
   ],
   "source": [
    "df.head()"
   ]
  },
  {
   "cell_type": "markdown",
   "metadata": {},
   "source": [
    "### Exporting"
   ]
  },
  {
   "cell_type": "code",
   "execution_count": 72,
   "metadata": {
    "ExecuteTime": {
     "end_time": "2021-04-29T13:19:44.053240Z",
     "start_time": "2021-04-29T13:19:42.926617Z"
    }
   },
   "outputs": [],
   "source": [
    "df.to_csv(DATASET_PATH + '/df_abt.csv', index=False)"
   ]
  },
  {
   "cell_type": "code",
   "execution_count": 73,
   "metadata": {
    "ExecuteTime": {
     "end_time": "2021-04-29T13:19:44.334575Z",
     "start_time": "2021-04-29T13:19:44.242900Z"
    }
   },
   "outputs": [],
   "source": [
    "df_trstprl_happiness = df[[\"trstprl\", \"Happiness\"]]\n",
    "df_trstprl_happiness.to_csv(DATASET_PATH + '/df_trstprl_happiness.csv', index=False)"
   ]
  },
  {
   "cell_type": "code",
   "execution_count": 74,
   "metadata": {
    "ExecuteTime": {
     "end_time": "2021-04-29T13:19:44.497470Z",
     "start_time": "2021-04-29T13:19:44.491109Z"
    }
   },
   "outputs": [
    {
     "data": {
      "text/plain": [
       "'./datasets'"
      ]
     },
     "execution_count": 74,
     "metadata": {},
     "output_type": "execute_result"
    }
   ],
   "source": [
    "DATASET_PATH"
   ]
  },
  {
   "cell_type": "code",
   "execution_count": 75,
   "metadata": {
    "ExecuteTime": {
     "end_time": "2021-04-29T13:19:44.657047Z",
     "start_time": "2021-04-29T13:19:44.646862Z"
    }
   },
   "outputs": [
    {
     "data": {
      "text/plain": [
       "(54673, 2)"
      ]
     },
     "execution_count": 75,
     "metadata": {},
     "output_type": "execute_result"
    }
   ],
   "source": [
    "df_h_t = df[[\"Happiness\", \"trstprl\"]]\n",
    "df_h_t.shape\n",
    "# .apply(pd.Series.value_counts)"
   ]
  },
  {
   "cell_type": "code",
   "execution_count": 76,
   "metadata": {
    "ExecuteTime": {
     "end_time": "2021-04-29T13:19:44.797215Z",
     "start_time": "2021-04-29T13:19:44.785731Z"
    }
   },
   "outputs": [],
   "source": [
    "df_h_t = df_h_t[df_h_t[\"Happiness\"] < 11]\n",
    "df_h_t = df_h_t[df_h_t[\"trstprl\"] < 11]"
   ]
  },
  {
   "cell_type": "code",
   "execution_count": 77,
   "metadata": {
    "ExecuteTime": {
     "end_time": "2021-04-29T13:19:44.902334Z",
     "start_time": "2021-04-29T13:19:44.892750Z"
    }
   },
   "outputs": [
    {
     "data": {
      "text/html": [
       "<div>\n",
       "<style scoped>\n",
       "    .dataframe tbody tr th:only-of-type {\n",
       "        vertical-align: middle;\n",
       "    }\n",
       "\n",
       "    .dataframe tbody tr th {\n",
       "        vertical-align: top;\n",
       "    }\n",
       "\n",
       "    .dataframe thead th {\n",
       "        text-align: right;\n",
       "    }\n",
       "</style>\n",
       "<table border=\"1\" class=\"dataframe\">\n",
       "  <thead>\n",
       "    <tr style=\"text-align: right;\">\n",
       "      <th></th>\n",
       "      <th>Happiness</th>\n",
       "      <th>trstprl</th>\n",
       "    </tr>\n",
       "  </thead>\n",
       "  <tbody>\n",
       "    <tr>\n",
       "      <th>0</th>\n",
       "      <td>7</td>\n",
       "      <td>0</td>\n",
       "    </tr>\n",
       "    <tr>\n",
       "      <th>1</th>\n",
       "      <td>0</td>\n",
       "      <td>0</td>\n",
       "    </tr>\n",
       "    <tr>\n",
       "      <th>3</th>\n",
       "      <td>2</td>\n",
       "      <td>1</td>\n",
       "    </tr>\n",
       "    <tr>\n",
       "      <th>4</th>\n",
       "      <td>6</td>\n",
       "      <td>8</td>\n",
       "    </tr>\n",
       "    <tr>\n",
       "      <th>5</th>\n",
       "      <td>7</td>\n",
       "      <td>4</td>\n",
       "    </tr>\n",
       "    <tr>\n",
       "      <th>...</th>\n",
       "      <td>...</td>\n",
       "      <td>...</td>\n",
       "    </tr>\n",
       "    <tr>\n",
       "      <th>54667</th>\n",
       "      <td>6</td>\n",
       "      <td>4</td>\n",
       "    </tr>\n",
       "    <tr>\n",
       "      <th>54668</th>\n",
       "      <td>5</td>\n",
       "      <td>3</td>\n",
       "    </tr>\n",
       "    <tr>\n",
       "      <th>54670</th>\n",
       "      <td>6</td>\n",
       "      <td>5</td>\n",
       "    </tr>\n",
       "    <tr>\n",
       "      <th>54671</th>\n",
       "      <td>7</td>\n",
       "      <td>3</td>\n",
       "    </tr>\n",
       "    <tr>\n",
       "      <th>54672</th>\n",
       "      <td>6</td>\n",
       "      <td>10</td>\n",
       "    </tr>\n",
       "  </tbody>\n",
       "</table>\n",
       "<p>53153 rows × 2 columns</p>\n",
       "</div>"
      ],
      "text/plain": [
       "       Happiness  trstprl\n",
       "0              7        0\n",
       "1              0        0\n",
       "3              2        1\n",
       "4              6        8\n",
       "5              7        4\n",
       "...          ...      ...\n",
       "54667          6        4\n",
       "54668          5        3\n",
       "54670          6        5\n",
       "54671          7        3\n",
       "54672          6       10\n",
       "\n",
       "[53153 rows x 2 columns]"
      ]
     },
     "execution_count": 77,
     "metadata": {},
     "output_type": "execute_result"
    }
   ],
   "source": [
    "df_h_t"
   ]
  },
  {
   "cell_type": "code",
   "execution_count": 78,
   "metadata": {
    "ExecuteTime": {
     "end_time": "2021-04-29T13:19:45.061238Z",
     "start_time": "2021-04-29T13:19:45.017574Z"
    }
   },
   "outputs": [
    {
     "data": {
      "text/html": [
       "<div>\n",
       "<style scoped>\n",
       "    .dataframe tbody tr th:only-of-type {\n",
       "        vertical-align: middle;\n",
       "    }\n",
       "\n",
       "    .dataframe tbody tr th {\n",
       "        vertical-align: top;\n",
       "    }\n",
       "\n",
       "    .dataframe thead th {\n",
       "        text-align: right;\n",
       "    }\n",
       "</style>\n",
       "<table border=\"1\" class=\"dataframe\">\n",
       "  <thead>\n",
       "    <tr style=\"text-align: right;\">\n",
       "      <th>trstprl</th>\n",
       "      <th>0</th>\n",
       "      <th>1</th>\n",
       "      <th>2</th>\n",
       "      <th>3</th>\n",
       "      <th>4</th>\n",
       "      <th>5</th>\n",
       "      <th>6</th>\n",
       "      <th>7</th>\n",
       "      <th>8</th>\n",
       "      <th>9</th>\n",
       "      <th>10</th>\n",
       "    </tr>\n",
       "    <tr>\n",
       "      <th>Happiness</th>\n",
       "      <th></th>\n",
       "      <th></th>\n",
       "      <th></th>\n",
       "      <th></th>\n",
       "      <th></th>\n",
       "      <th></th>\n",
       "      <th></th>\n",
       "      <th></th>\n",
       "      <th></th>\n",
       "      <th></th>\n",
       "      <th></th>\n",
       "    </tr>\n",
       "  </thead>\n",
       "  <tbody>\n",
       "    <tr>\n",
       "      <th>0</th>\n",
       "      <td>321</td>\n",
       "      <td>35</td>\n",
       "      <td>31</td>\n",
       "      <td>24</td>\n",
       "      <td>15</td>\n",
       "      <td>28</td>\n",
       "      <td>4</td>\n",
       "      <td>7</td>\n",
       "      <td>2</td>\n",
       "      <td>2</td>\n",
       "      <td>10</td>\n",
       "    </tr>\n",
       "    <tr>\n",
       "      <th>1</th>\n",
       "      <td>322</td>\n",
       "      <td>93</td>\n",
       "      <td>73</td>\n",
       "      <td>52</td>\n",
       "      <td>31</td>\n",
       "      <td>48</td>\n",
       "      <td>14</td>\n",
       "      <td>8</td>\n",
       "      <td>9</td>\n",
       "      <td>6</td>\n",
       "      <td>7</td>\n",
       "    </tr>\n",
       "    <tr>\n",
       "      <th>2</th>\n",
       "      <td>485</td>\n",
       "      <td>204</td>\n",
       "      <td>165</td>\n",
       "      <td>142</td>\n",
       "      <td>76</td>\n",
       "      <td>104</td>\n",
       "      <td>34</td>\n",
       "      <td>21</td>\n",
       "      <td>27</td>\n",
       "      <td>7</td>\n",
       "      <td>14</td>\n",
       "    </tr>\n",
       "    <tr>\n",
       "      <th>3</th>\n",
       "      <td>616</td>\n",
       "      <td>284</td>\n",
       "      <td>345</td>\n",
       "      <td>289</td>\n",
       "      <td>169</td>\n",
       "      <td>233</td>\n",
       "      <td>70</td>\n",
       "      <td>63</td>\n",
       "      <td>42</td>\n",
       "      <td>10</td>\n",
       "      <td>11</td>\n",
       "    </tr>\n",
       "    <tr>\n",
       "      <th>4</th>\n",
       "      <td>720</td>\n",
       "      <td>388</td>\n",
       "      <td>473</td>\n",
       "      <td>530</td>\n",
       "      <td>335</td>\n",
       "      <td>391</td>\n",
       "      <td>148</td>\n",
       "      <td>119</td>\n",
       "      <td>87</td>\n",
       "      <td>16</td>\n",
       "      <td>18</td>\n",
       "    </tr>\n",
       "    <tr>\n",
       "      <th>5</th>\n",
       "      <td>1252</td>\n",
       "      <td>553</td>\n",
       "      <td>751</td>\n",
       "      <td>813</td>\n",
       "      <td>637</td>\n",
       "      <td>954</td>\n",
       "      <td>342</td>\n",
       "      <td>239</td>\n",
       "      <td>142</td>\n",
       "      <td>34</td>\n",
       "      <td>55</td>\n",
       "    </tr>\n",
       "    <tr>\n",
       "      <th>6</th>\n",
       "      <td>1145</td>\n",
       "      <td>611</td>\n",
       "      <td>786</td>\n",
       "      <td>983</td>\n",
       "      <td>781</td>\n",
       "      <td>1142</td>\n",
       "      <td>575</td>\n",
       "      <td>467</td>\n",
       "      <td>262</td>\n",
       "      <td>72</td>\n",
       "      <td>76</td>\n",
       "    </tr>\n",
       "    <tr>\n",
       "      <th>7</th>\n",
       "      <td>1183</td>\n",
       "      <td>632</td>\n",
       "      <td>1000</td>\n",
       "      <td>1306</td>\n",
       "      <td>1208</td>\n",
       "      <td>1765</td>\n",
       "      <td>1079</td>\n",
       "      <td>1052</td>\n",
       "      <td>654</td>\n",
       "      <td>168</td>\n",
       "      <td>98</td>\n",
       "    </tr>\n",
       "    <tr>\n",
       "      <th>8</th>\n",
       "      <td>1098</td>\n",
       "      <td>498</td>\n",
       "      <td>904</td>\n",
       "      <td>1296</td>\n",
       "      <td>1264</td>\n",
       "      <td>2170</td>\n",
       "      <td>1553</td>\n",
       "      <td>1710</td>\n",
       "      <td>1129</td>\n",
       "      <td>333</td>\n",
       "      <td>193</td>\n",
       "    </tr>\n",
       "    <tr>\n",
       "      <th>9</th>\n",
       "      <td>622</td>\n",
       "      <td>319</td>\n",
       "      <td>434</td>\n",
       "      <td>646</td>\n",
       "      <td>666</td>\n",
       "      <td>1233</td>\n",
       "      <td>901</td>\n",
       "      <td>1109</td>\n",
       "      <td>850</td>\n",
       "      <td>285</td>\n",
       "      <td>172</td>\n",
       "    </tr>\n",
       "    <tr>\n",
       "      <th>10</th>\n",
       "      <td>579</td>\n",
       "      <td>112</td>\n",
       "      <td>225</td>\n",
       "      <td>253</td>\n",
       "      <td>237</td>\n",
       "      <td>547</td>\n",
       "      <td>257</td>\n",
       "      <td>356</td>\n",
       "      <td>319</td>\n",
       "      <td>110</td>\n",
       "      <td>178</td>\n",
       "    </tr>\n",
       "  </tbody>\n",
       "</table>\n",
       "</div>"
      ],
      "text/plain": [
       "trstprl      0    1     2     3     4     5     6     7     8    9    10\n",
       "Happiness                                                               \n",
       "0           321   35    31    24    15    28     4     7     2    2   10\n",
       "1           322   93    73    52    31    48    14     8     9    6    7\n",
       "2           485  204   165   142    76   104    34    21    27    7   14\n",
       "3           616  284   345   289   169   233    70    63    42   10   11\n",
       "4           720  388   473   530   335   391   148   119    87   16   18\n",
       "5          1252  553   751   813   637   954   342   239   142   34   55\n",
       "6          1145  611   786   983   781  1142   575   467   262   72   76\n",
       "7          1183  632  1000  1306  1208  1765  1079  1052   654  168   98\n",
       "8          1098  498   904  1296  1264  2170  1553  1710  1129  333  193\n",
       "9           622  319   434   646   666  1233   901  1109   850  285  172\n",
       "10          579  112   225   253   237   547   257   356   319  110  178"
      ]
     },
     "execution_count": 78,
     "metadata": {},
     "output_type": "execute_result"
    }
   ],
   "source": [
    "crosstab = pd.crosstab(df_h_t.Happiness, df_h_t.trstprl)\n",
    "crosstab "
   ]
  },
  {
   "cell_type": "code",
   "execution_count": 79,
   "metadata": {
    "ExecuteTime": {
     "end_time": "2021-04-29T13:19:45.180044Z",
     "start_time": "2021-04-29T13:19:45.163962Z"
    }
   },
   "outputs": [],
   "source": [
    "rows = []\n",
    "for i in range(11):\n",
    "    for k in range(11):\n",
    "        new = {\"Happiness\": i, \"trstprl\": k, \"value\": crosstab.iloc[i,k]}\n",
    "        rows.append(new)\n",
    "counts = pd.DataFrame(rows)"
   ]
  },
  {
   "cell_type": "code",
   "execution_count": 80,
   "metadata": {
    "ExecuteTime": {
     "end_time": "2021-04-29T13:19:45.299251Z",
     "start_time": "2021-04-29T13:19:45.291398Z"
    }
   },
   "outputs": [],
   "source": [
    "counts.to_csv(\"./datasets/happiness_trstprl_count.csv\")"
   ]
  },
  {
   "cell_type": "code",
   "execution_count": 81,
   "metadata": {
    "ExecuteTime": {
     "end_time": "2021-04-29T13:19:45.431840Z",
     "start_time": "2021-04-29T13:19:45.420526Z"
    }
   },
   "outputs": [
    {
     "data": {
      "text/html": [
       "<div>\n",
       "<style scoped>\n",
       "    .dataframe tbody tr th:only-of-type {\n",
       "        vertical-align: middle;\n",
       "    }\n",
       "\n",
       "    .dataframe tbody tr th {\n",
       "        vertical-align: top;\n",
       "    }\n",
       "\n",
       "    .dataframe thead th {\n",
       "        text-align: right;\n",
       "    }\n",
       "</style>\n",
       "<table border=\"1\" class=\"dataframe\">\n",
       "  <thead>\n",
       "    <tr style=\"text-align: right;\">\n",
       "      <th></th>\n",
       "      <th>Happiness</th>\n",
       "      <th>trstprl</th>\n",
       "      <th>value</th>\n",
       "    </tr>\n",
       "  </thead>\n",
       "  <tbody>\n",
       "    <tr>\n",
       "      <th>0</th>\n",
       "      <td>0</td>\n",
       "      <td>0</td>\n",
       "      <td>321</td>\n",
       "    </tr>\n",
       "    <tr>\n",
       "      <th>1</th>\n",
       "      <td>0</td>\n",
       "      <td>1</td>\n",
       "      <td>35</td>\n",
       "    </tr>\n",
       "    <tr>\n",
       "      <th>2</th>\n",
       "      <td>0</td>\n",
       "      <td>2</td>\n",
       "      <td>31</td>\n",
       "    </tr>\n",
       "    <tr>\n",
       "      <th>3</th>\n",
       "      <td>0</td>\n",
       "      <td>3</td>\n",
       "      <td>24</td>\n",
       "    </tr>\n",
       "    <tr>\n",
       "      <th>4</th>\n",
       "      <td>0</td>\n",
       "      <td>4</td>\n",
       "      <td>15</td>\n",
       "    </tr>\n",
       "    <tr>\n",
       "      <th>...</th>\n",
       "      <td>...</td>\n",
       "      <td>...</td>\n",
       "      <td>...</td>\n",
       "    </tr>\n",
       "    <tr>\n",
       "      <th>116</th>\n",
       "      <td>10</td>\n",
       "      <td>6</td>\n",
       "      <td>257</td>\n",
       "    </tr>\n",
       "    <tr>\n",
       "      <th>117</th>\n",
       "      <td>10</td>\n",
       "      <td>7</td>\n",
       "      <td>356</td>\n",
       "    </tr>\n",
       "    <tr>\n",
       "      <th>118</th>\n",
       "      <td>10</td>\n",
       "      <td>8</td>\n",
       "      <td>319</td>\n",
       "    </tr>\n",
       "    <tr>\n",
       "      <th>119</th>\n",
       "      <td>10</td>\n",
       "      <td>9</td>\n",
       "      <td>110</td>\n",
       "    </tr>\n",
       "    <tr>\n",
       "      <th>120</th>\n",
       "      <td>10</td>\n",
       "      <td>10</td>\n",
       "      <td>178</td>\n",
       "    </tr>\n",
       "  </tbody>\n",
       "</table>\n",
       "<p>121 rows × 3 columns</p>\n",
       "</div>"
      ],
      "text/plain": [
       "     Happiness  trstprl  value\n",
       "0            0        0    321\n",
       "1            0        1     35\n",
       "2            0        2     31\n",
       "3            0        3     24\n",
       "4            0        4     15\n",
       "..         ...      ...    ...\n",
       "116         10        6    257\n",
       "117         10        7    356\n",
       "118         10        8    319\n",
       "119         10        9    110\n",
       "120         10       10    178\n",
       "\n",
       "[121 rows x 3 columns]"
      ]
     },
     "execution_count": 81,
     "metadata": {},
     "output_type": "execute_result"
    }
   ],
   "source": [
    "counts"
   ]
  },
  {
   "cell_type": "code",
   "execution_count": 82,
   "metadata": {
    "ExecuteTime": {
     "end_time": "2021-04-29T13:19:45.606371Z",
     "start_time": "2021-04-29T13:19:45.561621Z"
    }
   },
   "outputs": [
    {
     "data": {
      "text/html": [
       "<div>\n",
       "<style scoped>\n",
       "    .dataframe tbody tr th:only-of-type {\n",
       "        vertical-align: middle;\n",
       "    }\n",
       "\n",
       "    .dataframe tbody tr th {\n",
       "        vertical-align: top;\n",
       "    }\n",
       "\n",
       "    .dataframe thead th {\n",
       "        text-align: right;\n",
       "    }\n",
       "</style>\n",
       "<table border=\"1\" class=\"dataframe\">\n",
       "  <thead>\n",
       "    <tr style=\"text-align: right;\">\n",
       "      <th></th>\n",
       "      <th>cntry</th>\n",
       "      <th>sclmeet</th>\n",
       "      <th>inprdsc</th>\n",
       "      <th>aesfdrk</th>\n",
       "      <th>health</th>\n",
       "      <th>hlthhmp</th>\n",
       "      <th>sclact</th>\n",
       "      <th>crmvct</th>\n",
       "      <th>fltsd</th>\n",
       "      <th>fltdpr</th>\n",
       "      <th>fltanx</th>\n",
       "      <th>flteeff</th>\n",
       "      <th>slprl</th>\n",
       "      <th>cldgng</th>\n",
       "      <th>fltlnl</th>\n",
       "      <th>tmimdng</th>\n",
       "      <th>tmabdng</th>\n",
       "      <th>tmendng</th>\n",
       "      <th>flapppl</th>\n",
       "      <th>lchshcp</th>\n",
       "      <th>stflife</th>\n",
       "      <th>happy</th>\n",
       "      <th>enjlf</th>\n",
       "      <th>wrhpp</th>\n",
       "      <th>fltpcfl</th>\n",
       "      <th>enrglot</th>\n",
       "      <th>dclvlf</th>\n",
       "      <th>accdng</th>\n",
       "      <th>dngval</th>\n",
       "      <th>optftr</th>\n",
       "      <th>lotsgot</th>\n",
       "      <th>pstvms</th>\n",
       "      <th>flclpla</th>\n",
       "      <th>pplahlp</th>\n",
       "      <th>rehlppl</th>\n",
       "      <th>trstprl</th>\n",
       "      <th>trstlgl</th>\n",
       "      <th>trstplc</th>\n",
       "      <th>trstplt</th>\n",
       "      <th>trstprt</th>\n",
       "      <th>trstep</th>\n",
       "      <th>trstun</th>\n",
       "      <th>ppltrst</th>\n",
       "      <th>pplfair</th>\n",
       "      <th>pplhlp</th>\n",
       "      <th>deaimpp</th>\n",
       "      <th>flrms</th>\n",
       "      <th>sedirlf</th>\n",
       "      <th>wrbknrm</th>\n",
       "      <th>uempla</th>\n",
       "      <th>uempli</th>\n",
       "      <th>Sadness</th>\n",
       "      <th>Enthusiasm</th>\n",
       "      <th>Happiness</th>\n",
       "      <th>Optimism</th>\n",
       "      <th>Trust</th>\n",
       "      <th>Helpful</th>\n",
       "    </tr>\n",
       "  </thead>\n",
       "  <tbody>\n",
       "    <tr>\n",
       "      <th>0</th>\n",
       "      <td>Albania</td>\n",
       "      <td>Once a week</td>\n",
       "      <td>3</td>\n",
       "      <td>Very safe</td>\n",
       "      <td>Fair</td>\n",
       "      <td>No</td>\n",
       "      <td>About the same</td>\n",
       "      <td>Less than most</td>\n",
       "      <td>Some of the time</td>\n",
       "      <td>Most of the time</td>\n",
       "      <td>Some of the time</td>\n",
       "      <td>Some of the time</td>\n",
       "      <td>All or almost all of the time</td>\n",
       "      <td>NaN</td>\n",
       "      <td>None or almost none of the time</td>\n",
       "      <td>8</td>\n",
       "      <td>8</td>\n",
       "      <td>8</td>\n",
       "      <td>10</td>\n",
       "      <td>Agree</td>\n",
       "      <td>6</td>\n",
       "      <td>8</td>\n",
       "      <td>Some of the time</td>\n",
       "      <td>Most of the time</td>\n",
       "      <td>Most of the time</td>\n",
       "      <td>Most of the time</td>\n",
       "      <td>Agree strongly</td>\n",
       "      <td>Agree</td>\n",
       "      <td>Agree</td>\n",
       "      <td>Agree strongly</td>\n",
       "      <td>Disagree</td>\n",
       "      <td>Agree</td>\n",
       "      <td>Agree</td>\n",
       "      <td>1</td>\n",
       "      <td>6</td>\n",
       "      <td>0</td>\n",
       "      <td>0</td>\n",
       "      <td>2</td>\n",
       "      <td>0</td>\n",
       "      <td>0</td>\n",
       "      <td>2</td>\n",
       "      <td>2</td>\n",
       "      <td>5</td>\n",
       "      <td>3</td>\n",
       "      <td>0</td>\n",
       "      <td>5</td>\n",
       "      <td>Disagree</td>\n",
       "      <td>3</td>\n",
       "      <td>Disagree</td>\n",
       "      <td>0</td>\n",
       "      <td>0</td>\n",
       "      <td>Some of the time</td>\n",
       "      <td>8</td>\n",
       "      <td>7</td>\n",
       "      <td>Agree</td>\n",
       "      <td>2</td>\n",
       "      <td>3</td>\n",
       "    </tr>\n",
       "    <tr>\n",
       "      <th>1</th>\n",
       "      <td>Albania</td>\n",
       "      <td>Once a month</td>\n",
       "      <td>1</td>\n",
       "      <td>Unsafe</td>\n",
       "      <td>Good</td>\n",
       "      <td>No</td>\n",
       "      <td>Less than most</td>\n",
       "      <td>Less than most</td>\n",
       "      <td>All or almost all of the time</td>\n",
       "      <td>All or almost all of the time</td>\n",
       "      <td>All or almost all of the time</td>\n",
       "      <td>Some of the time</td>\n",
       "      <td>Most of the time</td>\n",
       "      <td>NaN</td>\n",
       "      <td>All or almost all of the time</td>\n",
       "      <td>10</td>\n",
       "      <td>5</td>\n",
       "      <td>0</td>\n",
       "      <td>10</td>\n",
       "      <td>Agree strongly</td>\n",
       "      <td>0</td>\n",
       "      <td>0</td>\n",
       "      <td>None or almost none of the time</td>\n",
       "      <td>None or almost none of the time</td>\n",
       "      <td>Some of the time</td>\n",
       "      <td>None or almost none of the time</td>\n",
       "      <td>Agree strongly</td>\n",
       "      <td>Agree</td>\n",
       "      <td>Agree strongly</td>\n",
       "      <td>Agree</td>\n",
       "      <td>Agree strongly</td>\n",
       "      <td>Neither agree nor disagree</td>\n",
       "      <td>Neither agree nor disagree</td>\n",
       "      <td>0</td>\n",
       "      <td>6</td>\n",
       "      <td>0</td>\n",
       "      <td>0</td>\n",
       "      <td>10</td>\n",
       "      <td>8</td>\n",
       "      <td>10</td>\n",
       "      <td>10</td>\n",
       "      <td>10</td>\n",
       "      <td>0</td>\n",
       "      <td>88</td>\n",
       "      <td>0</td>\n",
       "      <td>0</td>\n",
       "      <td>Agree</td>\n",
       "      <td>10</td>\n",
       "      <td>Agree</td>\n",
       "      <td>1</td>\n",
       "      <td>0</td>\n",
       "      <td>Most of the time</td>\n",
       "      <td>6</td>\n",
       "      <td>0</td>\n",
       "      <td>Agree strongly</td>\n",
       "      <td>0</td>\n",
       "      <td>3</td>\n",
       "    </tr>\n",
       "    <tr>\n",
       "      <th>2</th>\n",
       "      <td>Albania</td>\n",
       "      <td>Every day</td>\n",
       "      <td>10 or more</td>\n",
       "      <td>Unsafe</td>\n",
       "      <td>Very good</td>\n",
       "      <td>No</td>\n",
       "      <td>About the same</td>\n",
       "      <td>Much less than most</td>\n",
       "      <td>Some of the time</td>\n",
       "      <td>Some of the time</td>\n",
       "      <td>None or almost none of the time</td>\n",
       "      <td>Most of the time</td>\n",
       "      <td>Some of the time</td>\n",
       "      <td>NaN</td>\n",
       "      <td>Some of the time</td>\n",
       "      <td>10</td>\n",
       "      <td>10</td>\n",
       "      <td>10</td>\n",
       "      <td>3</td>\n",
       "      <td>Agree</td>\n",
       "      <td>5</td>\n",
       "      <td>5</td>\n",
       "      <td>Most of the time</td>\n",
       "      <td>Some of the time</td>\n",
       "      <td>Some of the time</td>\n",
       "      <td>Most of the time</td>\n",
       "      <td>Agree strongly</td>\n",
       "      <td>Agree</td>\n",
       "      <td>Agree strongly</td>\n",
       "      <td>Agree strongly</td>\n",
       "      <td>Agree strongly</td>\n",
       "      <td>Agree</td>\n",
       "      <td>Disagree</td>\n",
       "      <td>0</td>\n",
       "      <td>6</td>\n",
       "      <td>88</td>\n",
       "      <td>2</td>\n",
       "      <td>0</td>\n",
       "      <td>0</td>\n",
       "      <td>0</td>\n",
       "      <td>8</td>\n",
       "      <td>5</td>\n",
       "      <td>5</td>\n",
       "      <td>5</td>\n",
       "      <td>4</td>\n",
       "      <td>5</td>\n",
       "      <td>Disagree strongly</td>\n",
       "      <td>10</td>\n",
       "      <td>Disagree strongly</td>\n",
       "      <td>0</td>\n",
       "      <td>0</td>\n",
       "      <td>Some of the time</td>\n",
       "      <td>8</td>\n",
       "      <td>5</td>\n",
       "      <td>Agree strongly</td>\n",
       "      <td>4</td>\n",
       "      <td>3</td>\n",
       "    </tr>\n",
       "    <tr>\n",
       "      <th>3</th>\n",
       "      <td>Albania</td>\n",
       "      <td>Several times a week</td>\n",
       "      <td>2</td>\n",
       "      <td>Very safe</td>\n",
       "      <td>Fair</td>\n",
       "      <td>No</td>\n",
       "      <td>About the same</td>\n",
       "      <td>Less than most</td>\n",
       "      <td>Most of the time</td>\n",
       "      <td>Some of the time</td>\n",
       "      <td>Some of the time</td>\n",
       "      <td>Most of the time</td>\n",
       "      <td>Most of the time</td>\n",
       "      <td>NaN</td>\n",
       "      <td>Most of the time</td>\n",
       "      <td>88</td>\n",
       "      <td>88</td>\n",
       "      <td>88</td>\n",
       "      <td>88</td>\n",
       "      <td>Agree strongly</td>\n",
       "      <td>1</td>\n",
       "      <td>4</td>\n",
       "      <td>Some of the time</td>\n",
       "      <td>Some of the time</td>\n",
       "      <td>Most of the time</td>\n",
       "      <td>Some of the time</td>\n",
       "      <td>Agree</td>\n",
       "      <td>Agree</td>\n",
       "      <td>Dont know</td>\n",
       "      <td>Agree</td>\n",
       "      <td>Dont know</td>\n",
       "      <td>Agree</td>\n",
       "      <td>Dont know</td>\n",
       "      <td>8</td>\n",
       "      <td>8</td>\n",
       "      <td>1</td>\n",
       "      <td>7</td>\n",
       "      <td>0</td>\n",
       "      <td>1</td>\n",
       "      <td>1</td>\n",
       "      <td>10</td>\n",
       "      <td>8</td>\n",
       "      <td>10</td>\n",
       "      <td>5</td>\n",
       "      <td>2</td>\n",
       "      <td>88</td>\n",
       "      <td>Agree strongly</td>\n",
       "      <td>88</td>\n",
       "      <td>Agree strongly</td>\n",
       "      <td>0</td>\n",
       "      <td>0</td>\n",
       "      <td>Some of the time</td>\n",
       "      <td>99</td>\n",
       "      <td>2</td>\n",
       "      <td>Agree</td>\n",
       "      <td>6</td>\n",
       "      <td>9</td>\n",
       "    </tr>\n",
       "    <tr>\n",
       "      <th>4</th>\n",
       "      <td>Albania</td>\n",
       "      <td>Several times a month</td>\n",
       "      <td>None</td>\n",
       "      <td>Safe</td>\n",
       "      <td>Fair</td>\n",
       "      <td>No</td>\n",
       "      <td>Less than most</td>\n",
       "      <td>Less than most</td>\n",
       "      <td>Most of the time</td>\n",
       "      <td>Some of the time</td>\n",
       "      <td>Some of the time</td>\n",
       "      <td>Most of the time</td>\n",
       "      <td>All or almost all of the time</td>\n",
       "      <td>NaN</td>\n",
       "      <td>Some of the time</td>\n",
       "      <td>10</td>\n",
       "      <td>88</td>\n",
       "      <td>88</td>\n",
       "      <td>8</td>\n",
       "      <td>Neither agree nor disagree</td>\n",
       "      <td>6</td>\n",
       "      <td>7</td>\n",
       "      <td>Dont know</td>\n",
       "      <td>Some of the time</td>\n",
       "      <td>None or almost none of the time</td>\n",
       "      <td>None or almost none of the time</td>\n",
       "      <td>Agree</td>\n",
       "      <td>Neither agree nor disagree</td>\n",
       "      <td>Agree</td>\n",
       "      <td>Disagree</td>\n",
       "      <td>Agree strongly</td>\n",
       "      <td>Neither agree nor disagree</td>\n",
       "      <td>Agree</td>\n",
       "      <td>4</td>\n",
       "      <td>6</td>\n",
       "      <td>8</td>\n",
       "      <td>6</td>\n",
       "      <td>7</td>\n",
       "      <td>8</td>\n",
       "      <td>7</td>\n",
       "      <td>9</td>\n",
       "      <td>10</td>\n",
       "      <td>5</td>\n",
       "      <td>6</td>\n",
       "      <td>7</td>\n",
       "      <td>88</td>\n",
       "      <td>Neither agree nor disagree</td>\n",
       "      <td>10</td>\n",
       "      <td>Agree</td>\n",
       "      <td>0</td>\n",
       "      <td>0</td>\n",
       "      <td>Some of the time</td>\n",
       "      <td>9</td>\n",
       "      <td>6</td>\n",
       "      <td>Agree</td>\n",
       "      <td>6</td>\n",
       "      <td>5</td>\n",
       "    </tr>\n",
       "  </tbody>\n",
       "</table>\n",
       "</div>"
      ],
      "text/plain": [
       "     cntry                sclmeet     inprdsc    aesfdrk     health hlthhmp  \\\n",
       "0  Albania            Once a week           3  Very safe       Fair      No   \n",
       "1  Albania           Once a month           1     Unsafe       Good      No   \n",
       "2  Albania              Every day  10 or more     Unsafe  Very good      No   \n",
       "3  Albania   Several times a week           2  Very safe       Fair      No   \n",
       "4  Albania  Several times a month        None       Safe       Fair      No   \n",
       "\n",
       "           sclact               crmvct                          fltsd  \\\n",
       "0  About the same       Less than most               Some of the time   \n",
       "1  Less than most       Less than most  All or almost all of the time   \n",
       "2  About the same  Much less than most               Some of the time   \n",
       "3  About the same       Less than most               Most of the time   \n",
       "4  Less than most       Less than most               Most of the time   \n",
       "\n",
       "                          fltdpr                           fltanx  \\\n",
       "0               Most of the time                 Some of the time   \n",
       "1  All or almost all of the time    All or almost all of the time   \n",
       "2               Some of the time  None or almost none of the time   \n",
       "3               Some of the time                 Some of the time   \n",
       "4               Some of the time                 Some of the time   \n",
       "\n",
       "            flteeff                          slprl cldgng  \\\n",
       "0  Some of the time  All or almost all of the time    NaN   \n",
       "1  Some of the time               Most of the time    NaN   \n",
       "2  Most of the time               Some of the time    NaN   \n",
       "3  Most of the time               Most of the time    NaN   \n",
       "4  Most of the time  All or almost all of the time    NaN   \n",
       "\n",
       "                            fltlnl  tmimdng  tmabdng  tmendng  flapppl  \\\n",
       "0  None or almost none of the time        8        8        8       10   \n",
       "1    All or almost all of the time       10        5        0       10   \n",
       "2                 Some of the time       10       10       10        3   \n",
       "3                 Most of the time       88       88       88       88   \n",
       "4                 Some of the time       10       88       88        8   \n",
       "\n",
       "                      lchshcp  stflife  happy  \\\n",
       "0                       Agree        6      8   \n",
       "1              Agree strongly        0      0   \n",
       "2                       Agree        5      5   \n",
       "3              Agree strongly        1      4   \n",
       "4  Neither agree nor disagree        6      7   \n",
       "\n",
       "                             enjlf                            wrhpp  \\\n",
       "0                 Some of the time                 Most of the time   \n",
       "1  None or almost none of the time  None or almost none of the time   \n",
       "2                 Most of the time                 Some of the time   \n",
       "3                 Some of the time                 Some of the time   \n",
       "4                        Dont know                 Some of the time   \n",
       "\n",
       "                           fltpcfl                          enrglot  \\\n",
       "0                 Most of the time                 Most of the time   \n",
       "1                 Some of the time  None or almost none of the time   \n",
       "2                 Some of the time                 Most of the time   \n",
       "3                 Most of the time                 Some of the time   \n",
       "4  None or almost none of the time  None or almost none of the time   \n",
       "\n",
       "           dclvlf                      accdng          dngval          optftr  \\\n",
       "0  Agree strongly                       Agree           Agree  Agree strongly   \n",
       "1  Agree strongly                       Agree  Agree strongly           Agree   \n",
       "2  Agree strongly                       Agree  Agree strongly  Agree strongly   \n",
       "3           Agree                       Agree       Dont know           Agree   \n",
       "4           Agree  Neither agree nor disagree           Agree        Disagree   \n",
       "\n",
       "          lotsgot                      pstvms                     flclpla  \\\n",
       "0        Disagree                       Agree                       Agree   \n",
       "1  Agree strongly  Neither agree nor disagree  Neither agree nor disagree   \n",
       "2  Agree strongly                       Agree                    Disagree   \n",
       "3       Dont know                       Agree                   Dont know   \n",
       "4  Agree strongly  Neither agree nor disagree                       Agree   \n",
       "\n",
       "   pplahlp  rehlppl  trstprl  trstlgl  trstplc  trstplt  trstprt  trstep  \\\n",
       "0        1        6        0        0        2        0        0       2   \n",
       "1        0        6        0        0       10        8       10      10   \n",
       "2        0        6       88        2        0        0        0       8   \n",
       "3        8        8        1        7        0        1        1      10   \n",
       "4        4        6        8        6        7        8        7       9   \n",
       "\n",
       "   trstun  ppltrst  pplfair  pplhlp  deaimpp                       flrms  \\\n",
       "0       2        5        3       0        5                    Disagree   \n",
       "1      10        0       88       0        0                       Agree   \n",
       "2       5        5        5       4        5           Disagree strongly   \n",
       "3       8       10        5       2       88              Agree strongly   \n",
       "4      10        5        6       7       88  Neither agree nor disagree   \n",
       "\n",
       "   sedirlf            wrbknrm  uempla  uempli           Sadness  Enthusiasm  \\\n",
       "0        3           Disagree       0       0  Some of the time           8   \n",
       "1       10              Agree       1       0  Most of the time           6   \n",
       "2       10  Disagree strongly       0       0  Some of the time           8   \n",
       "3       88     Agree strongly       0       0  Some of the time          99   \n",
       "4       10              Agree       0       0  Some of the time           9   \n",
       "\n",
       "   Happiness        Optimism  Trust  Helpful  \n",
       "0          7           Agree      2        3  \n",
       "1          0  Agree strongly      0        3  \n",
       "2          5  Agree strongly      4        3  \n",
       "3          2           Agree      6        9  \n",
       "4          6           Agree      6        5  "
      ]
     },
     "execution_count": 82,
     "metadata": {},
     "output_type": "execute_result"
    }
   ],
   "source": [
    "df.head()"
   ]
  },
  {
   "cell_type": "markdown",
   "metadata": {},
   "source": [
    "## Create dataset for arc plot"
   ]
  },
  {
   "cell_type": "code",
   "execution_count": 209,
   "metadata": {
    "ExecuteTime": {
     "end_time": "2021-04-29T17:32:51.921931Z",
     "start_time": "2021-04-29T17:32:51.917419Z"
    }
   },
   "outputs": [],
   "source": [
    "group_mapping = {\n",
    "    \"Happiness\": 0,\n",
    "    \"trstprl\": 1,\n",
    "    \"trstlgl\": 2,\n",
    "    \"trstplc\": 3,\n",
    "    \"trstplt\": 4,\n",
    "    \"trstprt\": 5,\n",
    "    \"trstep\": 6,\n",
    "    \"trstun\": 7\n",
    "}"
   ]
  },
  {
   "cell_type": "code",
   "execution_count": 210,
   "metadata": {
    "ExecuteTime": {
     "end_time": "2021-04-29T17:32:52.289258Z",
     "start_time": "2021-04-29T17:32:52.275449Z"
    }
   },
   "outputs": [],
   "source": [
    "ess = {}\n",
    "ess[\"nodes\"] = []\n",
    "for k, v in group_mapping.items():\n",
    "    for i in range(11):\n",
    "        ess[\"nodes\"].append({\"name\": f\"{k}_{i}\", \"group\": v, \"index\": v*11+i})"
   ]
  },
  {
   "cell_type": "code",
   "execution_count": 211,
   "metadata": {
    "ExecuteTime": {
     "end_time": "2021-04-29T17:32:52.747327Z",
     "start_time": "2021-04-29T17:32:52.583483Z"
    }
   },
   "outputs": [],
   "source": [
    "columns_to_filter = group_mapping.keys()\n",
    "cleaned_df = df.copy()\n",
    "for col in columns_to_filter:\n",
    "    cleaned_df = cleaned_df[cleaned_df[col] < 11]"
   ]
  },
  {
   "cell_type": "code",
   "execution_count": 212,
   "metadata": {
    "ExecuteTime": {
     "end_time": "2021-04-29T17:32:59.014560Z",
     "start_time": "2021-04-29T17:32:52.917213Z"
    }
   },
   "outputs": [],
   "source": [
    "from collections import defaultdict\n",
    "\n",
    "links = defaultdict(int)\n",
    "trst_cols = [col for col in columns_to_filter if col != \"Happiness\"]\n",
    "for i, row in cleaned_df.iterrows():\n",
    "    for col in trst_cols:\n",
    "        links[f\"{col}_{row[col]}_{row['Happiness']}\"] += 1 "
   ]
  },
  {
   "cell_type": "code",
   "execution_count": 213,
   "metadata": {
    "ExecuteTime": {
     "end_time": "2021-04-29T17:32:59.176293Z",
     "start_time": "2021-04-29T17:32:59.172311Z"
    }
   },
   "outputs": [],
   "source": [
    "node_to_index_mapping = {node[\"name\"]: node[\"index\"] for node in ess[\"nodes\"]}"
   ]
  },
  {
   "cell_type": "code",
   "execution_count": 217,
   "metadata": {
    "ExecuteTime": {
     "end_time": "2021-04-29T17:33:36.665899Z",
     "start_time": "2021-04-29T17:33:36.659976Z"
    }
   },
   "outputs": [],
   "source": [
    "import random\n",
    "# format links for vega\n",
    "formatted_links = []\n",
    "for k, v in links.items():\n",
    "    trst_col, trust_val, happiness_val = k.split(\"_\")\n",
    "    formatted_links.append({'source': node_to_index_mapping[f\"{trst_col}_{trust_val}\"], 'target': int(happiness_val), 'value': v/100})\n",
    "\n",
    "ess[\"links\"] = formatted_links"
   ]
  },
  {
   "cell_type": "code",
   "execution_count": 219,
   "metadata": {
    "ExecuteTime": {
     "end_time": "2021-04-29T17:33:37.588637Z",
     "start_time": "2021-04-29T17:33:37.569059Z"
    }
   },
   "outputs": [],
   "source": [
    "with open(\"arc_plot_trst_vs_happiness.json\", \"w+\") as f:\n",
    "    json.dump(ess, f)"
   ]
  },
  {
   "cell_type": "markdown",
   "metadata": {},
   "source": [
    "## Create dataset for edge bundling"
   ]
  },
  {
   "cell_type": "code",
   "execution_count": 220,
   "metadata": {
    "ExecuteTime": {
     "end_time": "2021-04-29T17:34:12.429985Z",
     "start_time": "2021-04-29T17:34:12.424070Z"
    }
   },
   "outputs": [],
   "source": [
    "ess_network = {}\n",
    "ess_network[\"nodes\"] = []\n",
    "for k, v in group_mapping.items():\n",
    "    for i in range(11):\n",
    "        ess_network[\"nodes\"].append({\"name\": f\"{k}_{i}\", \"group\": v, \"index\": v*11+i})"
   ]
  },
  {
   "cell_type": "code",
   "execution_count": 225,
   "metadata": {
    "ExecuteTime": {
     "end_time": "2021-04-29T17:44:08.857499Z",
     "start_time": "2021-04-29T17:43:54.336621Z"
    }
   },
   "outputs": [],
   "source": [
    "from collections import defaultdict\n",
    "\n",
    "links = defaultdict(int)\n",
    "trst_cols = [col for col in columns_to_filter if col != \"Happiness\"]\n",
    "for _, row in cleaned_df.iterrows():\n",
    "    for i, col_i in enumerate(columns_to_filter):\n",
    "        for j, col_j in enumerate(columns_to_filter):\n",
    "            if j > i:\n",
    "                links[f\"{col_i}_{row[col_i]}__{col_j}_{row[col_j]}\"] += 1 "
   ]
  },
  {
   "cell_type": "code",
   "execution_count": 229,
   "metadata": {
    "ExecuteTime": {
     "end_time": "2021-04-29T17:47:27.323034Z",
     "start_time": "2021-04-29T17:47:27.314927Z"
    }
   },
   "outputs": [],
   "source": [
    "formatted_links = []\n",
    "for k, v in links.items():\n",
    "    if k.startswith(\"Happiness\"):\n",
    "        target, source = k.split(\"__\")\n",
    "    else:\n",
    "        source, target = k.split(\"__\")\n",
    "    formatted_links.append({'source': node_to_index_mapping[source], 'target': node_to_index_mapping[target], 'value': v})\n",
    "\n",
    "ess_network[\"links\"] = formatted_links"
   ]
  },
  {
   "cell_type": "code",
   "execution_count": 230,
   "metadata": {
    "ExecuteTime": {
     "end_time": "2021-04-29T17:47:28.287161Z",
     "start_time": "2021-04-29T17:47:28.237053Z"
    }
   },
   "outputs": [],
   "source": [
    "with open(\"network_plot_trst_vs_happiness.json\", \"w+\") as f:\n",
    "    json.dump(ess_network, f)"
   ]
  },
  {
   "cell_type": "code",
   "execution_count": null,
   "metadata": {},
   "outputs": [],
   "source": []
  }
 ],
 "metadata": {
  "hide_input": false,
  "kernelspec": {
   "display_name": "Python 3",
   "language": "python",
   "name": "python3"
  },
  "language_info": {
   "codemirror_mode": {
    "name": "ipython",
    "version": 3
   },
   "file_extension": ".py",
   "mimetype": "text/x-python",
   "name": "python",
   "nbconvert_exporter": "python",
   "pygments_lexer": "ipython3",
   "version": "3.8.6"
  },
  "toc": {
   "base_numbering": 1,
   "nav_menu": {},
   "number_sections": true,
   "sideBar": true,
   "skip_h1_title": false,
   "title_cell": "Table of Contents",
   "title_sidebar": "Contents",
   "toc_cell": false,
   "toc_position": {},
   "toc_section_display": true,
   "toc_window_display": false
  },
  "varInspector": {
   "cols": {
    "lenName": 16,
    "lenType": 16,
    "lenVar": 40
   },
   "kernels_config": {
    "python": {
     "delete_cmd_postfix": "",
     "delete_cmd_prefix": "del ",
     "library": "var_list.py",
     "varRefreshCmd": "print(var_dic_list())"
    },
    "r": {
     "delete_cmd_postfix": ") ",
     "delete_cmd_prefix": "rm(",
     "library": "var_list.r",
     "varRefreshCmd": "cat(var_dic_list()) "
    }
   },
   "types_to_exclude": [
    "module",
    "function",
    "builtin_function_or_method",
    "instance",
    "_Feature"
   ],
   "window_display": false
  }
 },
 "nbformat": 4,
 "nbformat_minor": 4
}
