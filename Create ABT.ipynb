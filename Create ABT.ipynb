{
 "cells": [
  {
   "cell_type": "markdown",
   "metadata": {},
   "source": [
    "### Importings"
   ]
  },
  {
   "cell_type": "code",
   "execution_count": 16,
   "metadata": {
    "ExecuteTime": {
     "end_time": "2021-03-24T21:57:44.801317Z",
     "start_time": "2021-03-24T21:57:44.742313Z"
    }
   },
   "outputs": [],
   "source": [
    "import pandas as pd\n",
    "import warnings\n",
    "warnings.filterwarnings(\"ignore\")\n",
    "pd.options.display.max_columns = None\n",
    "\n",
    "# set your path\n",
    "DATASET_PATH = '../datasets/'"
   ]
  },
  {
   "cell_type": "code",
   "execution_count": 17,
   "metadata": {
    "ExecuteTime": {
     "end_time": "2021-03-24T21:57:51.813831Z",
     "start_time": "2021-03-24T21:57:45.002832Z"
    }
   },
   "outputs": [
    {
     "name": "stdout",
     "output_type": "stream",
     "text": [
      "Warning: column count mismatch (191 + 239 != 624)\n",
      "\n"
     ]
    }
   ],
   "source": [
    "df = pd.read_sas(DATASET_PATH + '/ess6e02_4.sas7bdat', encoding = 'latin-1')"
   ]
  },
  {
   "cell_type": "markdown",
   "metadata": {},
   "source": [
    "### Filter columns"
   ]
  },
  {
   "cell_type": "code",
   "execution_count": 25,
   "metadata": {
    "ExecuteTime": {
     "end_time": "2021-03-24T22:21:51.654659Z",
     "start_time": "2021-03-24T22:21:51.571642Z"
    }
   },
   "outputs": [],
   "source": [
    "cols = ['cntry', 'sclmeet', 'inprdsc', 'aesfdrk', 'health', 'hlthhmp', 'sclact', 'crmvct',\n",
    "        'fltsd', 'fltdpr', 'fltanx', 'flteeff', 'slprl', 'cldgng', 'fltlnl',\n",
    "        'tmimdng', 'tmabdng', 'tmendng', 'flapppl', 'lchshcp',\n",
    "        'stflife', 'happy', 'enjlf', 'wrhpp', 'fltpcfl', 'enrglot',\n",
    "        'dclvlf', 'accdng', 'dngval', 'optftr', 'lotsgot', 'pstvms', \n",
    "        'flclpla', 'pplahlp', 'rehlppl', 'trstprl', 'trstlgl', 'trstplc', 'trstplt', 'trstprt', 'trstep', 'trstun', \n",
    "        'ppltrst', 'pplfair', 'pplhlp','deaimpp', 'flrms', 'sedirlf', 'wrbknrm', 'uempla','uempli']\n",
    "\n",
    "df = df[cols]"
   ]
  },
  {
   "cell_type": "markdown",
   "metadata": {},
   "source": [
    "### Dataprep"
   ]
  },
  {
   "cell_type": "code",
   "execution_count": 26,
   "metadata": {
    "ExecuteTime": {
     "end_time": "2021-03-24T22:21:52.338106Z",
     "start_time": "2021-03-24T22:21:52.313083Z"
    }
   },
   "outputs": [],
   "source": [
    "df['cntry'] = df['cntry'].map({'AL':'Albania','BE':'Belgium','BG':'Bulgaria','CH':'Switzerland','CY':'Cyprus','CZ':'Czechia','DE':'Germany','DK':'Denmark','EE':'Estonia','ES':'Spain','FI':'Finland','FR':'France','GB':'United Kingdom','HU':'Hungary','IE':'Ireland','IL':'Israel','IS':'Iceland','IT':'Italy','LT':'Lithuania','NL':'Netherlands','NO':'Norway','PL':'Poland','PT':'Portugal','RU':'Russian Federation','SE':'Sweden','SI':'Slovenia','SK':'Slovakia','UA':'Ukraine','XK':'Kosovo'})"
   ]
  },
  {
   "cell_type": "code",
   "execution_count": 27,
   "metadata": {
    "ExecuteTime": {
     "end_time": "2021-03-24T22:21:52.652118Z",
     "start_time": "2021-03-24T22:21:52.498527Z"
    }
   },
   "outputs": [],
   "source": [
    "df['sclmeet'] = df['sclmeet'].map({1:'Never',2:'Less than once a month',3:'Once a month',4:'Several times a month',5:'Once a week',6:'Several times a week',7:'Every day',77:'Refusal',88:'Dont know',99:'No answer'})\n",
    "df['inprdsc'] = df['inprdsc'].map({0:'None',1:'1',2:'2',3:'3',4:'4-6',5:'7-9',6:'10 or more',77:'Refusal',88:'Dont know',99:'No answer'})\n",
    "df['aesfdrk'] = df['aesfdrk'].map({1:'Very safe',2:'Safe',3:'Unsafe',4:'Very unsafe',7:'Refusal',8:'Dont know',9:'No answer'})\n",
    "df['health'] = df['health'].map({1:'Very good',2:'Good',3:'Fair',4:'Bad',5:'Very bad',7:'Refusal',8:'Dont know',9:'No answer'})\n",
    "df['hlthhmp'] = df['hlthhmp'].map({1:'Yes a lot',2:'Yes to some extent',3:'No',7:'Refusal',8:'Dont know',9:'No answer'})"
   ]
  },
  {
   "cell_type": "code",
   "execution_count": 28,
   "metadata": {
    "ExecuteTime": {
     "end_time": "2021-03-24T22:21:52.810623Z",
     "start_time": "2021-03-24T22:21:52.750094Z"
    }
   },
   "outputs": [],
   "source": [
    "for col in ['sclact', 'crmvct']:\n",
    "    df[col] = df[col].map({1:'Much less than most',2:'Less than most',3:'About the same',\n",
    "                           4:'More than most',5:'Much more than most',7:'Refusal',8:'Dont know',9:'No answer'})"
   ]
  },
  {
   "cell_type": "code",
   "execution_count": 29,
   "metadata": {
    "ExecuteTime": {
     "end_time": "2021-03-24T22:21:53.161165Z",
     "start_time": "2021-03-24T22:21:52.907167Z"
    }
   },
   "outputs": [],
   "source": [
    "for col in ['fltsd', 'fltdpr', 'fltanx', 'flteeff', 'slprl', 'cldgng', 'fltlnl',\n",
    "            'enjlf', 'wrhpp', 'fltpcfl', 'enrglot']:\n",
    "    df[col] = df[col].map({1:'None or almost none of the time',2:'Some of the time',3:'Most of the time',\n",
    "                           4:'All or almost all of the time',7:'Refusal',8:'Dont know',9:'No answer'})"
   ]
  },
  {
   "cell_type": "code",
   "execution_count": 30,
   "metadata": {
    "ExecuteTime": {
     "end_time": "2021-03-24T22:21:53.476948Z",
     "start_time": "2021-03-24T22:21:53.259717Z"
    }
   },
   "outputs": [],
   "source": [
    "for col in ['dclvlf', 'accdng', 'dngval', 'optftr', 'lotsgot', 'pstvms', 'flclpla', 'lchshcp', 'flrms', 'wrbknrm']:\n",
    "    df[col] = df[col].map({1:'Agree strongly',2:'Agree',3:'Neither agree nor disagree',4:'Disagree',\n",
    "                           5:'Disagree strongly',7:'Refusal',8:'Dont know',9:'No answer'})"
   ]
  },
  {
   "cell_type": "code",
   "execution_count": 31,
   "metadata": {
    "ExecuteTime": {
     "end_time": "2021-03-24T22:21:53.743538Z",
     "start_time": "2021-03-24T22:21:53.621998Z"
    }
   },
   "outputs": [],
   "source": [
    "for col in df.select_dtypes(include='float'):\n",
    "    df[col] = df[col].astype('int16')"
   ]
  },
  {
   "cell_type": "code",
   "execution_count": 32,
   "metadata": {
    "ExecuteTime": {
     "end_time": "2021-03-24T22:21:53.887534Z",
     "start_time": "2021-03-24T22:21:53.842517Z"
    }
   },
   "outputs": [
    {
     "data": {
      "text/html": [
       "<div>\n",
       "<style scoped>\n",
       "    .dataframe tbody tr th:only-of-type {\n",
       "        vertical-align: middle;\n",
       "    }\n",
       "\n",
       "    .dataframe tbody tr th {\n",
       "        vertical-align: top;\n",
       "    }\n",
       "\n",
       "    .dataframe thead th {\n",
       "        text-align: right;\n",
       "    }\n",
       "</style>\n",
       "<table border=\"1\" class=\"dataframe\">\n",
       "  <thead>\n",
       "    <tr style=\"text-align: right;\">\n",
       "      <th></th>\n",
       "      <th>cntry</th>\n",
       "      <th>sclmeet</th>\n",
       "      <th>inprdsc</th>\n",
       "      <th>aesfdrk</th>\n",
       "      <th>health</th>\n",
       "      <th>hlthhmp</th>\n",
       "      <th>sclact</th>\n",
       "      <th>crmvct</th>\n",
       "      <th>fltsd</th>\n",
       "      <th>fltdpr</th>\n",
       "      <th>fltanx</th>\n",
       "      <th>flteeff</th>\n",
       "      <th>slprl</th>\n",
       "      <th>cldgng</th>\n",
       "      <th>fltlnl</th>\n",
       "      <th>tmimdng</th>\n",
       "      <th>tmabdng</th>\n",
       "      <th>tmendng</th>\n",
       "      <th>flapppl</th>\n",
       "      <th>lchshcp</th>\n",
       "      <th>stflife</th>\n",
       "      <th>happy</th>\n",
       "      <th>enjlf</th>\n",
       "      <th>wrhpp</th>\n",
       "      <th>fltpcfl</th>\n",
       "      <th>enrglot</th>\n",
       "      <th>dclvlf</th>\n",
       "      <th>accdng</th>\n",
       "      <th>dngval</th>\n",
       "      <th>optftr</th>\n",
       "      <th>lotsgot</th>\n",
       "      <th>pstvms</th>\n",
       "      <th>flclpla</th>\n",
       "      <th>pplahlp</th>\n",
       "      <th>rehlppl</th>\n",
       "      <th>trstprl</th>\n",
       "      <th>trstlgl</th>\n",
       "      <th>trstplc</th>\n",
       "      <th>trstplt</th>\n",
       "      <th>trstprt</th>\n",
       "      <th>trstep</th>\n",
       "      <th>trstun</th>\n",
       "      <th>ppltrst</th>\n",
       "      <th>pplfair</th>\n",
       "      <th>pplhlp</th>\n",
       "      <th>deaimpp</th>\n",
       "      <th>flrms</th>\n",
       "      <th>sedirlf</th>\n",
       "      <th>wrbknrm</th>\n",
       "      <th>uempla</th>\n",
       "      <th>uempli</th>\n",
       "    </tr>\n",
       "  </thead>\n",
       "  <tbody>\n",
       "    <tr>\n",
       "      <th>0</th>\n",
       "      <td>Albania</td>\n",
       "      <td>Once a week</td>\n",
       "      <td>3</td>\n",
       "      <td>Very safe</td>\n",
       "      <td>Fair</td>\n",
       "      <td>No</td>\n",
       "      <td>About the same</td>\n",
       "      <td>Less than most</td>\n",
       "      <td>Some of the time</td>\n",
       "      <td>Most of the time</td>\n",
       "      <td>Some of the time</td>\n",
       "      <td>Some of the time</td>\n",
       "      <td>All or almost all of the time</td>\n",
       "      <td>NaN</td>\n",
       "      <td>None or almost none of the time</td>\n",
       "      <td>8</td>\n",
       "      <td>8</td>\n",
       "      <td>8</td>\n",
       "      <td>10</td>\n",
       "      <td>Agree</td>\n",
       "      <td>6</td>\n",
       "      <td>8</td>\n",
       "      <td>Some of the time</td>\n",
       "      <td>Most of the time</td>\n",
       "      <td>Most of the time</td>\n",
       "      <td>Most of the time</td>\n",
       "      <td>Agree strongly</td>\n",
       "      <td>Agree</td>\n",
       "      <td>Agree</td>\n",
       "      <td>Agree strongly</td>\n",
       "      <td>Disagree</td>\n",
       "      <td>Agree</td>\n",
       "      <td>Agree</td>\n",
       "      <td>1</td>\n",
       "      <td>6</td>\n",
       "      <td>0</td>\n",
       "      <td>0</td>\n",
       "      <td>2</td>\n",
       "      <td>0</td>\n",
       "      <td>0</td>\n",
       "      <td>2</td>\n",
       "      <td>2</td>\n",
       "      <td>5</td>\n",
       "      <td>3</td>\n",
       "      <td>0</td>\n",
       "      <td>5</td>\n",
       "      <td>Disagree</td>\n",
       "      <td>3</td>\n",
       "      <td>Disagree</td>\n",
       "      <td>0</td>\n",
       "      <td>0</td>\n",
       "    </tr>\n",
       "    <tr>\n",
       "      <th>1</th>\n",
       "      <td>Albania</td>\n",
       "      <td>Once a month</td>\n",
       "      <td>1</td>\n",
       "      <td>Unsafe</td>\n",
       "      <td>Good</td>\n",
       "      <td>No</td>\n",
       "      <td>Less than most</td>\n",
       "      <td>Less than most</td>\n",
       "      <td>All or almost all of the time</td>\n",
       "      <td>All or almost all of the time</td>\n",
       "      <td>All or almost all of the time</td>\n",
       "      <td>Some of the time</td>\n",
       "      <td>Most of the time</td>\n",
       "      <td>NaN</td>\n",
       "      <td>All or almost all of the time</td>\n",
       "      <td>10</td>\n",
       "      <td>5</td>\n",
       "      <td>0</td>\n",
       "      <td>10</td>\n",
       "      <td>Agree strongly</td>\n",
       "      <td>0</td>\n",
       "      <td>0</td>\n",
       "      <td>None or almost none of the time</td>\n",
       "      <td>None or almost none of the time</td>\n",
       "      <td>Some of the time</td>\n",
       "      <td>None or almost none of the time</td>\n",
       "      <td>Agree strongly</td>\n",
       "      <td>Agree</td>\n",
       "      <td>Agree strongly</td>\n",
       "      <td>Agree</td>\n",
       "      <td>Agree strongly</td>\n",
       "      <td>Neither agree nor disagree</td>\n",
       "      <td>Neither agree nor disagree</td>\n",
       "      <td>0</td>\n",
       "      <td>6</td>\n",
       "      <td>0</td>\n",
       "      <td>0</td>\n",
       "      <td>10</td>\n",
       "      <td>8</td>\n",
       "      <td>10</td>\n",
       "      <td>10</td>\n",
       "      <td>10</td>\n",
       "      <td>0</td>\n",
       "      <td>88</td>\n",
       "      <td>0</td>\n",
       "      <td>0</td>\n",
       "      <td>Agree</td>\n",
       "      <td>10</td>\n",
       "      <td>Agree</td>\n",
       "      <td>1</td>\n",
       "      <td>0</td>\n",
       "    </tr>\n",
       "    <tr>\n",
       "      <th>2</th>\n",
       "      <td>Albania</td>\n",
       "      <td>Every day</td>\n",
       "      <td>10 or more</td>\n",
       "      <td>Unsafe</td>\n",
       "      <td>Very good</td>\n",
       "      <td>No</td>\n",
       "      <td>About the same</td>\n",
       "      <td>Much less than most</td>\n",
       "      <td>Some of the time</td>\n",
       "      <td>Some of the time</td>\n",
       "      <td>None or almost none of the time</td>\n",
       "      <td>Most of the time</td>\n",
       "      <td>Some of the time</td>\n",
       "      <td>NaN</td>\n",
       "      <td>Some of the time</td>\n",
       "      <td>10</td>\n",
       "      <td>10</td>\n",
       "      <td>10</td>\n",
       "      <td>3</td>\n",
       "      <td>Agree</td>\n",
       "      <td>5</td>\n",
       "      <td>5</td>\n",
       "      <td>Most of the time</td>\n",
       "      <td>Some of the time</td>\n",
       "      <td>Some of the time</td>\n",
       "      <td>Most of the time</td>\n",
       "      <td>Agree strongly</td>\n",
       "      <td>Agree</td>\n",
       "      <td>Agree strongly</td>\n",
       "      <td>Agree strongly</td>\n",
       "      <td>Agree strongly</td>\n",
       "      <td>Agree</td>\n",
       "      <td>Disagree</td>\n",
       "      <td>0</td>\n",
       "      <td>6</td>\n",
       "      <td>88</td>\n",
       "      <td>2</td>\n",
       "      <td>0</td>\n",
       "      <td>0</td>\n",
       "      <td>0</td>\n",
       "      <td>8</td>\n",
       "      <td>5</td>\n",
       "      <td>5</td>\n",
       "      <td>5</td>\n",
       "      <td>4</td>\n",
       "      <td>5</td>\n",
       "      <td>Disagree strongly</td>\n",
       "      <td>10</td>\n",
       "      <td>Disagree strongly</td>\n",
       "      <td>0</td>\n",
       "      <td>0</td>\n",
       "    </tr>\n",
       "  </tbody>\n",
       "</table>\n",
       "</div>"
      ],
      "text/plain": [
       "     cntry       sclmeet     inprdsc    aesfdrk     health hlthhmp  \\\n",
       "0  Albania   Once a week           3  Very safe       Fair      No   \n",
       "1  Albania  Once a month           1     Unsafe       Good      No   \n",
       "2  Albania     Every day  10 or more     Unsafe  Very good      No   \n",
       "\n",
       "           sclact               crmvct                          fltsd  \\\n",
       "0  About the same       Less than most               Some of the time   \n",
       "1  Less than most       Less than most  All or almost all of the time   \n",
       "2  About the same  Much less than most               Some of the time   \n",
       "\n",
       "                          fltdpr                           fltanx  \\\n",
       "0               Most of the time                 Some of the time   \n",
       "1  All or almost all of the time    All or almost all of the time   \n",
       "2               Some of the time  None or almost none of the time   \n",
       "\n",
       "            flteeff                          slprl cldgng  \\\n",
       "0  Some of the time  All or almost all of the time    NaN   \n",
       "1  Some of the time               Most of the time    NaN   \n",
       "2  Most of the time               Some of the time    NaN   \n",
       "\n",
       "                            fltlnl  tmimdng  tmabdng  tmendng  flapppl  \\\n",
       "0  None or almost none of the time        8        8        8       10   \n",
       "1    All or almost all of the time       10        5        0       10   \n",
       "2                 Some of the time       10       10       10        3   \n",
       "\n",
       "          lchshcp  stflife  happy                            enjlf  \\\n",
       "0           Agree        6      8                 Some of the time   \n",
       "1  Agree strongly        0      0  None or almost none of the time   \n",
       "2           Agree        5      5                 Most of the time   \n",
       "\n",
       "                             wrhpp           fltpcfl  \\\n",
       "0                 Most of the time  Most of the time   \n",
       "1  None or almost none of the time  Some of the time   \n",
       "2                 Some of the time  Some of the time   \n",
       "\n",
       "                           enrglot          dclvlf accdng          dngval  \\\n",
       "0                 Most of the time  Agree strongly  Agree           Agree   \n",
       "1  None or almost none of the time  Agree strongly  Agree  Agree strongly   \n",
       "2                 Most of the time  Agree strongly  Agree  Agree strongly   \n",
       "\n",
       "           optftr         lotsgot                      pstvms  \\\n",
       "0  Agree strongly        Disagree                       Agree   \n",
       "1           Agree  Agree strongly  Neither agree nor disagree   \n",
       "2  Agree strongly  Agree strongly                       Agree   \n",
       "\n",
       "                      flclpla  pplahlp  rehlppl  trstprl  trstlgl  trstplc  \\\n",
       "0                       Agree        1        6        0        0        2   \n",
       "1  Neither agree nor disagree        0        6        0        0       10   \n",
       "2                    Disagree        0        6       88        2        0   \n",
       "\n",
       "   trstplt  trstprt  trstep  trstun  ppltrst  pplfair  pplhlp  deaimpp  \\\n",
       "0        0        0       2       2        5        3       0        5   \n",
       "1        8       10      10      10        0       88       0        0   \n",
       "2        0        0       8       5        5        5       4        5   \n",
       "\n",
       "               flrms  sedirlf            wrbknrm  uempla  uempli  \n",
       "0           Disagree        3           Disagree       0       0  \n",
       "1              Agree       10              Agree       1       0  \n",
       "2  Disagree strongly       10  Disagree strongly       0       0  "
      ]
     },
     "execution_count": 32,
     "metadata": {},
     "output_type": "execute_result"
    }
   ],
   "source": [
    "df.head(3)"
   ]
  },
  {
   "cell_type": "markdown",
   "metadata": {},
   "source": [
    "### Exporting"
   ]
  },
  {
   "cell_type": "code",
   "execution_count": 33,
   "metadata": {
    "ExecuteTime": {
     "end_time": "2021-03-24T22:22:00.374520Z",
     "start_time": "2021-03-24T22:21:59.216534Z"
    }
   },
   "outputs": [],
   "source": [
    "df.to_csv(DATASET_PATH + 'df_tableau.csv', index=False)"
   ]
  }
 ],
 "metadata": {
  "hide_input": false,
  "kernelspec": {
   "display_name": "Python 3",
   "language": "python",
   "name": "python3"
  },
  "language_info": {
   "codemirror_mode": {
    "name": "ipython",
    "version": 3
   },
   "file_extension": ".py",
   "mimetype": "text/x-python",
   "name": "python",
   "nbconvert_exporter": "python",
   "pygments_lexer": "ipython3",
   "version": "3.8.3"
  },
  "toc": {
   "base_numbering": 1,
   "nav_menu": {},
   "number_sections": true,
   "sideBar": true,
   "skip_h1_title": false,
   "title_cell": "Table of Contents",
   "title_sidebar": "Contents",
   "toc_cell": false,
   "toc_position": {},
   "toc_section_display": true,
   "toc_window_display": false
  },
  "varInspector": {
   "cols": {
    "lenName": 16,
    "lenType": 16,
    "lenVar": 40
   },
   "kernels_config": {
    "python": {
     "delete_cmd_postfix": "",
     "delete_cmd_prefix": "del ",
     "library": "var_list.py",
     "varRefreshCmd": "print(var_dic_list())"
    },
    "r": {
     "delete_cmd_postfix": ") ",
     "delete_cmd_prefix": "rm(",
     "library": "var_list.r",
     "varRefreshCmd": "cat(var_dic_list()) "
    }
   },
   "types_to_exclude": [
    "module",
    "function",
    "builtin_function_or_method",
    "instance",
    "_Feature"
   ],
   "window_display": false
  }
 },
 "nbformat": 4,
 "nbformat_minor": 4
}
