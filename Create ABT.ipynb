{
 "cells": [
  {
   "cell_type": "markdown",
   "metadata": {},
   "source": [
    "### Importings"
   ]
  },
  {
   "cell_type": "code",
   "execution_count": 10,
   "metadata": {
    "ExecuteTime": {
     "end_time": "2021-03-24T21:57:44.801317Z",
     "start_time": "2021-03-24T21:57:44.742313Z"
    }
   },
   "outputs": [],
   "source": [
    "import pandas as pd\n",
    "import warnings\n",
    "import numpy as np\n",
    "warnings.filterwarnings(\"ignore\")\n",
    "pd.options.display.max_columns = None\n",
    "\n",
    "# set your path\n",
    "DATASET_PATH = '../datasets/'"
   ]
  },
  {
   "cell_type": "code",
   "execution_count": 3,
   "metadata": {
    "ExecuteTime": {
     "end_time": "2021-03-24T21:57:51.813831Z",
     "start_time": "2021-03-24T21:57:45.002832Z"
    }
   },
   "outputs": [
    {
     "name": "stdout",
     "output_type": "stream",
     "text": [
      "Warning: column count mismatch (191 + 239 != 624)\n",
      "\n"
     ]
    }
   ],
   "source": [
    "df = pd.read_sas(DATASET_PATH + '/ess6e02_4.sas7bdat', encoding = 'latin-1')\n",
    "df_efa = pd.read_csv('EFA_2.csv')"
   ]
  },
  {
   "cell_type": "markdown",
   "metadata": {},
   "source": [
    "### Filter columns"
   ]
  },
  {
   "cell_type": "code",
   "execution_count": 4,
   "metadata": {
    "ExecuteTime": {
     "end_time": "2021-03-24T22:21:51.654659Z",
     "start_time": "2021-03-24T22:21:51.571642Z"
    }
   },
   "outputs": [],
   "source": [
    "cols = ['cntry', 'sclmeet', 'inprdsc', 'aesfdrk', 'health', 'hlthhmp', 'sclact', 'crmvct',\n",
    "        'fltsd', 'fltdpr', 'fltanx', 'flteeff', 'slprl', 'cldgng', 'fltlnl',\n",
    "        'tmimdng', 'tmabdng', 'tmendng', 'flapppl', 'lchshcp',\n",
    "        'stflife', 'happy', 'enjlf', 'wrhpp', 'fltpcfl', 'enrglot',\n",
    "        'dclvlf', 'accdng', 'dngval', 'optftr', 'lotsgot', 'pstvms', \n",
    "        'flclpla', 'pplahlp', 'rehlppl', 'trstprl', 'trstlgl', 'trstplc', 'trstplt', 'trstprt', 'trstep', 'trstun', \n",
    "        'ppltrst', 'pplfair', 'pplhlp','deaimpp', 'flrms', 'sedirlf', 'wrbknrm', 'uempla','uempli']\n",
    "\n",
    "df = df[cols]"
   ]
  },
  {
   "cell_type": "markdown",
   "metadata": {},
   "source": [
    "### Dataprep"
   ]
  },
  {
   "cell_type": "markdown",
   "metadata": {},
   "source": [
    "#### Summarizing similar well-beings based on EFA"
   ]
  },
  {
   "cell_type": "code",
   "execution_count": 5,
   "metadata": {},
   "outputs": [
    {
     "data": {
      "text/plain": [
       "['Enjoyed life, how often past week',\n",
       " 'Were happy, how often past week',\n",
       " 'Felt calm and peaceful, how often past week',\n",
       " 'Had lot of energy, how often past week',\n",
       " 'Most people try to take advantage of you, or try to be fair',\n",
       " 'Feel close to the people in local area']"
      ]
     },
     "execution_count": 5,
     "metadata": {},
     "output_type": "execute_result"
    }
   ],
   "source": [
    "# dropping columns that have different measures\n",
    "df_efa.loc[df_efa['Item codes'].isin(['enjlf', 'wrhpp', 'fltpcfl', 'enrglot', 'pplfair', 'flclpla']), 'ESS Items'].tolist()"
   ]
  },
  {
   "cell_type": "code",
   "execution_count": 6,
   "metadata": {},
   "outputs": [],
   "source": [
    "df_efa = df_efa[~df_efa['Item codes'].isin(['enjlf', 'wrhpp', 'fltpcfl', 'enrglot', 'pplfair', 'flclpla'])] # dropping columns "
   ]
  },
  {
   "cell_type": "code",
   "execution_count": 7,
   "metadata": {},
   "outputs": [],
   "source": [
    "# creating dictionary to assign each factor to respective item code\n",
    "\n",
    "efa_item_codes = dict()\n",
    "for factor in df_efa.columns[2:]:\n",
    "    efa_item_codes.update({factor: df_efa.loc[~df_efa[factor].isna(), 'Item codes'].tolist()})"
   ]
  },
  {
   "cell_type": "code",
   "execution_count": 8,
   "metadata": {
    "tags": []
   },
   "outputs": [],
   "source": [
    "def summarize_factors(df, factor, factor_name, greater_than, fill_values, efa_item_codes=efa_item_codes, df_efa=df_efa):\n",
    "    '''Summarize variables of certain factor\n",
    "    '''\n",
    "    print(f'{factor} was named {factor_name} and consists on: \\n')\n",
    "    print('\\n'.join(df_efa.loc[~df_efa[factor].isna(), 'ESS Items'].tolist()))\n",
    "    \n",
    "    df_factor = df[efa_item_codes[factor]] # filter only variables of the factor\n",
    "    df_factor[df_factor > greater_than] = np.NaN\n",
    "    df[factor_name] = df_factor.mean(axis=1).fillna(fill_values).astype(int) # summarize by the mean, desconsidering useless values\n",
    "    return df"
   ]
  },
  {
   "cell_type": "code",
   "execution_count": 11,
   "metadata": {},
   "outputs": [
    {
     "name": "stdout",
     "output_type": "stream",
     "text": [
      "Factor 1 was named Sadness and consists on: \n",
      "\n",
      "Felt sad, how often past week\n",
      "Felt depressed, how often past week\n",
      "Felt anxious, how often past week\n",
      "Felt everything did as effort, how often past week\n",
      "Sleep was restless, how often past week\n",
      "Could not get going, how often past week\n",
      "Felt lonely, how often past week\n"
     ]
    }
   ],
   "source": [
    "df = summarize_factors(df, 'Factor 1', 'Sadness', 4, 9)"
   ]
  },
  {
   "cell_type": "code",
   "execution_count": 12,
   "metadata": {},
   "outputs": [
    {
     "name": "stdout",
     "output_type": "stream",
     "text": [
      "Factor 2 was named Enthusiasm and consists on: \n",
      "\n",
      "Interested in what you are doing, how much of the time\n",
      "Absorbed in what you are doing, how much of the time\n",
      "Enthusiastic about what you are doing, how much of the time\n",
      "Feel appreciated by people you are close to\n"
     ]
    }
   ],
   "source": [
    "df = summarize_factors(df, 'Factor 2', 'Enthusiasm', 10, 99)"
   ]
  },
  {
   "cell_type": "code",
   "execution_count": 13,
   "metadata": {},
   "outputs": [
    {
     "name": "stdout",
     "output_type": "stream",
     "text": [
      "Factor 3 was named Happiness and consists on: \n",
      "\n",
      "How satisfied with life as a whole\n",
      "How happy are you\n"
     ]
    }
   ],
   "source": [
    "df = summarize_factors(df, 'Factor 3', 'Happiness', 10, 99)"
   ]
  },
  {
   "cell_type": "code",
   "execution_count": 14,
   "metadata": {},
   "outputs": [
    {
     "name": "stdout",
     "output_type": "stream",
     "text": [
      "Factor 4 was named Optimism and consists on: \n",
      "\n",
      "Free to decide how to live my life\n",
      "Feel accomplishment from what I do\n",
      "Feel what I do in life is valuable and worthwhile\n",
      "Always optimistic about my future\n",
      "There are lots of things I am good at\n",
      "In general feel very positive about myself\n"
     ]
    }
   ],
   "source": [
    "df = summarize_factors(df, 'Factor 4', 'Optimism', 5, 9)"
   ]
  },
  {
   "cell_type": "code",
   "execution_count": 15,
   "metadata": {},
   "outputs": [
    {
     "name": "stdout",
     "output_type": "stream",
     "text": [
      "Factor 5 was named Trust and consists on: \n",
      "\n",
      "Most people can be trusted or you can't be too careful\n",
      "Most of the time people helpful or mostly looking out for themselves\n"
     ]
    }
   ],
   "source": [
    "df = summarize_factors(df, 'Factor 5', 'Trust', 10, 99)"
   ]
  },
  {
   "cell_type": "code",
   "execution_count": 16,
   "metadata": {},
   "outputs": [
    {
     "name": "stdout",
     "output_type": "stream",
     "text": [
      "Factor 6 was named Helpful and consists on: \n",
      "\n",
      "Feel people in local area help one another\n",
      "Receive help and support from people you are close to\n"
     ]
    }
   ],
   "source": [
    "df = summarize_factors(df, 'Factor 6', 'Helpful', 6, 9)"
   ]
  },
  {
   "cell_type": "markdown",
   "metadata": {},
   "source": [
    "#### Assigning values"
   ]
  },
  {
   "cell_type": "code",
   "execution_count": 24,
   "metadata": {
    "ExecuteTime": {
     "end_time": "2021-03-24T22:21:52.338106Z",
     "start_time": "2021-03-24T22:21:52.313083Z"
    }
   },
   "outputs": [],
   "source": [
    "df['cntry'] = df['cntry'].map({'AL':'Albania','BE':'Belgium','BG':'Bulgaria','CH':'Switzerland','CY':'Cyprus','CZ':'Czechia','DE':'Germany','DK':'Denmark','EE':'Estonia','ES':'Spain','FI':'Finland','FR':'France','GB':'United Kingdom','HU':'Hungary','IE':'Ireland','IL':'Israel','IS':'Iceland','IT':'Italy','LT':'Lithuania','NL':'Netherlands','NO':'Norway','PL':'Poland','PT':'Portugal','RU':'Russian Federation','SE':'Sweden','SI':'Slovenia','SK':'Slovakia','UA':'Ukraine','XK':'Kosovo'})"
   ]
  },
  {
   "cell_type": "code",
   "execution_count": 32,
   "metadata": {
    "ExecuteTime": {
     "end_time": "2021-03-24T22:21:52.652118Z",
     "start_time": "2021-03-24T22:21:52.498527Z"
    }
   },
   "outputs": [],
   "source": [
    "df['sclmeet'] = df['sclmeet'].map({1:'Never',2:'Less than once a month',3:'Once a month',4:'Several times a month',5:'Once a week',6:'Several times a week',7:'Every day',77:'Refusal',88:'Dont know',99:'No answer'})\n",
    "df['inprdsc'] = df['inprdsc'].map({0:'None',1:'1',2:'2',3:'3',4:'4-6',5:'7-9',6:'10 or more',77:'Refusal',88:'Dont know',99:'No answer'})\n",
    "df['aesfdrk'] = df['aesfdrk'].map({1:'Very safe',2:'Safe',3:'Unsafe',4:'Very unsafe',7:'Refusal',8:'Dont know',9:'No answer'})\n",
    "df['health'] = df['health'].map({1:'Very good',2:'Good',3:'Fair',4:'Bad',5:'Very bad',7:'Refusal',8:'Dont know',9:'No answer'})\n",
    "df['hlthhmp'] = df['hlthhmp'].map({1:'Yes a lot',2:'Yes to some extent',3:'No',7:'Refusal',8:'Dont know',9:'No answer'})"
   ]
  },
  {
   "cell_type": "code",
   "execution_count": 33,
   "metadata": {
    "ExecuteTime": {
     "end_time": "2021-03-24T22:21:52.810623Z",
     "start_time": "2021-03-24T22:21:52.750094Z"
    }
   },
   "outputs": [],
   "source": [
    "for col in ['sclact', 'crmvct']:\n",
    "    df[col] = df[col].map({1:'Much less than most',2:'Less than most',3:'About the same',\n",
    "                           4:'More than most',5:'Much more than most',7:'Refusal',8:'Dont know',9:'No answer'})"
   ]
  },
  {
   "cell_type": "code",
   "execution_count": 34,
   "metadata": {
    "ExecuteTime": {
     "end_time": "2021-03-24T22:21:53.161165Z",
     "start_time": "2021-03-24T22:21:52.907167Z"
    }
   },
   "outputs": [],
   "source": [
    "for col in ['fltsd', 'fltdpr', 'fltanx', 'flteeff', 'slprl', 'cldgng', 'fltlnl',\n",
    "            'enjlf', 'wrhpp', 'fltpcfl', 'enrglot', 'Sadness']:\n",
    "    df[col] = df[col].map({1:'None or almost none of the time',2:'Some of the time',3:'Most of the time',\n",
    "                           4:'All or almost all of the time',7:'Refusal',8:'Dont know',9:'No answer'})"
   ]
  },
  {
   "cell_type": "code",
   "execution_count": 35,
   "metadata": {
    "ExecuteTime": {
     "end_time": "2021-03-24T22:21:53.476948Z",
     "start_time": "2021-03-24T22:21:53.259717Z"
    }
   },
   "outputs": [],
   "source": [
    "for col in ['dclvlf', 'accdng', 'dngval', 'optftr', 'lotsgot', 'pstvms', 'flclpla', 'lchshcp', 'flrms', 'wrbknrm', 'Optimism']:\n",
    "    df[col] = df[col].map({1:'Agree strongly',2:'Agree',3:'Neither agree nor disagree',4:'Disagree',\n",
    "                           5:'Disagree strongly',7:'Refusal',8:'Dont know',9:'No answer'})"
   ]
  },
  {
   "cell_type": "code",
   "execution_count": 36,
   "metadata": {
    "ExecuteTime": {
     "end_time": "2021-03-24T22:21:53.743538Z",
     "start_time": "2021-03-24T22:21:53.621998Z"
    }
   },
   "outputs": [],
   "source": [
    "for col in df.select_dtypes(include='float'):\n",
    "    df[col] = df[col].astype('int16')"
   ]
  },
  {
   "cell_type": "code",
   "execution_count": 37,
   "metadata": {},
   "outputs": [
    {
     "data": {
      "text/html": [
       "<div>\n",
       "<style scoped>\n",
       "    .dataframe tbody tr th:only-of-type {\n",
       "        vertical-align: middle;\n",
       "    }\n",
       "\n",
       "    .dataframe tbody tr th {\n",
       "        vertical-align: top;\n",
       "    }\n",
       "\n",
       "    .dataframe thead th {\n",
       "        text-align: right;\n",
       "    }\n",
       "</style>\n",
       "<table border=\"1\" class=\"dataframe\">\n",
       "  <thead>\n",
       "    <tr style=\"text-align: right;\">\n",
       "      <th></th>\n",
       "      <th>cntry</th>\n",
       "      <th>sclmeet</th>\n",
       "      <th>inprdsc</th>\n",
       "      <th>aesfdrk</th>\n",
       "      <th>health</th>\n",
       "      <th>hlthhmp</th>\n",
       "      <th>sclact</th>\n",
       "      <th>crmvct</th>\n",
       "      <th>fltsd</th>\n",
       "      <th>fltdpr</th>\n",
       "      <th>fltanx</th>\n",
       "      <th>flteeff</th>\n",
       "      <th>slprl</th>\n",
       "      <th>cldgng</th>\n",
       "      <th>fltlnl</th>\n",
       "      <th>tmimdng</th>\n",
       "      <th>tmabdng</th>\n",
       "      <th>tmendng</th>\n",
       "      <th>flapppl</th>\n",
       "      <th>lchshcp</th>\n",
       "      <th>stflife</th>\n",
       "      <th>happy</th>\n",
       "      <th>enjlf</th>\n",
       "      <th>wrhpp</th>\n",
       "      <th>fltpcfl</th>\n",
       "      <th>enrglot</th>\n",
       "      <th>dclvlf</th>\n",
       "      <th>accdng</th>\n",
       "      <th>dngval</th>\n",
       "      <th>optftr</th>\n",
       "      <th>lotsgot</th>\n",
       "      <th>pstvms</th>\n",
       "      <th>flclpla</th>\n",
       "      <th>pplahlp</th>\n",
       "      <th>rehlppl</th>\n",
       "      <th>trstprl</th>\n",
       "      <th>trstlgl</th>\n",
       "      <th>trstplc</th>\n",
       "      <th>trstplt</th>\n",
       "      <th>trstprt</th>\n",
       "      <th>trstep</th>\n",
       "      <th>trstun</th>\n",
       "      <th>ppltrst</th>\n",
       "      <th>pplfair</th>\n",
       "      <th>pplhlp</th>\n",
       "      <th>deaimpp</th>\n",
       "      <th>flrms</th>\n",
       "      <th>sedirlf</th>\n",
       "      <th>wrbknrm</th>\n",
       "      <th>uempla</th>\n",
       "      <th>uempli</th>\n",
       "      <th>Sadness</th>\n",
       "      <th>Enthusiasm</th>\n",
       "      <th>Happiness</th>\n",
       "      <th>Optimism</th>\n",
       "      <th>Trust</th>\n",
       "      <th>Helpful</th>\n",
       "    </tr>\n",
       "  </thead>\n",
       "  <tbody>\n",
       "    <tr>\n",
       "      <th>0</th>\n",
       "      <td>Albania</td>\n",
       "      <td>Once a week</td>\n",
       "      <td>3</td>\n",
       "      <td>Very safe</td>\n",
       "      <td>Fair</td>\n",
       "      <td>No</td>\n",
       "      <td>About the same</td>\n",
       "      <td>Less than most</td>\n",
       "      <td>Some of the time</td>\n",
       "      <td>Most of the time</td>\n",
       "      <td>Some of the time</td>\n",
       "      <td>Some of the time</td>\n",
       "      <td>All or almost all of the time</td>\n",
       "      <td>NaN</td>\n",
       "      <td>None or almost none of the time</td>\n",
       "      <td>8</td>\n",
       "      <td>8</td>\n",
       "      <td>8</td>\n",
       "      <td>10</td>\n",
       "      <td>Agree</td>\n",
       "      <td>6</td>\n",
       "      <td>8</td>\n",
       "      <td>Some of the time</td>\n",
       "      <td>Most of the time</td>\n",
       "      <td>Most of the time</td>\n",
       "      <td>Most of the time</td>\n",
       "      <td>Agree strongly</td>\n",
       "      <td>Agree</td>\n",
       "      <td>Agree</td>\n",
       "      <td>Agree strongly</td>\n",
       "      <td>Disagree</td>\n",
       "      <td>Agree</td>\n",
       "      <td>Agree</td>\n",
       "      <td>1</td>\n",
       "      <td>6</td>\n",
       "      <td>0</td>\n",
       "      <td>0</td>\n",
       "      <td>2</td>\n",
       "      <td>0</td>\n",
       "      <td>0</td>\n",
       "      <td>2</td>\n",
       "      <td>2</td>\n",
       "      <td>5</td>\n",
       "      <td>3</td>\n",
       "      <td>0</td>\n",
       "      <td>5</td>\n",
       "      <td>Disagree</td>\n",
       "      <td>3</td>\n",
       "      <td>Disagree</td>\n",
       "      <td>0</td>\n",
       "      <td>0</td>\n",
       "      <td>Some of the time</td>\n",
       "      <td>8</td>\n",
       "      <td>7</td>\n",
       "      <td>Agree</td>\n",
       "      <td>2</td>\n",
       "      <td>3</td>\n",
       "    </tr>\n",
       "    <tr>\n",
       "      <th>1</th>\n",
       "      <td>Albania</td>\n",
       "      <td>Once a month</td>\n",
       "      <td>1</td>\n",
       "      <td>Unsafe</td>\n",
       "      <td>Good</td>\n",
       "      <td>No</td>\n",
       "      <td>Less than most</td>\n",
       "      <td>Less than most</td>\n",
       "      <td>All or almost all of the time</td>\n",
       "      <td>All or almost all of the time</td>\n",
       "      <td>All or almost all of the time</td>\n",
       "      <td>Some of the time</td>\n",
       "      <td>Most of the time</td>\n",
       "      <td>NaN</td>\n",
       "      <td>All or almost all of the time</td>\n",
       "      <td>10</td>\n",
       "      <td>5</td>\n",
       "      <td>0</td>\n",
       "      <td>10</td>\n",
       "      <td>Agree strongly</td>\n",
       "      <td>0</td>\n",
       "      <td>0</td>\n",
       "      <td>None or almost none of the time</td>\n",
       "      <td>None or almost none of the time</td>\n",
       "      <td>Some of the time</td>\n",
       "      <td>None or almost none of the time</td>\n",
       "      <td>Agree strongly</td>\n",
       "      <td>Agree</td>\n",
       "      <td>Agree strongly</td>\n",
       "      <td>Agree</td>\n",
       "      <td>Agree strongly</td>\n",
       "      <td>Neither agree nor disagree</td>\n",
       "      <td>Neither agree nor disagree</td>\n",
       "      <td>0</td>\n",
       "      <td>6</td>\n",
       "      <td>0</td>\n",
       "      <td>0</td>\n",
       "      <td>10</td>\n",
       "      <td>8</td>\n",
       "      <td>10</td>\n",
       "      <td>10</td>\n",
       "      <td>10</td>\n",
       "      <td>0</td>\n",
       "      <td>88</td>\n",
       "      <td>0</td>\n",
       "      <td>0</td>\n",
       "      <td>Agree</td>\n",
       "      <td>10</td>\n",
       "      <td>Agree</td>\n",
       "      <td>1</td>\n",
       "      <td>0</td>\n",
       "      <td>Most of the time</td>\n",
       "      <td>6</td>\n",
       "      <td>0</td>\n",
       "      <td>Agree strongly</td>\n",
       "      <td>0</td>\n",
       "      <td>3</td>\n",
       "    </tr>\n",
       "    <tr>\n",
       "      <th>2</th>\n",
       "      <td>Albania</td>\n",
       "      <td>Every day</td>\n",
       "      <td>10 or more</td>\n",
       "      <td>Unsafe</td>\n",
       "      <td>Very good</td>\n",
       "      <td>No</td>\n",
       "      <td>About the same</td>\n",
       "      <td>Much less than most</td>\n",
       "      <td>Some of the time</td>\n",
       "      <td>Some of the time</td>\n",
       "      <td>None or almost none of the time</td>\n",
       "      <td>Most of the time</td>\n",
       "      <td>Some of the time</td>\n",
       "      <td>NaN</td>\n",
       "      <td>Some of the time</td>\n",
       "      <td>10</td>\n",
       "      <td>10</td>\n",
       "      <td>10</td>\n",
       "      <td>3</td>\n",
       "      <td>Agree</td>\n",
       "      <td>5</td>\n",
       "      <td>5</td>\n",
       "      <td>Most of the time</td>\n",
       "      <td>Some of the time</td>\n",
       "      <td>Some of the time</td>\n",
       "      <td>Most of the time</td>\n",
       "      <td>Agree strongly</td>\n",
       "      <td>Agree</td>\n",
       "      <td>Agree strongly</td>\n",
       "      <td>Agree strongly</td>\n",
       "      <td>Agree strongly</td>\n",
       "      <td>Agree</td>\n",
       "      <td>Disagree</td>\n",
       "      <td>0</td>\n",
       "      <td>6</td>\n",
       "      <td>88</td>\n",
       "      <td>2</td>\n",
       "      <td>0</td>\n",
       "      <td>0</td>\n",
       "      <td>0</td>\n",
       "      <td>8</td>\n",
       "      <td>5</td>\n",
       "      <td>5</td>\n",
       "      <td>5</td>\n",
       "      <td>4</td>\n",
       "      <td>5</td>\n",
       "      <td>Disagree strongly</td>\n",
       "      <td>10</td>\n",
       "      <td>Disagree strongly</td>\n",
       "      <td>0</td>\n",
       "      <td>0</td>\n",
       "      <td>Some of the time</td>\n",
       "      <td>8</td>\n",
       "      <td>5</td>\n",
       "      <td>Agree strongly</td>\n",
       "      <td>4</td>\n",
       "      <td>3</td>\n",
       "    </tr>\n",
       "    <tr>\n",
       "      <th>3</th>\n",
       "      <td>Albania</td>\n",
       "      <td>Several times a week</td>\n",
       "      <td>2</td>\n",
       "      <td>Very safe</td>\n",
       "      <td>Fair</td>\n",
       "      <td>No</td>\n",
       "      <td>About the same</td>\n",
       "      <td>Less than most</td>\n",
       "      <td>Most of the time</td>\n",
       "      <td>Some of the time</td>\n",
       "      <td>Some of the time</td>\n",
       "      <td>Most of the time</td>\n",
       "      <td>Most of the time</td>\n",
       "      <td>NaN</td>\n",
       "      <td>Most of the time</td>\n",
       "      <td>88</td>\n",
       "      <td>88</td>\n",
       "      <td>88</td>\n",
       "      <td>88</td>\n",
       "      <td>Agree strongly</td>\n",
       "      <td>1</td>\n",
       "      <td>4</td>\n",
       "      <td>Some of the time</td>\n",
       "      <td>Some of the time</td>\n",
       "      <td>Most of the time</td>\n",
       "      <td>Some of the time</td>\n",
       "      <td>Agree</td>\n",
       "      <td>Agree</td>\n",
       "      <td>Dont know</td>\n",
       "      <td>Agree</td>\n",
       "      <td>Dont know</td>\n",
       "      <td>Agree</td>\n",
       "      <td>Dont know</td>\n",
       "      <td>8</td>\n",
       "      <td>8</td>\n",
       "      <td>1</td>\n",
       "      <td>7</td>\n",
       "      <td>0</td>\n",
       "      <td>1</td>\n",
       "      <td>1</td>\n",
       "      <td>10</td>\n",
       "      <td>8</td>\n",
       "      <td>10</td>\n",
       "      <td>5</td>\n",
       "      <td>2</td>\n",
       "      <td>88</td>\n",
       "      <td>Agree strongly</td>\n",
       "      <td>88</td>\n",
       "      <td>Agree strongly</td>\n",
       "      <td>0</td>\n",
       "      <td>0</td>\n",
       "      <td>Some of the time</td>\n",
       "      <td>99</td>\n",
       "      <td>2</td>\n",
       "      <td>Agree</td>\n",
       "      <td>6</td>\n",
       "      <td>9</td>\n",
       "    </tr>\n",
       "    <tr>\n",
       "      <th>4</th>\n",
       "      <td>Albania</td>\n",
       "      <td>Several times a month</td>\n",
       "      <td>None</td>\n",
       "      <td>Safe</td>\n",
       "      <td>Fair</td>\n",
       "      <td>No</td>\n",
       "      <td>Less than most</td>\n",
       "      <td>Less than most</td>\n",
       "      <td>Most of the time</td>\n",
       "      <td>Some of the time</td>\n",
       "      <td>Some of the time</td>\n",
       "      <td>Most of the time</td>\n",
       "      <td>All or almost all of the time</td>\n",
       "      <td>NaN</td>\n",
       "      <td>Some of the time</td>\n",
       "      <td>10</td>\n",
       "      <td>88</td>\n",
       "      <td>88</td>\n",
       "      <td>8</td>\n",
       "      <td>Neither agree nor disagree</td>\n",
       "      <td>6</td>\n",
       "      <td>7</td>\n",
       "      <td>Dont know</td>\n",
       "      <td>Some of the time</td>\n",
       "      <td>None or almost none of the time</td>\n",
       "      <td>None or almost none of the time</td>\n",
       "      <td>Agree</td>\n",
       "      <td>Neither agree nor disagree</td>\n",
       "      <td>Agree</td>\n",
       "      <td>Disagree</td>\n",
       "      <td>Agree strongly</td>\n",
       "      <td>Neither agree nor disagree</td>\n",
       "      <td>Agree</td>\n",
       "      <td>4</td>\n",
       "      <td>6</td>\n",
       "      <td>8</td>\n",
       "      <td>6</td>\n",
       "      <td>7</td>\n",
       "      <td>8</td>\n",
       "      <td>7</td>\n",
       "      <td>9</td>\n",
       "      <td>10</td>\n",
       "      <td>5</td>\n",
       "      <td>6</td>\n",
       "      <td>7</td>\n",
       "      <td>88</td>\n",
       "      <td>Neither agree nor disagree</td>\n",
       "      <td>10</td>\n",
       "      <td>Agree</td>\n",
       "      <td>0</td>\n",
       "      <td>0</td>\n",
       "      <td>Some of the time</td>\n",
       "      <td>9</td>\n",
       "      <td>6</td>\n",
       "      <td>Agree</td>\n",
       "      <td>6</td>\n",
       "      <td>5</td>\n",
       "    </tr>\n",
       "  </tbody>\n",
       "</table>\n",
       "</div>"
      ],
      "text/plain": [
       "     cntry                sclmeet     inprdsc    aesfdrk     health hlthhmp  \\\n",
       "0  Albania            Once a week           3  Very safe       Fair      No   \n",
       "1  Albania           Once a month           1     Unsafe       Good      No   \n",
       "2  Albania              Every day  10 or more     Unsafe  Very good      No   \n",
       "3  Albania   Several times a week           2  Very safe       Fair      No   \n",
       "4  Albania  Several times a month        None       Safe       Fair      No   \n",
       "\n",
       "           sclact               crmvct                          fltsd  \\\n",
       "0  About the same       Less than most               Some of the time   \n",
       "1  Less than most       Less than most  All or almost all of the time   \n",
       "2  About the same  Much less than most               Some of the time   \n",
       "3  About the same       Less than most               Most of the time   \n",
       "4  Less than most       Less than most               Most of the time   \n",
       "\n",
       "                          fltdpr                           fltanx  \\\n",
       "0               Most of the time                 Some of the time   \n",
       "1  All or almost all of the time    All or almost all of the time   \n",
       "2               Some of the time  None or almost none of the time   \n",
       "3               Some of the time                 Some of the time   \n",
       "4               Some of the time                 Some of the time   \n",
       "\n",
       "            flteeff                          slprl cldgng  \\\n",
       "0  Some of the time  All or almost all of the time    NaN   \n",
       "1  Some of the time               Most of the time    NaN   \n",
       "2  Most of the time               Some of the time    NaN   \n",
       "3  Most of the time               Most of the time    NaN   \n",
       "4  Most of the time  All or almost all of the time    NaN   \n",
       "\n",
       "                            fltlnl  tmimdng  tmabdng  tmendng  flapppl  \\\n",
       "0  None or almost none of the time        8        8        8       10   \n",
       "1    All or almost all of the time       10        5        0       10   \n",
       "2                 Some of the time       10       10       10        3   \n",
       "3                 Most of the time       88       88       88       88   \n",
       "4                 Some of the time       10       88       88        8   \n",
       "\n",
       "                      lchshcp  stflife  happy  \\\n",
       "0                       Agree        6      8   \n",
       "1              Agree strongly        0      0   \n",
       "2                       Agree        5      5   \n",
       "3              Agree strongly        1      4   \n",
       "4  Neither agree nor disagree        6      7   \n",
       "\n",
       "                             enjlf                            wrhpp  \\\n",
       "0                 Some of the time                 Most of the time   \n",
       "1  None or almost none of the time  None or almost none of the time   \n",
       "2                 Most of the time                 Some of the time   \n",
       "3                 Some of the time                 Some of the time   \n",
       "4                        Dont know                 Some of the time   \n",
       "\n",
       "                           fltpcfl                          enrglot  \\\n",
       "0                 Most of the time                 Most of the time   \n",
       "1                 Some of the time  None or almost none of the time   \n",
       "2                 Some of the time                 Most of the time   \n",
       "3                 Most of the time                 Some of the time   \n",
       "4  None or almost none of the time  None or almost none of the time   \n",
       "\n",
       "           dclvlf                      accdng          dngval          optftr  \\\n",
       "0  Agree strongly                       Agree           Agree  Agree strongly   \n",
       "1  Agree strongly                       Agree  Agree strongly           Agree   \n",
       "2  Agree strongly                       Agree  Agree strongly  Agree strongly   \n",
       "3           Agree                       Agree       Dont know           Agree   \n",
       "4           Agree  Neither agree nor disagree           Agree        Disagree   \n",
       "\n",
       "          lotsgot                      pstvms                     flclpla  \\\n",
       "0        Disagree                       Agree                       Agree   \n",
       "1  Agree strongly  Neither agree nor disagree  Neither agree nor disagree   \n",
       "2  Agree strongly                       Agree                    Disagree   \n",
       "3       Dont know                       Agree                   Dont know   \n",
       "4  Agree strongly  Neither agree nor disagree                       Agree   \n",
       "\n",
       "   pplahlp  rehlppl  trstprl  trstlgl  trstplc  trstplt  trstprt  trstep  \\\n",
       "0        1        6        0        0        2        0        0       2   \n",
       "1        0        6        0        0       10        8       10      10   \n",
       "2        0        6       88        2        0        0        0       8   \n",
       "3        8        8        1        7        0        1        1      10   \n",
       "4        4        6        8        6        7        8        7       9   \n",
       "\n",
       "   trstun  ppltrst  pplfair  pplhlp  deaimpp                       flrms  \\\n",
       "0       2        5        3       0        5                    Disagree   \n",
       "1      10        0       88       0        0                       Agree   \n",
       "2       5        5        5       4        5           Disagree strongly   \n",
       "3       8       10        5       2       88              Agree strongly   \n",
       "4      10        5        6       7       88  Neither agree nor disagree   \n",
       "\n",
       "   sedirlf            wrbknrm  uempla  uempli           Sadness  Enthusiasm  \\\n",
       "0        3           Disagree       0       0  Some of the time           8   \n",
       "1       10              Agree       1       0  Most of the time           6   \n",
       "2       10  Disagree strongly       0       0  Some of the time           8   \n",
       "3       88     Agree strongly       0       0  Some of the time          99   \n",
       "4       10              Agree       0       0  Some of the time           9   \n",
       "\n",
       "   Happiness        Optimism  Trust  Helpful  \n",
       "0          7           Agree      2        3  \n",
       "1          0  Agree strongly      0        3  \n",
       "2          5  Agree strongly      4        3  \n",
       "3          2           Agree      6        9  \n",
       "4          6           Agree      6        5  "
      ]
     },
     "execution_count": 37,
     "metadata": {},
     "output_type": "execute_result"
    }
   ],
   "source": [
    "df.head()"
   ]
  },
  {
   "cell_type": "markdown",
   "metadata": {},
   "source": [
    "### Exporting"
   ]
  },
  {
   "cell_type": "code",
   "execution_count": 38,
   "metadata": {
    "ExecuteTime": {
     "end_time": "2021-03-24T22:22:00.374520Z",
     "start_time": "2021-03-24T22:21:59.216534Z"
    }
   },
   "outputs": [],
   "source": [
    "df.to_csv(DATASET_PATH + 'df_abt.csv', index=False)"
   ]
  }
 ],
 "metadata": {
  "hide_input": false,
  "kernelspec": {
   "display_name": "Python 3",
   "language": "python",
   "name": "python3"
  },
  "language_info": {
   "codemirror_mode": {
    "name": "ipython",
    "version": 3
   },
   "file_extension": ".py",
   "mimetype": "text/x-python",
   "name": "python",
   "nbconvert_exporter": "python",
   "pygments_lexer": "ipython3",
   "version": "3.8.3"
  },
  "toc": {
   "base_numbering": 1,
   "nav_menu": {},
   "number_sections": true,
   "sideBar": true,
   "skip_h1_title": false,
   "title_cell": "Table of Contents",
   "title_sidebar": "Contents",
   "toc_cell": false,
   "toc_position": {},
   "toc_section_display": true,
   "toc_window_display": false
  },
  "varInspector": {
   "cols": {
    "lenName": 16,
    "lenType": 16,
    "lenVar": 40
   },
   "kernels_config": {
    "python": {
     "delete_cmd_postfix": "",
     "delete_cmd_prefix": "del ",
     "library": "var_list.py",
     "varRefreshCmd": "print(var_dic_list())"
    },
    "r": {
     "delete_cmd_postfix": ") ",
     "delete_cmd_prefix": "rm(",
     "library": "var_list.r",
     "varRefreshCmd": "cat(var_dic_list()) "
    }
   },
   "types_to_exclude": [
    "module",
    "function",
    "builtin_function_or_method",
    "instance",
    "_Feature"
   ],
   "window_display": false
  }
 },
 "nbformat": 4,
 "nbformat_minor": 4
}
