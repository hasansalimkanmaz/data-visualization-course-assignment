{
 "cells": [
  {
   "cell_type": "markdown",
   "metadata": {},
   "source": [
    "http://nesstar.ess.nsd.uib.no/webview/index.jsp?v=2&submode=abstract&study=http%3A%2F%2F129.177.90.83%3A80%2Fobj%2FfStudy%2FESS6e02.4&mode=documentation&top=yes\n",
    "\n",
    "https://docs.google.com/presentation/d/1Jr7YXWWu4Wkegx8jBnV6W8j-BTzg1Oypp5b4V0teP3E/edit#slide=id.gbf4aeacc9e_12_5"
   ]
  },
  {
   "cell_type": "code",
   "execution_count": 2,
   "metadata": {
    "ExecuteTime": {
     "end_time": "2021-04-20T12:28:37.137843Z",
     "start_time": "2021-04-20T12:28:35.705504Z"
    }
   },
   "outputs": [],
   "source": [
    "import numpy as np\n",
    "import pandas as pd\n",
    "import os\n",
    "import seaborn as sns\n",
    "import matplotlib.pyplot as plt\n",
    "\n",
    "pd.options.display.max_columns = None"
   ]
  },
  {
   "cell_type": "markdown",
   "metadata": {},
   "source": [
    "## Importings"
   ]
  },
  {
   "cell_type": "code",
   "execution_count": 5,
   "metadata": {
    "ExecuteTime": {
     "end_time": "2021-04-20T12:29:02.582845Z",
     "start_time": "2021-04-20T12:29:01.967190Z"
    }
   },
   "outputs": [],
   "source": [
    "DATASET_PATH = '../datasets/'\n",
    "\n",
    "df = pd.read_csv(DATASET_PATH + 'df_abt.csv')\n",
    "df_desc = pd.read_excel('Column descriptions.xlsx')\n",
    "df_efa = pd.read_csv('EFA_2.csv')\n",
    "\n",
    "# create dictionary of column name and its description\n",
    "dict_desc = dict(zip(df_desc['Column Name'], df_desc['Description']))"
   ]
  },
  {
   "cell_type": "markdown",
   "metadata": {},
   "source": [
    "## Tasks"
   ]
  },
  {
   "cell_type": "markdown",
   "metadata": {},
   "source": [
    "### How well-being differs based on countries? IN PROGRESS"
   ]
  },
  {
   "cell_type": "code",
   "execution_count": 130,
   "metadata": {
    "ExecuteTime": {
     "end_time": "2021-03-25T00:50:47.875228Z",
     "start_time": "2021-03-25T00:50:47.812206Z"
    }
   },
   "outputs": [
    {
     "data": {
      "text/html": [
       "<div>\n",
       "<style scoped>\n",
       "    .dataframe tbody tr th:only-of-type {\n",
       "        vertical-align: middle;\n",
       "    }\n",
       "\n",
       "    .dataframe tbody tr th {\n",
       "        vertical-align: top;\n",
       "    }\n",
       "\n",
       "    .dataframe thead th {\n",
       "        text-align: right;\n",
       "    }\n",
       "</style>\n",
       "<table border=\"1\" class=\"dataframe\">\n",
       "  <thead>\n",
       "    <tr style=\"text-align: right;\">\n",
       "      <th></th>\n",
       "      <th>Country</th>\n",
       "      <th>How often socially meet with friends, relatives or colleagues</th>\n",
       "      <th>how many people with whom you can discuss intimate and personal matters</th>\n",
       "      <th>Feeling of safety of walking alone in local area after dark</th>\n",
       "      <th>Subjective general health</th>\n",
       "      <th>Hampered in daily activities by illness/disability/infirmity/mental problem</th>\n",
       "      <th>Take part in social activities compared to others of same age</th>\n",
       "      <th>Respondent or household member victim of burglary/assault last 5 years</th>\n",
       "      <th>Felt sad, how often past week</th>\n",
       "      <th>felt depressed, how often past week</th>\n",
       "      <th>felt anxious how often past week</th>\n",
       "      <th>felt everything did as effort, how often past week</th>\n",
       "      <th>sleep was restless, how often past week</th>\n",
       "      <th>could not get going, how often past week</th>\n",
       "      <th>felt lonely, how often past week</th>\n",
       "      <th>interested in what you are doing, how much of the time.</th>\n",
       "      <th>absorbed in what you are doing, how much of the time</th>\n",
       "      <th>enthusiastic about what you are doing, how much of the time</th>\n",
       "      <th>feel appreciated by people you are close to</th>\n",
       "      <th>Little chance to show how capable I am</th>\n",
       "      <th>How satisfied with life as a whole</th>\n",
       "      <th>How happy are you</th>\n",
       "      <th>Enjoyed life, how often past week</th>\n",
       "      <th>Were happy, how often past week</th>\n",
       "      <th>felt calm and peaceful, how often past week</th>\n",
       "      <th>had lot of energy, how often past week</th>\n",
       "      <th>free to decide how to live my life</th>\n",
       "      <th>feel accomplisment from what I do</th>\n",
       "      <th>feel what I do in life is valueable and worthwhile</th>\n",
       "      <th>always optimistic about my future</th>\n",
       "      <th>there are lots of thing I am good at</th>\n",
       "      <th>in general feel very positive about myself</th>\n",
       "      <th>feel close to the people in local area</th>\n",
       "      <th>feel people in local area help one another</th>\n",
       "      <th>receive help and support from people you are close to</th>\n",
       "      <th>Trust in country's parliament</th>\n",
       "      <th>Trust in the legal system</th>\n",
       "      <th>Trust in the police</th>\n",
       "      <th>Trust in politicians</th>\n",
       "      <th>Trust in political parties</th>\n",
       "      <th>Trust in the European Parliament</th>\n",
       "      <th>Trust in the United Nations</th>\n",
       "      <th>you can't be too careful Most people can be trusted or</th>\n",
       "      <th>Most people try to take advantage of you Most people try to be fair</th>\n",
       "      <th>Most of the time people helpful or mostly looking out for themselves</th>\n",
       "      <th>deal with important problems in life</th>\n",
       "      <th>at times feel as if I am a failure</th>\n",
       "      <th>have a sense of direction in your life</th>\n",
       "      <th>when things go wrong in my life it takes a long time to get back to normal</th>\n",
       "      <th>Doing last 7 days: unemployed, actively looking for job</th>\n",
       "      <th>Doing last 7 days: unemployed, not actively looking for job</th>\n",
       "      <th>employed</th>\n",
       "    </tr>\n",
       "  </thead>\n",
       "  <tbody>\n",
       "    <tr>\n",
       "      <th>0</th>\n",
       "      <td>Albania</td>\n",
       "      <td>Once a week</td>\n",
       "      <td>3</td>\n",
       "      <td>Very safe</td>\n",
       "      <td>Fair</td>\n",
       "      <td>No</td>\n",
       "      <td>About the same</td>\n",
       "      <td>Less than most</td>\n",
       "      <td>Some of the time</td>\n",
       "      <td>Most of the time</td>\n",
       "      <td>Some of the time</td>\n",
       "      <td>Some of the time</td>\n",
       "      <td>All or almost all of the time</td>\n",
       "      <td>NaN</td>\n",
       "      <td>None or almost none of the time</td>\n",
       "      <td>8</td>\n",
       "      <td>8</td>\n",
       "      <td>8</td>\n",
       "      <td>10</td>\n",
       "      <td>Agree</td>\n",
       "      <td>6</td>\n",
       "      <td>8</td>\n",
       "      <td>Some of the time</td>\n",
       "      <td>Most of the time</td>\n",
       "      <td>Most of the time</td>\n",
       "      <td>Most of the time</td>\n",
       "      <td>Agree strongly</td>\n",
       "      <td>Agree</td>\n",
       "      <td>Agree</td>\n",
       "      <td>Agree strongly</td>\n",
       "      <td>Disagree</td>\n",
       "      <td>Agree</td>\n",
       "      <td>Agree</td>\n",
       "      <td>1</td>\n",
       "      <td>6</td>\n",
       "      <td>0</td>\n",
       "      <td>0</td>\n",
       "      <td>2</td>\n",
       "      <td>0</td>\n",
       "      <td>0</td>\n",
       "      <td>2</td>\n",
       "      <td>2</td>\n",
       "      <td>5</td>\n",
       "      <td>3</td>\n",
       "      <td>0</td>\n",
       "      <td>5</td>\n",
       "      <td>Disagree</td>\n",
       "      <td>3</td>\n",
       "      <td>Disagree</td>\n",
       "      <td>0</td>\n",
       "      <td>0</td>\n",
       "      <td>1</td>\n",
       "    </tr>\n",
       "    <tr>\n",
       "      <th>1</th>\n",
       "      <td>Albania</td>\n",
       "      <td>Once a month</td>\n",
       "      <td>1</td>\n",
       "      <td>Unsafe</td>\n",
       "      <td>Good</td>\n",
       "      <td>No</td>\n",
       "      <td>Less than most</td>\n",
       "      <td>Less than most</td>\n",
       "      <td>All or almost all of the time</td>\n",
       "      <td>All or almost all of the time</td>\n",
       "      <td>All or almost all of the time</td>\n",
       "      <td>Some of the time</td>\n",
       "      <td>Most of the time</td>\n",
       "      <td>NaN</td>\n",
       "      <td>All or almost all of the time</td>\n",
       "      <td>10</td>\n",
       "      <td>5</td>\n",
       "      <td>0</td>\n",
       "      <td>10</td>\n",
       "      <td>Agree strongly</td>\n",
       "      <td>0</td>\n",
       "      <td>0</td>\n",
       "      <td>None or almost none of the time</td>\n",
       "      <td>None or almost none of the time</td>\n",
       "      <td>Some of the time</td>\n",
       "      <td>None or almost none of the time</td>\n",
       "      <td>Agree strongly</td>\n",
       "      <td>Agree</td>\n",
       "      <td>Agree strongly</td>\n",
       "      <td>Agree</td>\n",
       "      <td>Agree strongly</td>\n",
       "      <td>Neither agree nor disagree</td>\n",
       "      <td>Neither agree nor disagree</td>\n",
       "      <td>0</td>\n",
       "      <td>6</td>\n",
       "      <td>0</td>\n",
       "      <td>0</td>\n",
       "      <td>10</td>\n",
       "      <td>8</td>\n",
       "      <td>10</td>\n",
       "      <td>10</td>\n",
       "      <td>10</td>\n",
       "      <td>0</td>\n",
       "      <td>88</td>\n",
       "      <td>0</td>\n",
       "      <td>0</td>\n",
       "      <td>Agree</td>\n",
       "      <td>10</td>\n",
       "      <td>Agree</td>\n",
       "      <td>1</td>\n",
       "      <td>0</td>\n",
       "      <td>0</td>\n",
       "    </tr>\n",
       "  </tbody>\n",
       "</table>\n",
       "</div>"
      ],
      "text/plain": [
       "   Country How often socially meet with friends, relatives or colleagues  \\\n",
       "0  Albania                                        Once a week              \n",
       "1  Albania                                       Once a month              \n",
       "\n",
       "  how many people with whom you can discuss intimate and personal matters  \\\n",
       "0                                                  3                        \n",
       "1                                                  1                        \n",
       "\n",
       "  Feeling of safety of walking alone in local area after dark  \\\n",
       "0                                          Very safe            \n",
       "1                                             Unsafe            \n",
       "\n",
       "  Subjective general health  \\\n",
       "0                      Fair   \n",
       "1                      Good   \n",
       "\n",
       "  Hampered in daily activities by illness/disability/infirmity/mental problem  \\\n",
       "0                                                 No                            \n",
       "1                                                 No                            \n",
       "\n",
       "  Take part in social activities compared to others of same age  \\\n",
       "0                                     About the same              \n",
       "1                                     Less than most              \n",
       "\n",
       "  Respondent or household member victim of burglary/assault last 5 years  \\\n",
       "0                                     Less than most                       \n",
       "1                                     Less than most                       \n",
       "\n",
       "   Felt sad, how often past week felt depressed, how often past week  \\\n",
       "0               Some of the time                    Most of the time   \n",
       "1  All or almost all of the time       All or almost all of the time   \n",
       "\n",
       "  felt anxious how often past week  \\\n",
       "0                 Some of the time   \n",
       "1    All or almost all of the time   \n",
       "\n",
       "  felt everything did as effort, how often past week  \\\n",
       "0                                   Some of the time   \n",
       "1                                   Some of the time   \n",
       "\n",
       "  sleep was restless, how often past week  \\\n",
       "0           All or almost all of the time   \n",
       "1                        Most of the time   \n",
       "\n",
       "  could not get going, how often past week felt lonely, how often past week  \\\n",
       "0                                      NaN  None or almost none of the time   \n",
       "1                                      NaN    All or almost all of the time   \n",
       "\n",
       "   interested in what you are doing, how much of the time.  \\\n",
       "0                                                  8         \n",
       "1                                                 10         \n",
       "\n",
       "   absorbed in what you are doing, how much of the time  \\\n",
       "0                                                  8      \n",
       "1                                                  5      \n",
       "\n",
       "   enthusiastic about what you are doing, how much of the time  \\\n",
       "0                                                  8             \n",
       "1                                                  0             \n",
       "\n",
       "   feel appreciated by people you are close to  \\\n",
       "0                                           10   \n",
       "1                                           10   \n",
       "\n",
       "  Little chance to show how capable I am  How satisfied with life as a whole  \\\n",
       "0                                  Agree                                   6   \n",
       "1                         Agree strongly                                   0   \n",
       "\n",
       "   How happy are you Enjoyed life, how often past week  \\\n",
       "0                  8                  Some of the time   \n",
       "1                  0   None or almost none of the time   \n",
       "\n",
       "   Were happy, how often past week  \\\n",
       "0                 Most of the time   \n",
       "1  None or almost none of the time   \n",
       "\n",
       "  felt calm and peaceful, how often past week  \\\n",
       "0                            Most of the time   \n",
       "1                            Some of the time   \n",
       "\n",
       "  had lot of energy, how often past week free to decide how to live my life  \\\n",
       "0                       Most of the time                     Agree strongly   \n",
       "1        None or almost none of the time                     Agree strongly   \n",
       "\n",
       "  feel accomplisment from what I do  \\\n",
       "0                             Agree   \n",
       "1                             Agree   \n",
       "\n",
       "  feel what I do in life is valueable and worthwhile  \\\n",
       "0                                              Agree   \n",
       "1                                     Agree strongly   \n",
       "\n",
       "  always optimistic about my future there are lots of thing I am good at  \\\n",
       "0                    Agree strongly                             Disagree   \n",
       "1                             Agree                       Agree strongly   \n",
       "\n",
       "  in general feel very positive about myself  \\\n",
       "0                                      Agree   \n",
       "1                 Neither agree nor disagree   \n",
       "\n",
       "  feel close to the people in local area  \\\n",
       "0                                  Agree   \n",
       "1             Neither agree nor disagree   \n",
       "\n",
       "   feel people in local area help one another  \\\n",
       "0                                           1   \n",
       "1                                           0   \n",
       "\n",
       "   receive help and support from people you are close to  \\\n",
       "0                                                  6       \n",
       "1                                                  6       \n",
       "\n",
       "   Trust in country's parliament  Trust in the legal system  \\\n",
       "0                              0                          0   \n",
       "1                              0                          0   \n",
       "\n",
       "   Trust in the police  Trust in politicians  Trust in political parties  \\\n",
       "0                    2                     0                           0   \n",
       "1                   10                     8                          10   \n",
       "\n",
       "   Trust in the European Parliament  Trust in the United Nations  \\\n",
       "0                                 2                            2   \n",
       "1                                10                           10   \n",
       "\n",
       "   you can't be too careful Most people can be trusted or   \\\n",
       "0                                                  5         \n",
       "1                                                  0         \n",
       "\n",
       "   Most people try to take advantage of you Most people try to be fair  \\\n",
       "0                                                  3                     \n",
       "1                                                 88                     \n",
       "\n",
       "   Most of the time people helpful or mostly looking out for themselves  \\\n",
       "0                                                  0                      \n",
       "1                                                  0                      \n",
       "\n",
       "   deal with important problems in life at times feel as if I am a failure  \\\n",
       "0                                     5                           Disagree   \n",
       "1                                     0                              Agree   \n",
       "\n",
       "   have a sense of direction in your life  \\\n",
       "0                                       3   \n",
       "1                                      10   \n",
       "\n",
       "  when things go wrong in my life it takes a long time to get back to normal  \\\n",
       "0                                           Disagree                           \n",
       "1                                              Agree                           \n",
       "\n",
       "   Doing last 7 days: unemployed, actively looking for job  \\\n",
       "0                                                  0         \n",
       "1                                                  1         \n",
       "\n",
       "   Doing last 7 days: unemployed, not actively looking for job  employed  \n",
       "0                                                  0                   1  \n",
       "1                                                  0                   0  "
      ]
     },
     "execution_count": 130,
     "metadata": {},
     "output_type": "execute_result"
    }
   ],
   "source": [
    "# rename dataset to description for better understanding of variable\n",
    "df.rename(columns=dict_desc).head(2)"
   ]
  },
  {
   "cell_type": "code",
   "execution_count": 152,
   "metadata": {
    "ExecuteTime": {
     "end_time": "2021-03-25T00:59:49.293995Z",
     "start_time": "2021-03-25T00:59:48.531061Z"
    }
   },
   "outputs": [
    {
     "name": "stdout",
     "output_type": "stream",
     "text": [
      "=======> Subjective general health\n"
     ]
    },
    {
     "data": {
      "image/png": "[encoded data removed]",
      "text/plain": [
       "<Figure size 1152x720 with 1 Axes>"
      ]
     },
     "metadata": {
      "needs_background": "light"
     },
     "output_type": "display_data"
    }
   ],
   "source": [
    "plot_pivot_table(df, 'health', categories=['Very bad', 'Bad', 'Fair', 'Good', 'Very good'], cmap='viridis')"
   ]
  },
  {
   "cell_type": "markdown",
   "metadata": {},
   "source": [
    "### What is the correlation between trust and well-being? - NOT DONE"
   ]
  },
  {
   "cell_type": "code",
   "execution_count": 17,
   "metadata": {
    "ExecuteTime": {
     "end_time": "2021-03-24T12:57:29.919976Z",
     "start_time": "2021-03-24T12:57:29.896977Z"
    }
   },
   "outputs": [
    {
     "data": {
      "text/html": [
       "<div>\n",
       "<style scoped>\n",
       "    .dataframe tbody tr th:only-of-type {\n",
       "        vertical-align: middle;\n",
       "    }\n",
       "\n",
       "    .dataframe tbody tr th {\n",
       "        vertical-align: top;\n",
       "    }\n",
       "\n",
       "    .dataframe thead th {\n",
       "        text-align: right;\n",
       "    }\n",
       "</style>\n",
       "<table border=\"1\" class=\"dataframe\">\n",
       "  <thead>\n",
       "    <tr style=\"text-align: right;\">\n",
       "      <th></th>\n",
       "      <th>Column Name</th>\n",
       "      <th>Description</th>\n",
       "      <th>scale</th>\n",
       "      <th>scale description</th>\n",
       "    </tr>\n",
       "  </thead>\n",
       "  <tbody>\n",
       "    <tr>\n",
       "      <th>0</th>\n",
       "      <td>stflife</td>\n",
       "      <td>How satisfied with life as a whole</td>\n",
       "      <td>0-1-2-3-4-…10</td>\n",
       "      <td>10 extremely satisfied</td>\n",
       "    </tr>\n",
       "    <tr>\n",
       "      <th>1</th>\n",
       "      <td>happy</td>\n",
       "      <td>How happy are you</td>\n",
       "      <td>0-1-2-3-4-…10</td>\n",
       "      <td>10 extremely happy</td>\n",
       "    </tr>\n",
       "    <tr>\n",
       "      <th>2</th>\n",
       "      <td>fltsd</td>\n",
       "      <td>Felt sad, how often past week</td>\n",
       "      <td>1-2-3-4</td>\n",
       "      <td>4 most of the time</td>\n",
       "    </tr>\n",
       "    <tr>\n",
       "      <th>3</th>\n",
       "      <td>fltdpr</td>\n",
       "      <td>felt depressed, how often past week</td>\n",
       "      <td>1-2-3-4</td>\n",
       "      <td>4 most of the time</td>\n",
       "    </tr>\n",
       "    <tr>\n",
       "      <th>4</th>\n",
       "      <td>enjlf</td>\n",
       "      <td>Enjoyed life, how often past week</td>\n",
       "      <td>1-2-3-4</td>\n",
       "      <td>4 most of the time</td>\n",
       "    </tr>\n",
       "  </tbody>\n",
       "</table>\n",
       "</div>"
      ],
      "text/plain": [
       "  Column Name                          Description          scale  \\\n",
       "0     stflife   How satisfied with life as a whole  0-1-2-3-4-…10   \n",
       "1       happy                    How happy are you  0-1-2-3-4-…10   \n",
       "2       fltsd        Felt sad, how often past week        1-2-3-4   \n",
       "3      fltdpr  felt depressed, how often past week        1-2-3-4   \n",
       "4       enjlf    Enjoyed life, how often past week        1-2-3-4   \n",
       "\n",
       "        scale description  \n",
       "0  10 extremely satisfied  \n",
       "1      10 extremely happy  \n",
       "2      4 most of the time  \n",
       "3      4 most of the time  \n",
       "4      4 most of the time  "
      ]
     },
     "execution_count": 17,
     "metadata": {},
     "output_type": "execute_result"
    }
   ],
   "source": [
    "df_desc.head()"
   ]
  },
  {
   "cell_type": "code",
   "execution_count": 26,
   "metadata": {
    "ExecuteTime": {
     "end_time": "2021-03-24T13:00:41.304930Z",
     "start_time": "2021-03-24T13:00:41.260935Z"
    }
   },
   "outputs": [],
   "source": [
    "wb_cols = ['stflife', 'happy', 'fltsd', 'fltdpr', 'enjlf', 'wrhpp', 'fltanx', 'fltpcfl',\n",
    "        'dclvlf', 'lchshcp', 'accdng', 'tmimdng', 'tmabdng', 'tmendng', 'dngval', 'sedirlf', \n",
    "        'optftr', 'lotsgot', 'pstvms', 'flrms', 'wrbknrm', 'deaimpp', 'flteeff', 'slprl', 'cldgng', \n",
    "        'enrglot', 'ppltrst', 'pplfair', 'pplhlp', 'pplahlp', 'flclpla', 'inprdsc', 'flapppl', 'rehlppl', \n",
    "        'fltlnl', 'lchshcp', 'aesfdrk', 'crmvct', 'health', 'hlthhmp', 'sclact', 'sclmeet']\n",
    "tr_cols = ['trstep', 'trstlgl', 'trstplc', 'trstplt', 'trstprl', 'trstprt', 'trstun']\n",
    "\n",
    "\n",
    "\n",
    "df = df[wb_cols + tr_cols]"
   ]
  },
  {
   "cell_type": "code",
   "execution_count": 44,
   "metadata": {
    "ExecuteTime": {
     "end_time": "2021-03-24T13:23:31.572413Z",
     "start_time": "2021-03-24T13:23:31.551412Z"
    }
   },
   "outputs": [
    {
     "data": {
      "text/html": [
       "<div>\n",
       "<style scoped>\n",
       "    .dataframe tbody tr th:only-of-type {\n",
       "        vertical-align: middle;\n",
       "    }\n",
       "\n",
       "    .dataframe tbody tr th {\n",
       "        vertical-align: top;\n",
       "    }\n",
       "\n",
       "    .dataframe thead th {\n",
       "        text-align: right;\n",
       "    }\n",
       "</style>\n",
       "<table border=\"1\" class=\"dataframe\">\n",
       "  <thead>\n",
       "    <tr style=\"text-align: right;\">\n",
       "      <th></th>\n",
       "      <th>Column Name</th>\n",
       "      <th>Description</th>\n",
       "      <th>scale</th>\n",
       "      <th>scale description</th>\n",
       "    </tr>\n",
       "  </thead>\n",
       "  <tbody>\n",
       "    <tr>\n",
       "      <th>0</th>\n",
       "      <td>stflife</td>\n",
       "      <td>How satisfied with life as a whole</td>\n",
       "      <td>0-1-2-3-4-…10</td>\n",
       "      <td>10 extremely satisfied</td>\n",
       "    </tr>\n",
       "    <tr>\n",
       "      <th>1</th>\n",
       "      <td>happy</td>\n",
       "      <td>How happy are you</td>\n",
       "      <td>0-1-2-3-4-…10</td>\n",
       "      <td>10 extremely happy</td>\n",
       "    </tr>\n",
       "    <tr>\n",
       "      <th>2</th>\n",
       "      <td>fltsd</td>\n",
       "      <td>Felt sad, how often past week</td>\n",
       "      <td>1-2-3-4</td>\n",
       "      <td>4 most of the time</td>\n",
       "    </tr>\n",
       "    <tr>\n",
       "      <th>3</th>\n",
       "      <td>fltdpr</td>\n",
       "      <td>felt depressed, how often past week</td>\n",
       "      <td>1-2-3-4</td>\n",
       "      <td>4 most of the time</td>\n",
       "    </tr>\n",
       "    <tr>\n",
       "      <th>4</th>\n",
       "      <td>enjlf</td>\n",
       "      <td>Enjoyed life, how often past week</td>\n",
       "      <td>1-2-3-4</td>\n",
       "      <td>4 most of the time</td>\n",
       "    </tr>\n",
       "  </tbody>\n",
       "</table>\n",
       "</div>"
      ],
      "text/plain": [
       "  Column Name                          Description          scale  \\\n",
       "0     stflife   How satisfied with life as a whole  0-1-2-3-4-…10   \n",
       "1       happy                    How happy are you  0-1-2-3-4-…10   \n",
       "2       fltsd        Felt sad, how often past week        1-2-3-4   \n",
       "3      fltdpr  felt depressed, how often past week        1-2-3-4   \n",
       "4       enjlf    Enjoyed life, how often past week        1-2-3-4   \n",
       "\n",
       "        scale description  \n",
       "0  10 extremely satisfied  \n",
       "1      10 extremely happy  \n",
       "2      4 most of the time  \n",
       "3      4 most of the time  \n",
       "4      4 most of the time  "
      ]
     },
     "execution_count": 44,
     "metadata": {},
     "output_type": "execute_result"
    }
   ],
   "source": [
    "df_desc.head()"
   ]
  },
  {
   "cell_type": "code",
   "execution_count": 49,
   "metadata": {
    "ExecuteTime": {
     "end_time": "2021-03-24T13:25:23.202838Z",
     "start_time": "2021-03-24T13:25:23.195839Z"
    }
   },
   "outputs": [],
   "source": [
    "dict_desc = dict(zip(df_desc['Column Name'], df_desc['Description']))"
   ]
  },
  {
   "cell_type": "code",
   "execution_count": 51,
   "metadata": {
    "ExecuteTime": {
     "end_time": "2021-03-24T13:26:38.110620Z",
     "start_time": "2021-03-24T13:26:38.096625Z"
    }
   },
   "outputs": [],
   "source": [
    "dict_tr = { col_name: dict_desc[col_name] for col_name in tr_cols }"
   ]
  },
  {
   "cell_type": "code",
   "execution_count": 52,
   "metadata": {
    "ExecuteTime": {
     "end_time": "2021-03-24T13:26:43.023477Z",
     "start_time": "2021-03-24T13:26:43.007466Z"
    }
   },
   "outputs": [
    {
     "data": {
      "text/plain": [
       "{'trstep': 'Trust in the European Parliament',\n",
       " 'trstlgl': 'Trust in the legal system',\n",
       " 'trstplc': 'Trust in the police',\n",
       " 'trstplt': 'Trust in politicians',\n",
       " 'trstprl': \"Trust in country's parliament\",\n",
       " 'trstprt': 'Trust in political parties',\n",
       " 'trstun': 'Trust in the United Nations'}"
      ]
     },
     "execution_count": 52,
     "metadata": {},
     "output_type": "execute_result"
    }
   ],
   "source": [
    "dict_tr"
   ]
  },
  {
   "cell_type": "code",
   "execution_count": 41,
   "metadata": {
    "ExecuteTime": {
     "end_time": "2021-03-24T13:22:39.610627Z",
     "start_time": "2021-03-24T13:22:39.591626Z"
    }
   },
   "outputs": [],
   "source": [
    "def percentage_usefull_values(df, col, useless_values = [77, 88, 99]):\n",
    "    total_lenght = df.shape[0]\n",
    "    \n",
    "    usefull_values = [i for i in df[col].values if i not in useless_values]\n",
    "    print('Usefull values: ', set(usefull_values))\n",
    "    \n",
    "    usefull_values_lenght = len(usefull_values)\n",
    "    print('Percentage of usefull values:', round(usefull_values_lenght / total_lenght * 100, 2))    "
   ]
  },
  {
   "cell_type": "code",
   "execution_count": 53,
   "metadata": {
    "ExecuteTime": {
     "end_time": "2021-03-24T13:27:20.115454Z",
     "start_time": "2021-03-24T13:27:20.087439Z"
    }
   },
   "outputs": [
    {
     "ename": "ValueError",
     "evalue": "too many values to unpack (expected 2)",
     "output_type": "error",
     "traceback": [
      "\u001b[1;31m---------------------------------------------------------------------------\u001b[0m",
      "\u001b[1;31mValueError\u001b[0m                                Traceback (most recent call last)",
      "\u001b[1;32m<ipython-input-53-85a3a1ef4290>\u001b[0m in \u001b[0;36m<module>\u001b[1;34m\u001b[0m\n\u001b[1;32m----> 1\u001b[1;33m \u001b[1;32mfor\u001b[0m \u001b[0mcol_name\u001b[0m\u001b[1;33m,\u001b[0m \u001b[0mdesc\u001b[0m \u001b[1;32min\u001b[0m \u001b[0mdict_tr\u001b[0m\u001b[1;33m:\u001b[0m\u001b[1;33m\u001b[0m\u001b[1;33m\u001b[0m\u001b[0m\n\u001b[0m\u001b[0;32m      2\u001b[0m     \u001b[0mprint\u001b[0m\u001b[1;33m(\u001b[0m\u001b[0mdesc\u001b[0m\u001b[1;33m)\u001b[0m\u001b[1;33m\u001b[0m\u001b[1;33m\u001b[0m\u001b[0m\n\u001b[0;32m      3\u001b[0m     \u001b[0mpercentage_usefull_values\u001b[0m\u001b[1;33m(\u001b[0m\u001b[0mdf\u001b[0m\u001b[1;33m,\u001b[0m \u001b[0mcol_name\u001b[0m\u001b[1;33m)\u001b[0m\u001b[1;33m\u001b[0m\u001b[1;33m\u001b[0m\u001b[0m\n\u001b[0;32m      4\u001b[0m     \u001b[0mprint\u001b[0m\u001b[1;33m(\u001b[0m\u001b[1;34m'='\u001b[0m\u001b[1;33m*\u001b[0m\u001b[1;36m60\u001b[0m\u001b[1;33m)\u001b[0m\u001b[1;33m\u001b[0m\u001b[1;33m\u001b[0m\u001b[0m\n",
      "\u001b[1;31mValueError\u001b[0m: too many values to unpack (expected 2)"
     ]
    }
   ],
   "source": [
    "for col_name, desc in dict_tr:\n",
    "    print(desc)\n",
    "    percentage_usefull_values(df, col_name)\n",
    "    print('='*60)"
   ]
  },
  {
   "cell_type": "code",
   "execution_count": null,
   "metadata": {},
   "outputs": [],
   "source": []
  },
  {
   "cell_type": "code",
   "execution_count": 42,
   "metadata": {
    "ExecuteTime": {
     "end_time": "2021-03-24T13:22:39.981505Z",
     "start_time": "2021-03-24T13:22:39.896316Z"
    }
   },
   "outputs": [
    {
     "name": "stdout",
     "output_type": "stream",
     "text": [
      "Usefull values:  {0, 1, 2, 3, 4, 5, 6, 7, 8, 9, 10}\n",
      "Percentage of usefull values: 88.43\n"
     ]
    }
   ],
   "source": [
    "percentage_usefull_values(df, 'trstep')"
   ]
  },
  {
   "cell_type": "code",
   "execution_count": null,
   "metadata": {},
   "outputs": [],
   "source": []
  },
  {
   "cell_type": "code",
   "execution_count": null,
   "metadata": {},
   "outputs": [],
   "source": []
  },
  {
   "cell_type": "code",
   "execution_count": 27,
   "metadata": {
    "ExecuteTime": {
     "end_time": "2021-03-24T13:00:42.490396Z",
     "start_time": "2021-03-24T13:00:42.460370Z"
    }
   },
   "outputs": [
    {
     "data": {
      "text/html": [
       "<div>\n",
       "<style scoped>\n",
       "    .dataframe tbody tr th:only-of-type {\n",
       "        vertical-align: middle;\n",
       "    }\n",
       "\n",
       "    .dataframe tbody tr th {\n",
       "        vertical-align: top;\n",
       "    }\n",
       "\n",
       "    .dataframe thead th {\n",
       "        text-align: right;\n",
       "    }\n",
       "</style>\n",
       "<table border=\"1\" class=\"dataframe\">\n",
       "  <thead>\n",
       "    <tr style=\"text-align: right;\">\n",
       "      <th></th>\n",
       "      <th>trstep</th>\n",
       "      <th>trstlgl</th>\n",
       "      <th>trstplc</th>\n",
       "      <th>trstplt</th>\n",
       "      <th>trstprl</th>\n",
       "      <th>trstprt</th>\n",
       "      <th>trstun</th>\n",
       "    </tr>\n",
       "  </thead>\n",
       "  <tbody>\n",
       "    <tr>\n",
       "      <th>0</th>\n",
       "      <td>2</td>\n",
       "      <td>0</td>\n",
       "      <td>2</td>\n",
       "      <td>0</td>\n",
       "      <td>0</td>\n",
       "      <td>0</td>\n",
       "      <td>2</td>\n",
       "    </tr>\n",
       "    <tr>\n",
       "      <th>1</th>\n",
       "      <td>10</td>\n",
       "      <td>0</td>\n",
       "      <td>10</td>\n",
       "      <td>8</td>\n",
       "      <td>0</td>\n",
       "      <td>10</td>\n",
       "      <td>10</td>\n",
       "    </tr>\n",
       "    <tr>\n",
       "      <th>2</th>\n",
       "      <td>8</td>\n",
       "      <td>2</td>\n",
       "      <td>0</td>\n",
       "      <td>0</td>\n",
       "      <td>88</td>\n",
       "      <td>0</td>\n",
       "      <td>5</td>\n",
       "    </tr>\n",
       "    <tr>\n",
       "      <th>3</th>\n",
       "      <td>10</td>\n",
       "      <td>7</td>\n",
       "      <td>0</td>\n",
       "      <td>1</td>\n",
       "      <td>1</td>\n",
       "      <td>1</td>\n",
       "      <td>8</td>\n",
       "    </tr>\n",
       "    <tr>\n",
       "      <th>4</th>\n",
       "      <td>9</td>\n",
       "      <td>6</td>\n",
       "      <td>7</td>\n",
       "      <td>8</td>\n",
       "      <td>8</td>\n",
       "      <td>7</td>\n",
       "      <td>10</td>\n",
       "    </tr>\n",
       "    <tr>\n",
       "      <th>...</th>\n",
       "      <td>...</td>\n",
       "      <td>...</td>\n",
       "      <td>...</td>\n",
       "      <td>...</td>\n",
       "      <td>...</td>\n",
       "      <td>...</td>\n",
       "      <td>...</td>\n",
       "    </tr>\n",
       "    <tr>\n",
       "      <th>54668</th>\n",
       "      <td>5</td>\n",
       "      <td>4</td>\n",
       "      <td>3</td>\n",
       "      <td>3</td>\n",
       "      <td>3</td>\n",
       "      <td>4</td>\n",
       "      <td>4</td>\n",
       "    </tr>\n",
       "    <tr>\n",
       "      <th>54669</th>\n",
       "      <td>88</td>\n",
       "      <td>8</td>\n",
       "      <td>88</td>\n",
       "      <td>88</td>\n",
       "      <td>7</td>\n",
       "      <td>88</td>\n",
       "      <td>8</td>\n",
       "    </tr>\n",
       "    <tr>\n",
       "      <th>54670</th>\n",
       "      <td>5</td>\n",
       "      <td>7</td>\n",
       "      <td>4</td>\n",
       "      <td>6</td>\n",
       "      <td>5</td>\n",
       "      <td>5</td>\n",
       "      <td>6</td>\n",
       "    </tr>\n",
       "    <tr>\n",
       "      <th>54671</th>\n",
       "      <td>4</td>\n",
       "      <td>4</td>\n",
       "      <td>2</td>\n",
       "      <td>4</td>\n",
       "      <td>3</td>\n",
       "      <td>3</td>\n",
       "      <td>3</td>\n",
       "    </tr>\n",
       "    <tr>\n",
       "      <th>54672</th>\n",
       "      <td>6</td>\n",
       "      <td>9</td>\n",
       "      <td>9</td>\n",
       "      <td>8</td>\n",
       "      <td>10</td>\n",
       "      <td>4</td>\n",
       "      <td>10</td>\n",
       "    </tr>\n",
       "  </tbody>\n",
       "</table>\n",
       "<p>54673 rows × 7 columns</p>\n",
       "</div>"
      ],
      "text/plain": [
       "       trstep  trstlgl  trstplc  trstplt  trstprl  trstprt  trstun\n",
       "0           2        0        2        0        0        0       2\n",
       "1          10        0       10        8        0       10      10\n",
       "2           8        2        0        0       88        0       5\n",
       "3          10        7        0        1        1        1       8\n",
       "4           9        6        7        8        8        7      10\n",
       "...       ...      ...      ...      ...      ...      ...     ...\n",
       "54668       5        4        3        3        3        4       4\n",
       "54669      88        8       88       88        7       88       8\n",
       "54670       5        7        4        6        5        5       6\n",
       "54671       4        4        2        4        3        3       3\n",
       "54672       6        9        9        8       10        4      10\n",
       "\n",
       "[54673 rows x 7 columns]"
      ]
     },
     "execution_count": 27,
     "metadata": {},
     "output_type": "execute_result"
    }
   ],
   "source": [
    "df[tr_cols]"
   ]
  },
  {
   "cell_type": "code",
   "execution_count": null,
   "metadata": {},
   "outputs": [],
   "source": []
  },
  {
   "cell_type": "code",
   "execution_count": null,
   "metadata": {},
   "outputs": [],
   "source": []
  },
  {
   "cell_type": "code",
   "execution_count": null,
   "metadata": {},
   "outputs": [],
   "source": []
  },
  {
   "cell_type": "markdown",
   "metadata": {},
   "source": [
    "### How employment alter well-being in different countries? - IN PROGRESS"
   ]
  },
  {
   "cell_type": "code",
   "execution_count": 113,
   "metadata": {
    "ExecuteTime": {
     "end_time": "2021-03-25T00:24:02.217588Z",
     "start_time": "2021-03-25T00:24:02.148376Z"
    }
   },
   "outputs": [
    {
     "data": {
      "text/html": [
       "<div>\n",
       "<style scoped>\n",
       "    .dataframe tbody tr th:only-of-type {\n",
       "        vertical-align: middle;\n",
       "    }\n",
       "\n",
       "    .dataframe tbody tr th {\n",
       "        vertical-align: top;\n",
       "    }\n",
       "\n",
       "    .dataframe thead th {\n",
       "        text-align: right;\n",
       "    }\n",
       "</style>\n",
       "<table border=\"1\" class=\"dataframe\">\n",
       "  <thead>\n",
       "    <tr style=\"text-align: right;\">\n",
       "      <th></th>\n",
       "      <th>Country</th>\n",
       "      <th>How often socially meet with friends, relatives or colleagues</th>\n",
       "      <th>how many people with whom you can discuss intimate and personal matters</th>\n",
       "      <th>Feeling of safety of walking alone in local area after dark</th>\n",
       "      <th>Subjective general health</th>\n",
       "      <th>Hampered in daily activities by illness/disability/infirmity/mental problem</th>\n",
       "      <th>Take part in social activities compared to others of same age</th>\n",
       "      <th>Respondent or household member victim of burglary/assault last 5 years</th>\n",
       "      <th>Felt sad, how often past week</th>\n",
       "      <th>felt depressed, how often past week</th>\n",
       "      <th>felt anxious how often past week</th>\n",
       "      <th>felt everything did as effort, how often past week</th>\n",
       "      <th>sleep was restless, how often past week</th>\n",
       "      <th>could not get going, how often past week</th>\n",
       "      <th>felt lonely, how often past week</th>\n",
       "      <th>interested in what you are doing, how much of the time.</th>\n",
       "      <th>absorbed in what you are doing, how much of the time</th>\n",
       "      <th>enthusiastic about what you are doing, how much of the time</th>\n",
       "      <th>feel appreciated by people you are close to</th>\n",
       "      <th>Little chance to show how capable I am</th>\n",
       "      <th>How satisfied with life as a whole</th>\n",
       "      <th>How happy are you</th>\n",
       "      <th>Enjoyed life, how often past week</th>\n",
       "      <th>Were happy, how often past week</th>\n",
       "      <th>felt calm and peaceful, how often past week</th>\n",
       "      <th>had lot of energy, how often past week</th>\n",
       "      <th>free to decide how to live my life</th>\n",
       "      <th>feel accomplisment from what I do</th>\n",
       "      <th>feel what I do in life is valueable and worthwhile</th>\n",
       "      <th>always optimistic about my future</th>\n",
       "      <th>there are lots of thing I am good at</th>\n",
       "      <th>in general feel very positive about myself</th>\n",
       "      <th>feel close to the people in local area</th>\n",
       "      <th>feel people in local area help one another</th>\n",
       "      <th>receive help and support from people you are close to</th>\n",
       "      <th>Trust in country's parliament</th>\n",
       "      <th>Trust in the legal system</th>\n",
       "      <th>Trust in the police</th>\n",
       "      <th>Trust in politicians</th>\n",
       "      <th>Trust in political parties</th>\n",
       "      <th>Trust in the European Parliament</th>\n",
       "      <th>Trust in the United Nations</th>\n",
       "      <th>you can't be too careful Most people can be trusted or</th>\n",
       "      <th>Most people try to take advantage of you Most people try to be fair</th>\n",
       "      <th>Most of the time people helpful or mostly looking out for themselves</th>\n",
       "      <th>deal with important problems in life</th>\n",
       "      <th>at times feel as if I am a failure</th>\n",
       "      <th>have a sense of direction in your life</th>\n",
       "      <th>when things go wrong in my life it takes a long time to get back to normal</th>\n",
       "      <th>Doing last 7 days: unemployed, actively looking for job</th>\n",
       "      <th>Doing last 7 days: unemployed, not actively looking for job</th>\n",
       "    </tr>\n",
       "  </thead>\n",
       "  <tbody>\n",
       "    <tr>\n",
       "      <th>0</th>\n",
       "      <td>Albania</td>\n",
       "      <td>Once a week</td>\n",
       "      <td>3</td>\n",
       "      <td>Very safe</td>\n",
       "      <td>Fair</td>\n",
       "      <td>No</td>\n",
       "      <td>About the same</td>\n",
       "      <td>Less than most</td>\n",
       "      <td>Some of the time</td>\n",
       "      <td>Most of the time</td>\n",
       "      <td>Some of the time</td>\n",
       "      <td>Some of the time</td>\n",
       "      <td>All or almost all of the time</td>\n",
       "      <td>NaN</td>\n",
       "      <td>None or almost none of the time</td>\n",
       "      <td>8</td>\n",
       "      <td>8</td>\n",
       "      <td>8</td>\n",
       "      <td>10</td>\n",
       "      <td>Agree</td>\n",
       "      <td>6</td>\n",
       "      <td>8</td>\n",
       "      <td>Some of the time</td>\n",
       "      <td>Most of the time</td>\n",
       "      <td>Most of the time</td>\n",
       "      <td>Most of the time</td>\n",
       "      <td>Agree strongly</td>\n",
       "      <td>Agree</td>\n",
       "      <td>Agree</td>\n",
       "      <td>Agree strongly</td>\n",
       "      <td>Disagree</td>\n",
       "      <td>Agree</td>\n",
       "      <td>Agree</td>\n",
       "      <td>1</td>\n",
       "      <td>6</td>\n",
       "      <td>0</td>\n",
       "      <td>0</td>\n",
       "      <td>2</td>\n",
       "      <td>0</td>\n",
       "      <td>0</td>\n",
       "      <td>2</td>\n",
       "      <td>2</td>\n",
       "      <td>5</td>\n",
       "      <td>3</td>\n",
       "      <td>0</td>\n",
       "      <td>5</td>\n",
       "      <td>Disagree</td>\n",
       "      <td>3</td>\n",
       "      <td>Disagree</td>\n",
       "      <td>0</td>\n",
       "      <td>0</td>\n",
       "    </tr>\n",
       "    <tr>\n",
       "      <th>1</th>\n",
       "      <td>Albania</td>\n",
       "      <td>Once a month</td>\n",
       "      <td>1</td>\n",
       "      <td>Unsafe</td>\n",
       "      <td>Good</td>\n",
       "      <td>No</td>\n",
       "      <td>Less than most</td>\n",
       "      <td>Less than most</td>\n",
       "      <td>All or almost all of the time</td>\n",
       "      <td>All or almost all of the time</td>\n",
       "      <td>All or almost all of the time</td>\n",
       "      <td>Some of the time</td>\n",
       "      <td>Most of the time</td>\n",
       "      <td>NaN</td>\n",
       "      <td>All or almost all of the time</td>\n",
       "      <td>10</td>\n",
       "      <td>5</td>\n",
       "      <td>0</td>\n",
       "      <td>10</td>\n",
       "      <td>Agree strongly</td>\n",
       "      <td>0</td>\n",
       "      <td>0</td>\n",
       "      <td>None or almost none of the time</td>\n",
       "      <td>None or almost none of the time</td>\n",
       "      <td>Some of the time</td>\n",
       "      <td>None or almost none of the time</td>\n",
       "      <td>Agree strongly</td>\n",
       "      <td>Agree</td>\n",
       "      <td>Agree strongly</td>\n",
       "      <td>Agree</td>\n",
       "      <td>Agree strongly</td>\n",
       "      <td>Neither agree nor disagree</td>\n",
       "      <td>Neither agree nor disagree</td>\n",
       "      <td>0</td>\n",
       "      <td>6</td>\n",
       "      <td>0</td>\n",
       "      <td>0</td>\n",
       "      <td>10</td>\n",
       "      <td>8</td>\n",
       "      <td>10</td>\n",
       "      <td>10</td>\n",
       "      <td>10</td>\n",
       "      <td>0</td>\n",
       "      <td>88</td>\n",
       "      <td>0</td>\n",
       "      <td>0</td>\n",
       "      <td>Agree</td>\n",
       "      <td>10</td>\n",
       "      <td>Agree</td>\n",
       "      <td>1</td>\n",
       "      <td>0</td>\n",
       "    </tr>\n",
       "  </tbody>\n",
       "</table>\n",
       "</div>"
      ],
      "text/plain": [
       "   Country How often socially meet with friends, relatives or colleagues  \\\n",
       "0  Albania                                        Once a week              \n",
       "1  Albania                                       Once a month              \n",
       "\n",
       "  how many people with whom you can discuss intimate and personal matters  \\\n",
       "0                                                  3                        \n",
       "1                                                  1                        \n",
       "\n",
       "  Feeling of safety of walking alone in local area after dark  \\\n",
       "0                                          Very safe            \n",
       "1                                             Unsafe            \n",
       "\n",
       "  Subjective general health  \\\n",
       "0                      Fair   \n",
       "1                      Good   \n",
       "\n",
       "  Hampered in daily activities by illness/disability/infirmity/mental problem  \\\n",
       "0                                                 No                            \n",
       "1                                                 No                            \n",
       "\n",
       "  Take part in social activities compared to others of same age  \\\n",
       "0                                     About the same              \n",
       "1                                     Less than most              \n",
       "\n",
       "  Respondent or household member victim of burglary/assault last 5 years  \\\n",
       "0                                     Less than most                       \n",
       "1                                     Less than most                       \n",
       "\n",
       "   Felt sad, how often past week felt depressed, how often past week  \\\n",
       "0               Some of the time                    Most of the time   \n",
       "1  All or almost all of the time       All or almost all of the time   \n",
       "\n",
       "  felt anxious how often past week  \\\n",
       "0                 Some of the time   \n",
       "1    All or almost all of the time   \n",
       "\n",
       "  felt everything did as effort, how often past week  \\\n",
       "0                                   Some of the time   \n",
       "1                                   Some of the time   \n",
       "\n",
       "  sleep was restless, how often past week  \\\n",
       "0           All or almost all of the time   \n",
       "1                        Most of the time   \n",
       "\n",
       "  could not get going, how often past week felt lonely, how often past week  \\\n",
       "0                                      NaN  None or almost none of the time   \n",
       "1                                      NaN    All or almost all of the time   \n",
       "\n",
       "   interested in what you are doing, how much of the time.  \\\n",
       "0                                                  8         \n",
       "1                                                 10         \n",
       "\n",
       "   absorbed in what you are doing, how much of the time  \\\n",
       "0                                                  8      \n",
       "1                                                  5      \n",
       "\n",
       "   enthusiastic about what you are doing, how much of the time  \\\n",
       "0                                                  8             \n",
       "1                                                  0             \n",
       "\n",
       "   feel appreciated by people you are close to  \\\n",
       "0                                           10   \n",
       "1                                           10   \n",
       "\n",
       "  Little chance to show how capable I am  How satisfied with life as a whole  \\\n",
       "0                                  Agree                                   6   \n",
       "1                         Agree strongly                                   0   \n",
       "\n",
       "   How happy are you Enjoyed life, how often past week  \\\n",
       "0                  8                  Some of the time   \n",
       "1                  0   None or almost none of the time   \n",
       "\n",
       "   Were happy, how often past week  \\\n",
       "0                 Most of the time   \n",
       "1  None or almost none of the time   \n",
       "\n",
       "  felt calm and peaceful, how often past week  \\\n",
       "0                            Most of the time   \n",
       "1                            Some of the time   \n",
       "\n",
       "  had lot of energy, how often past week free to decide how to live my life  \\\n",
       "0                       Most of the time                     Agree strongly   \n",
       "1        None or almost none of the time                     Agree strongly   \n",
       "\n",
       "  feel accomplisment from what I do  \\\n",
       "0                             Agree   \n",
       "1                             Agree   \n",
       "\n",
       "  feel what I do in life is valueable and worthwhile  \\\n",
       "0                                              Agree   \n",
       "1                                     Agree strongly   \n",
       "\n",
       "  always optimistic about my future there are lots of thing I am good at  \\\n",
       "0                    Agree strongly                             Disagree   \n",
       "1                             Agree                       Agree strongly   \n",
       "\n",
       "  in general feel very positive about myself  \\\n",
       "0                                      Agree   \n",
       "1                 Neither agree nor disagree   \n",
       "\n",
       "  feel close to the people in local area  \\\n",
       "0                                  Agree   \n",
       "1             Neither agree nor disagree   \n",
       "\n",
       "   feel people in local area help one another  \\\n",
       "0                                           1   \n",
       "1                                           0   \n",
       "\n",
       "   receive help and support from people you are close to  \\\n",
       "0                                                  6       \n",
       "1                                                  6       \n",
       "\n",
       "   Trust in country's parliament  Trust in the legal system  \\\n",
       "0                              0                          0   \n",
       "1                              0                          0   \n",
       "\n",
       "   Trust in the police  Trust in politicians  Trust in political parties  \\\n",
       "0                    2                     0                           0   \n",
       "1                   10                     8                          10   \n",
       "\n",
       "   Trust in the European Parliament  Trust in the United Nations  \\\n",
       "0                                 2                            2   \n",
       "1                                10                           10   \n",
       "\n",
       "   you can't be too careful Most people can be trusted or   \\\n",
       "0                                                  5         \n",
       "1                                                  0         \n",
       "\n",
       "   Most people try to take advantage of you Most people try to be fair  \\\n",
       "0                                                  3                     \n",
       "1                                                 88                     \n",
       "\n",
       "   Most of the time people helpful or mostly looking out for themselves  \\\n",
       "0                                                  0                      \n",
       "1                                                  0                      \n",
       "\n",
       "   deal with important problems in life at times feel as if I am a failure  \\\n",
       "0                                     5                           Disagree   \n",
       "1                                     0                              Agree   \n",
       "\n",
       "   have a sense of direction in your life  \\\n",
       "0                                       3   \n",
       "1                                      10   \n",
       "\n",
       "  when things go wrong in my life it takes a long time to get back to normal  \\\n",
       "0                                           Disagree                           \n",
       "1                                              Agree                           \n",
       "\n",
       "   Doing last 7 days: unemployed, actively looking for job  \\\n",
       "0                                                  0         \n",
       "1                                                  1         \n",
       "\n",
       "   Doing last 7 days: unemployed, not actively looking for job  \n",
       "0                                                  0            \n",
       "1                                                  0            "
      ]
     },
     "execution_count": 113,
     "metadata": {},
     "output_type": "execute_result"
    }
   ],
   "source": [
    "# rename dataset to description for better understanding of variable\n",
    "df.rename(columns=dict_desc).head(2)"
   ]
  },
  {
   "cell_type": "code",
   "execution_count": 66,
   "metadata": {
    "ExecuteTime": {
     "end_time": "2021-03-25T00:08:18.574236Z",
     "start_time": "2021-03-25T00:08:18.525239Z"
    }
   },
   "outputs": [
    {
     "data": {
      "text/html": [
       "<div>\n",
       "<style scoped>\n",
       "    .dataframe tbody tr th:only-of-type {\n",
       "        vertical-align: middle;\n",
       "    }\n",
       "\n",
       "    .dataframe tbody tr th {\n",
       "        vertical-align: top;\n",
       "    }\n",
       "\n",
       "    .dataframe thead th {\n",
       "        text-align: right;\n",
       "    }\n",
       "</style>\n",
       "<table border=\"1\" class=\"dataframe\">\n",
       "  <thead>\n",
       "    <tr style=\"text-align: right;\">\n",
       "      <th></th>\n",
       "      <th>cntry</th>\n",
       "      <th>sclmeet</th>\n",
       "      <th>inprdsc</th>\n",
       "      <th>aesfdrk</th>\n",
       "      <th>health</th>\n",
       "      <th>hlthhmp</th>\n",
       "      <th>sclact</th>\n",
       "      <th>crmvct</th>\n",
       "      <th>fltsd</th>\n",
       "      <th>fltdpr</th>\n",
       "      <th>fltanx</th>\n",
       "      <th>flteeff</th>\n",
       "      <th>slprl</th>\n",
       "      <th>cldgng</th>\n",
       "      <th>fltlnl</th>\n",
       "      <th>tmimdng</th>\n",
       "      <th>tmabdng</th>\n",
       "      <th>tmendng</th>\n",
       "      <th>flapppl</th>\n",
       "      <th>lchshcp</th>\n",
       "      <th>stflife</th>\n",
       "      <th>happy</th>\n",
       "      <th>enjlf</th>\n",
       "      <th>wrhpp</th>\n",
       "      <th>fltpcfl</th>\n",
       "      <th>enrglot</th>\n",
       "      <th>dclvlf</th>\n",
       "      <th>accdng</th>\n",
       "      <th>dngval</th>\n",
       "      <th>optftr</th>\n",
       "      <th>lotsgot</th>\n",
       "      <th>pstvms</th>\n",
       "      <th>flclpla</th>\n",
       "      <th>pplahlp</th>\n",
       "      <th>rehlppl</th>\n",
       "      <th>trstprl</th>\n",
       "      <th>trstlgl</th>\n",
       "      <th>trstplc</th>\n",
       "      <th>trstplt</th>\n",
       "      <th>trstprt</th>\n",
       "      <th>trstep</th>\n",
       "      <th>trstun</th>\n",
       "      <th>ppltrst</th>\n",
       "      <th>pplfair</th>\n",
       "      <th>pplhlp</th>\n",
       "      <th>deaimpp</th>\n",
       "      <th>flrms</th>\n",
       "      <th>sedirlf</th>\n",
       "      <th>wrbknrm</th>\n",
       "      <th>uempla</th>\n",
       "      <th>uempli</th>\n",
       "    </tr>\n",
       "  </thead>\n",
       "  <tbody>\n",
       "    <tr>\n",
       "      <th>0</th>\n",
       "      <td>Albania</td>\n",
       "      <td>Once a week</td>\n",
       "      <td>3</td>\n",
       "      <td>Very safe</td>\n",
       "      <td>Fair</td>\n",
       "      <td>No</td>\n",
       "      <td>About the same</td>\n",
       "      <td>Less than most</td>\n",
       "      <td>Some of the time</td>\n",
       "      <td>Most of the time</td>\n",
       "      <td>Some of the time</td>\n",
       "      <td>Some of the time</td>\n",
       "      <td>All or almost all of the time</td>\n",
       "      <td>NaN</td>\n",
       "      <td>None or almost none of the time</td>\n",
       "      <td>8</td>\n",
       "      <td>8</td>\n",
       "      <td>8</td>\n",
       "      <td>10</td>\n",
       "      <td>Agree</td>\n",
       "      <td>6</td>\n",
       "      <td>8</td>\n",
       "      <td>Some of the time</td>\n",
       "      <td>Most of the time</td>\n",
       "      <td>Most of the time</td>\n",
       "      <td>Most of the time</td>\n",
       "      <td>Agree strongly</td>\n",
       "      <td>Agree</td>\n",
       "      <td>Agree</td>\n",
       "      <td>Agree strongly</td>\n",
       "      <td>Disagree</td>\n",
       "      <td>Agree</td>\n",
       "      <td>Agree</td>\n",
       "      <td>1</td>\n",
       "      <td>6</td>\n",
       "      <td>0</td>\n",
       "      <td>0</td>\n",
       "      <td>2</td>\n",
       "      <td>0</td>\n",
       "      <td>0</td>\n",
       "      <td>2</td>\n",
       "      <td>2</td>\n",
       "      <td>5</td>\n",
       "      <td>3</td>\n",
       "      <td>0</td>\n",
       "      <td>5</td>\n",
       "      <td>Disagree</td>\n",
       "      <td>3</td>\n",
       "      <td>Disagree</td>\n",
       "      <td>0</td>\n",
       "      <td>0</td>\n",
       "    </tr>\n",
       "    <tr>\n",
       "      <th>1</th>\n",
       "      <td>Albania</td>\n",
       "      <td>Once a month</td>\n",
       "      <td>1</td>\n",
       "      <td>Unsafe</td>\n",
       "      <td>Good</td>\n",
       "      <td>No</td>\n",
       "      <td>Less than most</td>\n",
       "      <td>Less than most</td>\n",
       "      <td>All or almost all of the time</td>\n",
       "      <td>All or almost all of the time</td>\n",
       "      <td>All or almost all of the time</td>\n",
       "      <td>Some of the time</td>\n",
       "      <td>Most of the time</td>\n",
       "      <td>NaN</td>\n",
       "      <td>All or almost all of the time</td>\n",
       "      <td>10</td>\n",
       "      <td>5</td>\n",
       "      <td>0</td>\n",
       "      <td>10</td>\n",
       "      <td>Agree strongly</td>\n",
       "      <td>0</td>\n",
       "      <td>0</td>\n",
       "      <td>None or almost none of the time</td>\n",
       "      <td>None or almost none of the time</td>\n",
       "      <td>Some of the time</td>\n",
       "      <td>None or almost none of the time</td>\n",
       "      <td>Agree strongly</td>\n",
       "      <td>Agree</td>\n",
       "      <td>Agree strongly</td>\n",
       "      <td>Agree</td>\n",
       "      <td>Agree strongly</td>\n",
       "      <td>Neither agree nor disagree</td>\n",
       "      <td>Neither agree nor disagree</td>\n",
       "      <td>0</td>\n",
       "      <td>6</td>\n",
       "      <td>0</td>\n",
       "      <td>0</td>\n",
       "      <td>10</td>\n",
       "      <td>8</td>\n",
       "      <td>10</td>\n",
       "      <td>10</td>\n",
       "      <td>10</td>\n",
       "      <td>0</td>\n",
       "      <td>88</td>\n",
       "      <td>0</td>\n",
       "      <td>0</td>\n",
       "      <td>Agree</td>\n",
       "      <td>10</td>\n",
       "      <td>Agree</td>\n",
       "      <td>1</td>\n",
       "      <td>0</td>\n",
       "    </tr>\n",
       "  </tbody>\n",
       "</table>\n",
       "</div>"
      ],
      "text/plain": [
       "     cntry       sclmeet inprdsc    aesfdrk health hlthhmp          sclact  \\\n",
       "0  Albania   Once a week       3  Very safe   Fair      No  About the same   \n",
       "1  Albania  Once a month       1     Unsafe   Good      No  Less than most   \n",
       "\n",
       "           crmvct                          fltsd  \\\n",
       "0  Less than most               Some of the time   \n",
       "1  Less than most  All or almost all of the time   \n",
       "\n",
       "                          fltdpr                         fltanx  \\\n",
       "0               Most of the time               Some of the time   \n",
       "1  All or almost all of the time  All or almost all of the time   \n",
       "\n",
       "            flteeff                          slprl cldgng  \\\n",
       "0  Some of the time  All or almost all of the time    NaN   \n",
       "1  Some of the time               Most of the time    NaN   \n",
       "\n",
       "                            fltlnl  tmimdng  tmabdng  tmendng  flapppl  \\\n",
       "0  None or almost none of the time        8        8        8       10   \n",
       "1    All or almost all of the time       10        5        0       10   \n",
       "\n",
       "          lchshcp  stflife  happy                            enjlf  \\\n",
       "0           Agree        6      8                 Some of the time   \n",
       "1  Agree strongly        0      0  None or almost none of the time   \n",
       "\n",
       "                             wrhpp           fltpcfl  \\\n",
       "0                 Most of the time  Most of the time   \n",
       "1  None or almost none of the time  Some of the time   \n",
       "\n",
       "                           enrglot          dclvlf accdng          dngval  \\\n",
       "0                 Most of the time  Agree strongly  Agree           Agree   \n",
       "1  None or almost none of the time  Agree strongly  Agree  Agree strongly   \n",
       "\n",
       "           optftr         lotsgot                      pstvms  \\\n",
       "0  Agree strongly        Disagree                       Agree   \n",
       "1           Agree  Agree strongly  Neither agree nor disagree   \n",
       "\n",
       "                      flclpla  pplahlp  rehlppl  trstprl  trstlgl  trstplc  \\\n",
       "0                       Agree        1        6        0        0        2   \n",
       "1  Neither agree nor disagree        0        6        0        0       10   \n",
       "\n",
       "   trstplt  trstprt  trstep  trstun  ppltrst  pplfair  pplhlp  deaimpp  \\\n",
       "0        0        0       2       2        5        3       0        5   \n",
       "1        8       10      10      10        0       88       0        0   \n",
       "\n",
       "      flrms  sedirlf   wrbknrm  uempla  uempli  \n",
       "0  Disagree        3  Disagree       0       0  \n",
       "1     Agree       10     Agree       1       0  "
      ]
     },
     "execution_count": 66,
     "metadata": {},
     "output_type": "execute_result"
    }
   ],
   "source": [
    "df.head(2)"
   ]
  },
  {
   "cell_type": "code",
   "execution_count": 125,
   "metadata": {
    "ExecuteTime": {
     "end_time": "2021-03-25T00:49:14.541281Z",
     "start_time": "2021-03-25T00:49:14.526285Z"
    }
   },
   "outputs": [],
   "source": [
    "# employed if not unenployed in both variables\n",
    "df['employed'] = np.where(df['uempla'] + df['uempli'] == 0, 1, 0)"
   ]
  },
  {
   "cell_type": "code",
   "execution_count": 143,
   "metadata": {
    "ExecuteTime": {
     "end_time": "2021-03-25T00:58:08.022462Z",
     "start_time": "2021-03-25T00:58:08.002463Z"
    }
   },
   "outputs": [],
   "source": [
    "def plot_pivot_table(data, column, index='cntry', values=None, dict_desc=dict_desc,\n",
    "                     categories=None, figsize=(16, 10), cmap='coolwarm_r'):                    \n",
    "    \n",
    "    '''Create pivot table of country by well-being dimension and aggregated by the sum of employed\n",
    "    '''\n",
    "    \n",
    "    print('=======>', dict_desc[column]) # description of column\n",
    "        \n",
    "    if categories:\n",
    "        data[column] = pd.Categorical(df[column], categories, ordered=True) # categorize variables\n",
    "            \n",
    "    if values:\n",
    "        data = pd.pivot_table(data=data, values=values, columns=column, index=index, aggfunc='sum') # create pivot table\n",
    "    else:\n",
    "        data = pd.crosstab(data[index], data[column])\n",
    "       \n",
    "    plt.figure(figsize=figsize)\n",
    "    sns.heatmap(data, annot=True, cbar=False, cmap=cmap, fmt='g') # heatmap of pivot table\n",
    "    plt.show()"
   ]
  },
  {
   "cell_type": "code",
   "execution_count": 134,
   "metadata": {
    "ExecuteTime": {
     "end_time": "2021-03-25T00:54:19.502813Z",
     "start_time": "2021-03-25T00:54:18.742582Z"
    }
   },
   "outputs": [
    {
     "name": "stdout",
     "output_type": "stream",
     "text": [
      "=======> Subjective general health\n"
     ]
    },
    {
     "data": {
      "image/png": "[encoded data removed]",
      "text/plain": [
       "<Figure size 1152x720 with 1 Axes>"
      ]
     },
     "metadata": {
      "needs_background": "light"
     },
     "output_type": "display_data"
    }
   ],
   "source": [
    "plot_pivot_table(df, 'health', values='employed', categories=['Very bad', 'Bad', 'Fair', 'Good', 'Very good'], cmap='Greens')"
   ]
  },
  {
   "cell_type": "code",
   "execution_count": 129,
   "metadata": {
    "ExecuteTime": {
     "end_time": "2021-03-25T00:49:55.752961Z",
     "start_time": "2021-03-25T00:49:55.067927Z"
    }
   },
   "outputs": [
    {
     "name": "stdout",
     "output_type": "stream",
     "text": [
      "=======> Felt sad, how often past week\n"
     ]
    },
    {
     "data": {
      "image/png": "[encoded data removed]",
      "text/plain": [
       "<Figure size 1152x720 with 1 Axes>"
      ]
     },
     "metadata": {
      "needs_background": "light"
     },
     "output_type": "display_data"
    }
   ],
   "source": [
    "plot_pivot_table(df, 'fltsd', values='employed', categories=['All or almost all of the time','Most of the time', 'Some of the time',\n",
    "                                          'None or almost none of the time'], cmap='Purples')"
   ]
  },
  {
   "cell_type": "markdown",
   "metadata": {},
   "source": [
    "## Vega plots\n",
    "\n",
    "- Datapreps for creating dataframe for vega / vega-lite"
   ]
  },
  {
   "cell_type": "markdown",
   "metadata": {},
   "source": [
    "### Trust aspects"
   ]
  },
  {
   "cell_type": "code",
   "execution_count": 7,
   "metadata": {
    "ExecuteTime": {
     "end_time": "2021-04-19T19:04:02.995977Z",
     "start_time": "2021-04-19T19:04:02.976983Z"
    },
    "scrolled": true
   },
   "outputs": [
    {
     "data": {
      "text/html": [
       "<div>\n",
       "<style scoped>\n",
       "    .dataframe tbody tr th:only-of-type {\n",
       "        vertical-align: middle;\n",
       "    }\n",
       "\n",
       "    .dataframe tbody tr th {\n",
       "        vertical-align: top;\n",
       "    }\n",
       "\n",
       "    .dataframe thead th {\n",
       "        text-align: right;\n",
       "    }\n",
       "</style>\n",
       "<table border=\"1\" class=\"dataframe\">\n",
       "  <thead>\n",
       "    <tr style=\"text-align: right;\">\n",
       "      <th></th>\n",
       "      <th>Column Name</th>\n",
       "      <th>Description</th>\n",
       "      <th>scale</th>\n",
       "      <th>scale description</th>\n",
       "    </tr>\n",
       "  </thead>\n",
       "  <tbody>\n",
       "    <tr>\n",
       "      <th>0</th>\n",
       "      <td>stflife</td>\n",
       "      <td>How satisfied with life as a whole</td>\n",
       "      <td>0-1-2-3-4-…10</td>\n",
       "      <td>10 extremely satisfied</td>\n",
       "    </tr>\n",
       "    <tr>\n",
       "      <th>1</th>\n",
       "      <td>happy</td>\n",
       "      <td>How happy are you</td>\n",
       "      <td>0-1-2-3-4-…10</td>\n",
       "      <td>10 extremely happy</td>\n",
       "    </tr>\n",
       "    <tr>\n",
       "      <th>2</th>\n",
       "      <td>fltsd</td>\n",
       "      <td>Felt sad, how often past week</td>\n",
       "      <td>1-2-3-4</td>\n",
       "      <td>4 most of the time</td>\n",
       "    </tr>\n",
       "    <tr>\n",
       "      <th>3</th>\n",
       "      <td>fltdpr</td>\n",
       "      <td>felt depressed, how often past week</td>\n",
       "      <td>1-2-3-4</td>\n",
       "      <td>4 most of the time</td>\n",
       "    </tr>\n",
       "    <tr>\n",
       "      <th>4</th>\n",
       "      <td>enjlf</td>\n",
       "      <td>Enjoyed life, how often past week</td>\n",
       "      <td>1-2-3-4</td>\n",
       "      <td>4 most of the time</td>\n",
       "    </tr>\n",
       "  </tbody>\n",
       "</table>\n",
       "</div>"
      ],
      "text/plain": [
       "  Column Name                          Description          scale  \\\n",
       "0     stflife   How satisfied with life as a whole  0-1-2-3-4-…10   \n",
       "1       happy                    How happy are you  0-1-2-3-4-…10   \n",
       "2       fltsd        Felt sad, how often past week        1-2-3-4   \n",
       "3      fltdpr  felt depressed, how often past week        1-2-3-4   \n",
       "4       enjlf    Enjoyed life, how often past week        1-2-3-4   \n",
       "\n",
       "        scale description  \n",
       "0  10 extremely satisfied  \n",
       "1      10 extremely happy  \n",
       "2      4 most of the time  \n",
       "3      4 most of the time  \n",
       "4      4 most of the time  "
      ]
     },
     "execution_count": 7,
     "metadata": {},
     "output_type": "execute_result"
    }
   ],
   "source": [
    "df_desc.head()"
   ]
  },
  {
   "cell_type": "code",
   "execution_count": 6,
   "metadata": {
    "ExecuteTime": {
     "end_time": "2021-04-20T12:29:15.566883Z",
     "start_time": "2021-04-20T12:29:15.553880Z"
    }
   },
   "outputs": [],
   "source": [
    "trust_cols = [i for i in df_desc['Description'] if 'trust in' in i.lower()]"
   ]
  },
  {
   "cell_type": "code",
   "execution_count": 7,
   "metadata": {
    "ExecuteTime": {
     "end_time": "2021-04-20T12:29:15.941042Z",
     "start_time": "2021-04-20T12:29:15.934041Z"
    }
   },
   "outputs": [],
   "source": [
    "trust_cols = df_desc[df_desc['Description'].isin(trust_cols)]['Column Name'].tolist()"
   ]
  },
  {
   "cell_type": "code",
   "execution_count": 8,
   "metadata": {
    "ExecuteTime": {
     "end_time": "2021-04-20T12:29:16.240282Z",
     "start_time": "2021-04-20T12:29:16.232281Z"
    }
   },
   "outputs": [],
   "source": [
    "trust_dict = df_desc.loc[df_desc['Column Name'].isin(trust_cols)].set_index('Column Name')['Description'].to_dict()"
   ]
  },
  {
   "cell_type": "code",
   "execution_count": 9,
   "metadata": {
    "ExecuteTime": {
     "end_time": "2021-04-20T12:29:16.491179Z",
     "start_time": "2021-04-20T12:29:16.481178Z"
    },
    "scrolled": true
   },
   "outputs": [],
   "source": [
    "df_trust = df[trust_cols].rename(columns=trust_dict)"
   ]
  },
  {
   "cell_type": "code",
   "execution_count": 10,
   "metadata": {
    "ExecuteTime": {
     "end_time": "2021-04-20T12:29:16.819147Z",
     "start_time": "2021-04-20T12:29:16.772171Z"
    }
   },
   "outputs": [],
   "source": [
    "df_trust = df_trust.stack().to_frame().reset_index().drop(columns=['level_0'])"
   ]
  },
  {
   "cell_type": "code",
   "execution_count": 11,
   "metadata": {
    "ExecuteTime": {
     "end_time": "2021-04-20T12:29:17.067356Z",
     "start_time": "2021-04-20T12:29:17.060357Z"
    }
   },
   "outputs": [],
   "source": [
    "df_trust.columns = ['Trust', 'Values']"
   ]
  },
  {
   "cell_type": "code",
   "execution_count": 12,
   "metadata": {
    "ExecuteTime": {
     "end_time": "2021-04-20T12:29:17.986889Z",
     "start_time": "2021-04-20T12:29:17.966890Z"
    }
   },
   "outputs": [
    {
     "data": {
      "text/html": [
       "<div>\n",
       "<style scoped>\n",
       "    .dataframe tbody tr th:only-of-type {\n",
       "        vertical-align: middle;\n",
       "    }\n",
       "\n",
       "    .dataframe tbody tr th {\n",
       "        vertical-align: top;\n",
       "    }\n",
       "\n",
       "    .dataframe thead th {\n",
       "        text-align: right;\n",
       "    }\n",
       "</style>\n",
       "<table border=\"1\" class=\"dataframe\">\n",
       "  <thead>\n",
       "    <tr style=\"text-align: right;\">\n",
       "      <th></th>\n",
       "      <th>Trust</th>\n",
       "      <th>Values</th>\n",
       "    </tr>\n",
       "  </thead>\n",
       "  <tbody>\n",
       "    <tr>\n",
       "      <th>0</th>\n",
       "      <td>Trust in the European Parliament</td>\n",
       "      <td>2</td>\n",
       "    </tr>\n",
       "    <tr>\n",
       "      <th>1</th>\n",
       "      <td>Trust in the legal system</td>\n",
       "      <td>0</td>\n",
       "    </tr>\n",
       "    <tr>\n",
       "      <th>2</th>\n",
       "      <td>Trust in the police</td>\n",
       "      <td>2</td>\n",
       "    </tr>\n",
       "    <tr>\n",
       "      <th>3</th>\n",
       "      <td>Trust in politicians</td>\n",
       "      <td>0</td>\n",
       "    </tr>\n",
       "    <tr>\n",
       "      <th>4</th>\n",
       "      <td>Trust in country's parliament</td>\n",
       "      <td>0</td>\n",
       "    </tr>\n",
       "  </tbody>\n",
       "</table>\n",
       "</div>"
      ],
      "text/plain": [
       "                              Trust  Values\n",
       "0  Trust in the European Parliament       2\n",
       "1         Trust in the legal system       0\n",
       "2               Trust in the police       2\n",
       "3              Trust in politicians       0\n",
       "4     Trust in country's parliament       0"
      ]
     },
     "execution_count": 12,
     "metadata": {},
     "output_type": "execute_result"
    }
   ],
   "source": [
    "df_trust.head()"
   ]
  },
  {
   "cell_type": "code",
   "execution_count": 13,
   "metadata": {
    "ExecuteTime": {
     "end_time": "2021-04-20T12:29:20.191714Z",
     "start_time": "2021-04-20T12:29:20.155715Z"
    }
   },
   "outputs": [],
   "source": [
    "df_trust = df_trust[~df_trust['Values'].isin(['77', '88', '99'])]"
   ]
  },
  {
   "cell_type": "code",
   "execution_count": 14,
   "metadata": {
    "ExecuteTime": {
     "end_time": "2021-04-20T12:29:22.382406Z",
     "start_time": "2021-04-20T12:29:22.368384Z"
    }
   },
   "outputs": [
    {
     "data": {
      "text/plain": [
       "array([ 2,  0, 10,  8,  5,  7,  1,  9,  6,  4,  3], dtype=int64)"
      ]
     },
     "execution_count": 14,
     "metadata": {},
     "output_type": "execute_result"
    }
   ],
   "source": [
    "df_trust['Values'].unique()"
   ]
  },
  {
   "cell_type": "code",
   "execution_count": 129,
   "metadata": {
    "ExecuteTime": {
     "end_time": "2021-04-19T20:43:31.436142Z",
     "start_time": "2021-04-19T20:43:30.612471Z"
    }
   },
   "outputs": [],
   "source": [
    "df_trust.to_csv('datasets/trust_aspects.csv')"
   ]
  },
  {
   "cell_type": "markdown",
   "metadata": {},
   "source": [
    "**Gist can be found at:** https://gist.github.com/ossamum/94a10bec61d48e0263b026957539ac17"
   ]
  },
  {
   "cell_type": "markdown",
   "metadata": {},
   "source": [
    "### Happiness by country"
   ]
  },
  {
   "cell_type": "code",
   "execution_count": 15,
   "metadata": {
    "ExecuteTime": {
     "end_time": "2021-04-20T12:29:24.497003Z",
     "start_time": "2021-04-20T12:29:24.485023Z"
    }
   },
   "outputs": [],
   "source": [
    "df_country = df[['cntry', 'happy']].copy()"
   ]
  },
  {
   "cell_type": "code",
   "execution_count": 16,
   "metadata": {
    "ExecuteTime": {
     "end_time": "2021-04-20T12:29:24.861389Z",
     "start_time": "2021-04-20T12:29:24.835372Z"
    }
   },
   "outputs": [],
   "source": [
    "df_country = df_country[df_country['happy'] <= 10]"
   ]
  },
  {
   "cell_type": "code",
   "execution_count": 17,
   "metadata": {
    "ExecuteTime": {
     "end_time": "2021-04-20T12:29:25.422918Z",
     "start_time": "2021-04-20T12:29:25.185003Z"
    }
   },
   "outputs": [],
   "source": [
    "from geopy.exc import GeocoderTimedOut\n",
    "from geopy.geocoders import Nominatim\n",
    "from tqdm import tqdm"
   ]
  },
  {
   "cell_type": "code",
   "execution_count": 166,
   "metadata": {
    "ExecuteTime": {
     "end_time": "2021-04-20T00:07:06.917667Z",
     "start_time": "2021-04-20T00:07:06.903658Z"
    }
   },
   "outputs": [],
   "source": [
    "longitude = []\n",
    "latitude = []\n",
    "   \n",
    "# function to find the coordinate of a given city \n",
    "def findGeocode(city):\n",
    "       \n",
    "    # try and catch is used to overcome\n",
    "    # the exception thrown by geolocator\n",
    "    # using geocodertimedout  \n",
    "    try:\n",
    "          \n",
    "        # Specify the user_agent as your\n",
    "        # app name it should not be none\n",
    "        geolocator = Nominatim(user_agent=\"your_app_name\")\n",
    "          \n",
    "        return geolocator.geocode(city)\n",
    "      \n",
    "    except GeocoderTimedOut:\n",
    "          \n",
    "        return findGeocode(city)    \n",
    "  "
   ]
  },
  {
   "cell_type": "code",
   "execution_count": 167,
   "metadata": {
    "ExecuteTime": {
     "end_time": "2021-04-20T00:07:08.292841Z",
     "start_time": "2021-04-20T00:07:08.274868Z"
    }
   },
   "outputs": [],
   "source": [
    "countries = df_country['cntry'].unique().tolist()"
   ]
  },
  {
   "cell_type": "code",
   "execution_count": 156,
   "metadata": {
    "ExecuteTime": {
     "end_time": "2021-04-19T22:52:15.582911Z",
     "start_time": "2021-04-19T22:51:29.081721Z"
    }
   },
   "outputs": [
    {
     "name": "stderr",
     "output_type": "stream",
     "text": [
      "100%|██████████████████████████████████████████████████████████████████████████████████| 29/29 [00:46<00:00,  1.60s/it]\n"
     ]
    }
   ],
   "source": [
    "for i in tqdm(countries):\n",
    "      \n",
    "    if findGeocode(i) != None:\n",
    "           \n",
    "        loc = findGeocode(i)\n",
    "          \n",
    "        # coordinates returned from \n",
    "        # function is stored into\n",
    "        # two separate list\n",
    "        latitude.append(loc.latitude)\n",
    "        longitude.append(loc.longitude)\n",
    "       \n",
    "    # if coordinate for a city not\n",
    "    # found, insert \"NaN\" indicating \n",
    "    # missing value \n",
    "    else:\n",
    "        latitude.append(np.nan)\n",
    "        longitude.append(np.nan)"
   ]
  },
  {
   "cell_type": "code",
   "execution_count": 159,
   "metadata": {
    "ExecuteTime": {
     "end_time": "2021-04-19T22:53:26.454629Z",
     "start_time": "2021-04-19T22:53:26.446626Z"
    }
   },
   "outputs": [],
   "source": [
    "df_country_latlon = pd.DataFrame({'cntry': countries,\n",
    "                                  'latitude': latitude,\n",
    "                                  'longitude': longitude})"
   ]
  },
  {
   "cell_type": "code",
   "execution_count": 198,
   "metadata": {
    "ExecuteTime": {
     "end_time": "2021-04-20T00:27:51.922013Z",
     "start_time": "2021-04-20T00:27:51.884986Z"
    }
   },
   "outputs": [
    {
     "data": {
      "text/html": [
       "<div>\n",
       "<style scoped>\n",
       "    .dataframe tbody tr th:only-of-type {\n",
       "        vertical-align: middle;\n",
       "    }\n",
       "\n",
       "    .dataframe tbody tr th {\n",
       "        vertical-align: top;\n",
       "    }\n",
       "\n",
       "    .dataframe thead th {\n",
       "        text-align: right;\n",
       "    }\n",
       "</style>\n",
       "<table border=\"1\" class=\"dataframe\">\n",
       "  <thead>\n",
       "    <tr style=\"text-align: right;\">\n",
       "      <th></th>\n",
       "      <th>cntry</th>\n",
       "      <th>happy</th>\n",
       "      <th>latitude</th>\n",
       "      <th>longitude</th>\n",
       "    </tr>\n",
       "  </thead>\n",
       "  <tbody>\n",
       "    <tr>\n",
       "      <th>0</th>\n",
       "      <td>Albania</td>\n",
       "      <td>8</td>\n",
       "      <td>41.000028</td>\n",
       "      <td>19.999962</td>\n",
       "    </tr>\n",
       "    <tr>\n",
       "      <th>1</th>\n",
       "      <td>Albania</td>\n",
       "      <td>0</td>\n",
       "      <td>41.000028</td>\n",
       "      <td>19.999962</td>\n",
       "    </tr>\n",
       "    <tr>\n",
       "      <th>2</th>\n",
       "      <td>Albania</td>\n",
       "      <td>5</td>\n",
       "      <td>41.000028</td>\n",
       "      <td>19.999962</td>\n",
       "    </tr>\n",
       "    <tr>\n",
       "      <th>3</th>\n",
       "      <td>Albania</td>\n",
       "      <td>4</td>\n",
       "      <td>41.000028</td>\n",
       "      <td>19.999962</td>\n",
       "    </tr>\n",
       "    <tr>\n",
       "      <th>4</th>\n",
       "      <td>Albania</td>\n",
       "      <td>7</td>\n",
       "      <td>41.000028</td>\n",
       "      <td>19.999962</td>\n",
       "    </tr>\n",
       "  </tbody>\n",
       "</table>\n",
       "</div>"
      ],
      "text/plain": [
       "     cntry  happy   latitude  longitude\n",
       "0  Albania      8  41.000028  19.999962\n",
       "1  Albania      0  41.000028  19.999962\n",
       "2  Albania      5  41.000028  19.999962\n",
       "3  Albania      4  41.000028  19.999962\n",
       "4  Albania      7  41.000028  19.999962"
      ]
     },
     "execution_count": 198,
     "metadata": {},
     "output_type": "execute_result"
    }
   ],
   "source": [
    "df_country = pd.merge(df_country, df_country_latlon)\n",
    "df_country.head()"
   ]
  },
  {
   "cell_type": "code",
   "execution_count": 202,
   "metadata": {
    "ExecuteTime": {
     "end_time": "2021-04-20T00:29:45.852836Z",
     "start_time": "2021-04-20T00:29:45.820822Z"
    },
    "scrolled": true
   },
   "outputs": [],
   "source": [
    "df_country.groupby(['cntry', 'latitude', 'longitude'],\n",
    "                   as_index=False)['happy'].mean().to_csv('datasets/country_happiness.csv', index=False)"
   ]
  },
  {
   "cell_type": "code",
   "execution_count": null,
   "metadata": {},
   "outputs": [],
   "source": []
  },
  {
   "cell_type": "code",
   "execution_count": null,
   "metadata": {},
   "outputs": [],
   "source": []
  },
  {
   "cell_type": "code",
   "execution_count": null,
   "metadata": {},
   "outputs": [],
   "source": []
  },
  {
   "cell_type": "code",
   "execution_count": null,
   "metadata": {},
   "outputs": [],
   "source": []
  },
  {
   "cell_type": "code",
   "execution_count": null,
   "metadata": {},
   "outputs": [],
   "source": []
  },
  {
   "cell_type": "code",
   "execution_count": null,
   "metadata": {},
   "outputs": [],
   "source": []
  }
 ],
 "metadata": {
  "hide_input": false,
  "kernelspec": {
   "display_name": "Python 3",
   "language": "python",
   "name": "python3"
  },
  "language_info": {
   "codemirror_mode": {
    "name": "ipython",
    "version": 3
   },
   "file_extension": ".py",
   "mimetype": "text/x-python",
   "name": "python",
   "nbconvert_exporter": "python",
   "pygments_lexer": "ipython3",
   "version": "3.8.3"
  },
  "toc": {
   "base_numbering": 1,
   "nav_menu": {},
   "number_sections": true,
   "sideBar": true,
   "skip_h1_title": false,
   "title_cell": "Table of Contents",
   "title_sidebar": "Contents",
   "toc_cell": false,
   "toc_position": {
    "height": "calc(100% - 180px)",
    "left": "10px",
    "top": "150px",
    "width": "383.977px"
   },
   "toc_section_display": true,
   "toc_window_display": true
  },
  "varInspector": {
   "cols": {
    "lenName": 16,
    "lenType": 16,
    "lenVar": 40
   },
   "kernels_config": {
    "python": {
     "delete_cmd_postfix": "",
     "delete_cmd_prefix": "del ",
     "library": "var_list.py",
     "varRefreshCmd": "print(var_dic_list())"
    },
    "r": {
     "delete_cmd_postfix": ") ",
     "delete_cmd_prefix": "rm(",
     "library": "var_list.r",
     "varRefreshCmd": "cat(var_dic_list()) "
    }
   },
   "types_to_exclude": [
    "module",
    "function",
    "builtin_function_or_method",
    "instance",
    "_Feature"
   ],
   "window_display": false
  }
 },
 "nbformat": 4,
 "nbformat_minor": 4
}
