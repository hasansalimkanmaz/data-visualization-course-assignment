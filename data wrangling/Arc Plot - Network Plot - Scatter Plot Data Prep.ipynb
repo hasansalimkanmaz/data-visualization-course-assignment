{
 "cells": [
  {
   "cell_type": "code",
   "execution_count": 1,
   "id": "ambient-studio",
   "metadata": {
    "ExecuteTime": {
     "end_time": "2021-05-25T18:57:46.987681Z",
     "start_time": "2021-05-25T18:57:46.407837Z"
    }
   },
   "outputs": [],
   "source": [
    "import pandas as pd"
   ]
  },
  {
   "cell_type": "code",
   "execution_count": 5,
   "id": "average-clone",
   "metadata": {
    "ExecuteTime": {
     "end_time": "2021-05-25T18:58:30.008361Z",
     "start_time": "2021-05-25T18:58:29.516367Z"
    }
   },
   "outputs": [
    {
     "data": {
      "text/html": [
       "<div>\n",
       "<style scoped>\n",
       "    .dataframe tbody tr th:only-of-type {\n",
       "        vertical-align: middle;\n",
       "    }\n",
       "\n",
       "    .dataframe tbody tr th {\n",
       "        vertical-align: top;\n",
       "    }\n",
       "\n",
       "    .dataframe thead th {\n",
       "        text-align: right;\n",
       "    }\n",
       "</style>\n",
       "<table border=\"1\" class=\"dataframe\">\n",
       "  <thead>\n",
       "    <tr style=\"text-align: right;\">\n",
       "      <th></th>\n",
       "      <th>cntry</th>\n",
       "      <th>sclmeet</th>\n",
       "      <th>inprdsc</th>\n",
       "      <th>aesfdrk</th>\n",
       "      <th>health</th>\n",
       "      <th>hlthhmp</th>\n",
       "      <th>sclact</th>\n",
       "      <th>crmvct</th>\n",
       "      <th>fltsd</th>\n",
       "      <th>fltdpr</th>\n",
       "      <th>...</th>\n",
       "      <th>sedirlf</th>\n",
       "      <th>wrbknrm</th>\n",
       "      <th>uempla</th>\n",
       "      <th>uempli</th>\n",
       "      <th>Sadness</th>\n",
       "      <th>Enthusiasm</th>\n",
       "      <th>Happiness</th>\n",
       "      <th>Optimism</th>\n",
       "      <th>Trust</th>\n",
       "      <th>Helpful</th>\n",
       "    </tr>\n",
       "  </thead>\n",
       "  <tbody>\n",
       "    <tr>\n",
       "      <th>0</th>\n",
       "      <td>Albania</td>\n",
       "      <td>Once a week</td>\n",
       "      <td>3</td>\n",
       "      <td>Very safe</td>\n",
       "      <td>Fair</td>\n",
       "      <td>No</td>\n",
       "      <td>About the same</td>\n",
       "      <td>Less than most</td>\n",
       "      <td>Some of the time</td>\n",
       "      <td>Most of the time</td>\n",
       "      <td>...</td>\n",
       "      <td>3</td>\n",
       "      <td>Disagree</td>\n",
       "      <td>0</td>\n",
       "      <td>0</td>\n",
       "      <td>Some of the time</td>\n",
       "      <td>8</td>\n",
       "      <td>7</td>\n",
       "      <td>Agree</td>\n",
       "      <td>2</td>\n",
       "      <td>3</td>\n",
       "    </tr>\n",
       "    <tr>\n",
       "      <th>1</th>\n",
       "      <td>Albania</td>\n",
       "      <td>Once a month</td>\n",
       "      <td>1</td>\n",
       "      <td>Unsafe</td>\n",
       "      <td>Good</td>\n",
       "      <td>No</td>\n",
       "      <td>Less than most</td>\n",
       "      <td>Less than most</td>\n",
       "      <td>All or almost all of the time</td>\n",
       "      <td>All or almost all of the time</td>\n",
       "      <td>...</td>\n",
       "      <td>10</td>\n",
       "      <td>Agree</td>\n",
       "      <td>1</td>\n",
       "      <td>0</td>\n",
       "      <td>Most of the time</td>\n",
       "      <td>6</td>\n",
       "      <td>0</td>\n",
       "      <td>Agree strongly</td>\n",
       "      <td>0</td>\n",
       "      <td>3</td>\n",
       "    </tr>\n",
       "    <tr>\n",
       "      <th>2</th>\n",
       "      <td>Albania</td>\n",
       "      <td>Every day</td>\n",
       "      <td>10 or more</td>\n",
       "      <td>Unsafe</td>\n",
       "      <td>Very good</td>\n",
       "      <td>No</td>\n",
       "      <td>About the same</td>\n",
       "      <td>Much less than most</td>\n",
       "      <td>Some of the time</td>\n",
       "      <td>Some of the time</td>\n",
       "      <td>...</td>\n",
       "      <td>10</td>\n",
       "      <td>Disagree strongly</td>\n",
       "      <td>0</td>\n",
       "      <td>0</td>\n",
       "      <td>Some of the time</td>\n",
       "      <td>8</td>\n",
       "      <td>5</td>\n",
       "      <td>Agree strongly</td>\n",
       "      <td>4</td>\n",
       "      <td>3</td>\n",
       "    </tr>\n",
       "    <tr>\n",
       "      <th>3</th>\n",
       "      <td>Albania</td>\n",
       "      <td>Several times a week</td>\n",
       "      <td>2</td>\n",
       "      <td>Very safe</td>\n",
       "      <td>Fair</td>\n",
       "      <td>No</td>\n",
       "      <td>About the same</td>\n",
       "      <td>Less than most</td>\n",
       "      <td>Most of the time</td>\n",
       "      <td>Some of the time</td>\n",
       "      <td>...</td>\n",
       "      <td>88</td>\n",
       "      <td>Agree strongly</td>\n",
       "      <td>0</td>\n",
       "      <td>0</td>\n",
       "      <td>Some of the time</td>\n",
       "      <td>99</td>\n",
       "      <td>2</td>\n",
       "      <td>Agree</td>\n",
       "      <td>6</td>\n",
       "      <td>9</td>\n",
       "    </tr>\n",
       "    <tr>\n",
       "      <th>4</th>\n",
       "      <td>Albania</td>\n",
       "      <td>Several times a month</td>\n",
       "      <td>None</td>\n",
       "      <td>Safe</td>\n",
       "      <td>Fair</td>\n",
       "      <td>No</td>\n",
       "      <td>Less than most</td>\n",
       "      <td>Less than most</td>\n",
       "      <td>Most of the time</td>\n",
       "      <td>Some of the time</td>\n",
       "      <td>...</td>\n",
       "      <td>10</td>\n",
       "      <td>Agree</td>\n",
       "      <td>0</td>\n",
       "      <td>0</td>\n",
       "      <td>Some of the time</td>\n",
       "      <td>9</td>\n",
       "      <td>6</td>\n",
       "      <td>Agree</td>\n",
       "      <td>6</td>\n",
       "      <td>5</td>\n",
       "    </tr>\n",
       "  </tbody>\n",
       "</table>\n",
       "<p>5 rows × 57 columns</p>\n",
       "</div>"
      ],
      "text/plain": [
       "     cntry                sclmeet     inprdsc    aesfdrk     health hlthhmp  \\\n",
       "0  Albania            Once a week           3  Very safe       Fair      No   \n",
       "1  Albania           Once a month           1     Unsafe       Good      No   \n",
       "2  Albania              Every day  10 or more     Unsafe  Very good      No   \n",
       "3  Albania   Several times a week           2  Very safe       Fair      No   \n",
       "4  Albania  Several times a month        None       Safe       Fair      No   \n",
       "\n",
       "           sclact               crmvct                          fltsd  \\\n",
       "0  About the same       Less than most               Some of the time   \n",
       "1  Less than most       Less than most  All or almost all of the time   \n",
       "2  About the same  Much less than most               Some of the time   \n",
       "3  About the same       Less than most               Most of the time   \n",
       "4  Less than most       Less than most               Most of the time   \n",
       "\n",
       "                          fltdpr  ... sedirlf            wrbknrm uempla  \\\n",
       "0               Most of the time  ...       3           Disagree      0   \n",
       "1  All or almost all of the time  ...      10              Agree      1   \n",
       "2               Some of the time  ...      10  Disagree strongly      0   \n",
       "3               Some of the time  ...      88     Agree strongly      0   \n",
       "4               Some of the time  ...      10              Agree      0   \n",
       "\n",
       "  uempli           Sadness  Enthusiasm  Happiness        Optimism  Trust  \\\n",
       "0      0  Some of the time           8          7           Agree      2   \n",
       "1      0  Most of the time           6          0  Agree strongly      0   \n",
       "2      0  Some of the time           8          5  Agree strongly      4   \n",
       "3      0  Some of the time          99          2           Agree      6   \n",
       "4      0  Some of the time           9          6           Agree      6   \n",
       "\n",
       "  Helpful  \n",
       "0       3  \n",
       "1       3  \n",
       "2       3  \n",
       "3       9  \n",
       "4       5  \n",
       "\n",
       "[5 rows x 57 columns]"
      ]
     },
     "execution_count": 5,
     "metadata": {},
     "output_type": "execute_result"
    }
   ],
   "source": [
    "df = pd.read_csv('datasets/df_abt.csv')\n",
    "df.head()"
   ]
  },
  {
   "cell_type": "markdown",
   "id": "professional-motor",
   "metadata": {},
   "source": [
    "## Export Scatter Plot Data"
   ]
  },
  {
   "cell_type": "code",
   "execution_count": 8,
   "id": "declared-moderator",
   "metadata": {
    "ExecuteTime": {
     "end_time": "2021-05-25T18:59:40.934742Z",
     "start_time": "2021-05-25T18:59:40.863334Z"
    }
   },
   "outputs": [],
   "source": [
    "df_trstprl_happiness = df[[\"trstprl\", \"Happiness\"]]\n",
    "df_trstprl_happiness.to_csv('datasets/df_trstprl_happiness.csv', index=False)"
   ]
  },
  {
   "cell_type": "markdown",
   "id": "equal-confidence",
   "metadata": {},
   "source": [
    "## Create dataset for arc plot"
   ]
  },
  {
   "cell_type": "code",
   "execution_count": 9,
   "id": "adapted-halifax",
   "metadata": {
    "ExecuteTime": {
     "end_time": "2021-05-25T20:42:05.426486Z",
     "start_time": "2021-05-25T20:42:05.422226Z"
    }
   },
   "outputs": [],
   "source": [
    "group_mapping = {\n",
    "    \"trstplt\": 0,\n",
    "    \"trstprl\": 1,\n",
    "    \"trstlgl\": 2,\n",
    "    \"trstplc\": 3,\n",
    "    \"Happiness\": 4,\n",
    "    \"trstprt\": 5,\n",
    "    \"trstep\": 6,\n",
    "    \"trstun\": 7\n",
    "}"
   ]
  },
  {
   "cell_type": "code",
   "execution_count": 10,
   "id": "executive-reason",
   "metadata": {
    "ExecuteTime": {
     "end_time": "2021-05-25T20:42:17.384967Z",
     "start_time": "2021-05-25T20:42:17.379995Z"
    }
   },
   "outputs": [],
   "source": [
    "ess = {}\n",
    "ess[\"nodes\"] = []\n",
    "for k, v in group_mapping.items():\n",
    "    for i in range(11):\n",
    "        ess[\"nodes\"].append({\"name\": f\"{k}_{i}\", \"group\": v, \"index\": v*11+i})"
   ]
  },
  {
   "cell_type": "code",
   "execution_count": 11,
   "id": "hybrid-aaron",
   "metadata": {
    "ExecuteTime": {
     "end_time": "2021-05-25T20:42:19.243574Z",
     "start_time": "2021-05-25T20:42:19.090297Z"
    }
   },
   "outputs": [],
   "source": [
    "columns_to_filter = group_mapping.keys()\n",
    "cleaned_df = df.copy()\n",
    "for col in columns_to_filter:\n",
    "    cleaned_df = cleaned_df[cleaned_df[col] < 11]"
   ]
  },
  {
   "cell_type": "code",
   "execution_count": 12,
   "id": "alpha-ridge",
   "metadata": {
    "ExecuteTime": {
     "end_time": "2021-05-25T20:42:35.551821Z",
     "start_time": "2021-05-25T20:42:28.685169Z"
    }
   },
   "outputs": [],
   "source": [
    "from collections import defaultdict\n",
    "\n",
    "links = defaultdict(int)\n",
    "trst_cols = [col for col in columns_to_filter if col != \"Happiness\"]\n",
    "for i, row in cleaned_df.iterrows():\n",
    "    for col in trst_cols:\n",
    "        links[f\"{col}_{row[col]}_{row['Happiness']}\"] += 1 "
   ]
  },
  {
   "cell_type": "code",
   "execution_count": 13,
   "id": "infectious-wheat",
   "metadata": {
    "ExecuteTime": {
     "end_time": "2021-05-25T20:42:41.751901Z",
     "start_time": "2021-05-25T20:42:41.747982Z"
    }
   },
   "outputs": [],
   "source": [
    "node_to_index_mapping = {node[\"name\"]: node[\"index\"] for node in ess[\"nodes\"]}\n",
    "happiness_val_index_mapping = {f\"Happiness_{i}\": 44+i for i in range(11)}"
   ]
  },
  {
   "cell_type": "code",
   "execution_count": 14,
   "id": "accepting-hygiene",
   "metadata": {
    "ExecuteTime": {
     "end_time": "2021-05-25T20:42:50.992364Z",
     "start_time": "2021-05-25T20:42:50.984291Z"
    }
   },
   "outputs": [],
   "source": [
    "import random\n",
    "# format links for vega\n",
    "formatted_links = []\n",
    "for k, v in links.items():\n",
    "    trst_col, trust_val, happiness_val = k.split(\"_\")\n",
    "    formatted_links.append({'source': node_to_index_mapping[f\"{trst_col}_{trust_val}\"], \n",
    "                            'target': node_to_index_mapping[f\"Happiness_{happiness_val}\"], \n",
    "                            'value': v/100})\n",
    "\n",
    "ess[\"links\"] = formatted_links"
   ]
  },
  {
   "cell_type": "code",
   "execution_count": 16,
   "id": "mechanical-baghdad",
   "metadata": {
    "ExecuteTime": {
     "end_time": "2021-05-25T20:43:58.448669Z",
     "start_time": "2021-05-25T20:43:58.419132Z"
    }
   },
   "outputs": [],
   "source": [
    "with open(\"./datasets/arc_plot_trst_vs_happiness.json\", \"w+\") as f:\n",
    "    json.dump(ess, f)"
   ]
  },
  {
   "cell_type": "markdown",
   "id": "active-agenda",
   "metadata": {},
   "source": [
    "## Create Undirected Dataset"
   ]
  },
  {
   "cell_type": "code",
   "execution_count": 17,
   "id": "undefined-newark",
   "metadata": {
    "ExecuteTime": {
     "end_time": "2021-05-25T20:44:41.495189Z",
     "start_time": "2021-05-25T20:44:41.490550Z"
    }
   },
   "outputs": [],
   "source": [
    "ess_network = {}\n",
    "ess_network[\"nodes\"] = []\n",
    "for k, v in group_mapping.items():\n",
    "    for i in range(11):\n",
    "        ess_network[\"nodes\"].append({\"name\": f\"{k}_{i}\", \"group\": v, \"index\": v*11+i})"
   ]
  },
  {
   "cell_type": "code",
   "execution_count": 18,
   "id": "adapted-sympathy",
   "metadata": {
    "ExecuteTime": {
     "end_time": "2021-05-25T20:45:10.635146Z",
     "start_time": "2021-05-25T20:44:44.083427Z"
    }
   },
   "outputs": [],
   "source": [
    "links = defaultdict(int)\n",
    "trst_cols = [col for col in columns_to_filter if col != \"Happiness\"]\n",
    "for _, row in cleaned_df.iterrows():\n",
    "    for i, col_i in enumerate(columns_to_filter):\n",
    "        for j, col_j in enumerate(columns_to_filter):\n",
    "            if j > i:\n",
    "                links[f\"{col_i}_{row[col_i]}__{col_j}_{row[col_j]}\"] += 1 \n",
    "                links[f\"{col_j}_{row[col_j]}__{col_i}_{row[col_i]}\"] += 1 \n",
    "\n",
    "for link in links:\n",
    "    links[link] /= 2"
   ]
  },
  {
   "cell_type": "code",
   "execution_count": 19,
   "id": "assisted-bulletin",
   "metadata": {
    "ExecuteTime": {
     "end_time": "2021-05-25T20:45:26.989026Z",
     "start_time": "2021-05-25T20:45:26.890738Z"
    }
   },
   "outputs": [],
   "source": [
    "formatted_links = []\n",
    "for k, v in links.items():\n",
    "    source, target = k.split(\"__\")\n",
    "    if v > 75:  # This reveals some interpretation\n",
    "        formatted_links.append({'source': node_to_index_mapping[source], 'target': node_to_index_mapping[target], 'value': v})\n",
    "    \n",
    "ess_network[\"links\"] = formatted_links\n",
    "\n",
    "with open(\"./datasets/network_plot_undirected_dataset.json\", \"w+\") as f:\n",
    "    json.dump(ess_network, f)"
   ]
  },
  {
   "cell_type": "code",
   "execution_count": null,
   "id": "acute-wrestling",
   "metadata": {},
   "outputs": [],
   "source": []
  }
 ],
 "metadata": {
  "kernelspec": {
   "display_name": "Python 3",
   "language": "python",
   "name": "python3"
  },
  "language_info": {
   "codemirror_mode": {
    "name": "ipython",
    "version": 3
   },
   "file_extension": ".py",
   "mimetype": "text/x-python",
   "name": "python",
   "nbconvert_exporter": "python",
   "pygments_lexer": "ipython3",
   "version": "3.8.6"
  },
  "toc": {
   "base_numbering": 1,
   "nav_menu": {},
   "number_sections": true,
   "sideBar": true,
   "skip_h1_title": false,
   "title_cell": "Table of Contents",
   "title_sidebar": "Contents",
   "toc_cell": false,
   "toc_position": {},
   "toc_section_display": true,
   "toc_window_display": false
  },
  "varInspector": {
   "cols": {
    "lenName": 16,
    "lenType": 16,
    "lenVar": 40
   },
   "kernels_config": {
    "python": {
     "delete_cmd_postfix": "",
     "delete_cmd_prefix": "del ",
     "library": "var_list.py",
     "varRefreshCmd": "print(var_dic_list())"
    },
    "r": {
     "delete_cmd_postfix": ") ",
     "delete_cmd_prefix": "rm(",
     "library": "var_list.r",
     "varRefreshCmd": "cat(var_dic_list()) "
    }
   },
   "types_to_exclude": [
    "module",
    "function",
    "builtin_function_or_method",
    "instance",
    "_Feature"
   ],
   "window_display": false
  }
 },
 "nbformat": 4,
 "nbformat_minor": 5
}
